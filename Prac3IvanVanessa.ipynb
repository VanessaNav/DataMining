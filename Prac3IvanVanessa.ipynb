{
 "cells": [
  {
   "cell_type": "markdown",
   "metadata": {},
   "source": [
    "#### Vanessa Navarro Coronado e Iván Sánchez Castellanos"
   ]
  },
  {
   "cell_type": "markdown",
   "metadata": {},
   "source": [
    "# Práctica 3: Multiclasificadores y selección de variables"
   ]
  },
  {
   "cell_type": "markdown",
   "metadata": {},
   "source": [
    "En esta práctica vamos a implementar un ensemble genérico, y comparar sus resultados con los obtenidos con los ensembles de la librería de scikit, además del clasificador base DecisionTree.\n",
    "\n",
    "Además, también utilizaremos distintas técnicas de selección de variables, y las intentaremos aplicar en nuestro ensemble para comprobar si los resultados mejoran."
   ]
  },
  {
   "cell_type": "code",
   "execution_count": 1,
   "metadata": {},
   "outputs": [],
   "source": [
    "# Always load all scipy stack packages\n",
    "import numpy as np\n",
    "import pandas as pd\n",
    "from scipy import stats, integrate\n",
    "import matplotlib as mpl\n",
    "import matplotlib.pyplot as plt\n",
    "# Cargamos el arbol de decision\n",
    "from sklearn import tree, base\n",
    "from sklearn.model_selection import cross_val_score, StratifiedKFold, train_test_split\n",
    "import random\n",
    "\n",
    "import seaborn as sns\n",
    "sns.set(color_codes=True)"
   ]
  },
  {
   "cell_type": "code",
   "execution_count": 2,
   "metadata": {},
   "outputs": [],
   "source": [
    "# This code configures matplotlib for proper rendering\n",
    "%matplotlib inline\n",
    "mpl.rcParams[\"figure.figsize\"] = \"8, 4\"\n",
    "import warnings\n",
    "warnings.simplefilter(\"ignore\")"
   ]
  },
  {
   "cell_type": "code",
   "execution_count": 3,
   "metadata": {},
   "outputs": [],
   "source": [
    "seed=6342\n",
    "np.random.seed(seed)"
   ]
  },
  {
   "cell_type": "markdown",
   "metadata": {},
   "source": [
    "## Carga de datos"
   ]
  },
  {
   "cell_type": "markdown",
   "metadata": {},
   "source": [
    "Cargamos el dataset Wisconsin de la librería scikit."
   ]
  },
  {
   "cell_type": "code",
   "execution_count": 4,
   "metadata": {},
   "outputs": [],
   "source": [
    "from sklearn.datasets import load_breast_cancer\n",
    "wisconsin = load_breast_cancer()"
   ]
  },
  {
   "cell_type": "markdown",
   "metadata": {},
   "source": [
    "Separamos en dataset en atributos y clase, pero esta vez utilizaremos las versiones numéricas de los datos."
   ]
  },
  {
   "cell_type": "code",
   "execution_count": 5,
   "metadata": {},
   "outputs": [],
   "source": [
    "attributesWisc = wisconsin.data\n",
    "labelWisc = wisconsin.target"
   ]
  },
  {
   "cell_type": "markdown",
   "metadata": {},
   "source": [
    "Para el dataset Pima, no podemos usar el que proporciona scikit porque es para un problema de regresión, por lo que no lo incluiremos. Sin embargo, si hubiera que incluirlo, lo cargaríamos desde un csv."
   ]
  },
  {
   "cell_type": "markdown",
   "metadata": {},
   "source": [
    "# 1. Implementación básica de un ensemble de manera manual"
   ]
  },
  {
   "cell_type": "markdown",
   "metadata": {},
   "source": [
    "Para implementar un ensemble de forma similar a los ensembles de la librería Scikit, debemos crear una clase que herede de base.BaseEstimator, la cual ya presenta algunas funciones básicas como get_params y set_params, que son necesarias para su correcto funcionamiento.\n",
    "\n",
    "Una vez hecho esto, debemos inicializar los atributos de nuestro ensemble. Estos son:\n",
    "* estim: Estimador para el ensemble.\n",
    "* nEstim: Número de estimadores que usaremos en nuestro ensemble.\n",
    "* replace: Atributo booleano para indicar si el muestreo de los casos se realzará con reemplazo (True) o sin reemplazo (False). Por defecto, este atributo está inicializado a False.\n",
    "* attSample: Atributo booleano para indicar si se va a realizar muestreo de atributos (True) o no (False). Por defecto, este atributo está inicializado a False.\n",
    "* dataFrac: Fracción de los casos que tendremos en cuenta a la hora de realizar el muestreo. Por defecto, estará a un 60%.\n",
    "* attFrac: Fracción de los atributos que tendremos en cuenta a la hora de realizar el muestreo. Por defecto, estará a un 80%.\n",
    "* randomState: Semilla que usaremos para los muestreos.\n",
    "* models: Vector de modelos del ensemble.\n",
    "* atts: Vector de atributos a tener en cuenta.\n",
    "* predictions: Vector de predicciones realizadas.\n",
    "\n",
    "La siguiente función a implementar es la función fit, que se encarga del entrenamiento de los estimadores de nuestro ensemble. Como resultado de dicho entrenamiento, cada modelo entrenado será almacenado en un vector de modelos. Esta función también se encarga de realizar los correspondientes muestreos tanto de casos como de atributos, previos al entrenamiento en sí de los modelos.\n",
    "\n",
    "La función predict se encarga de realizar una predicción con cada uno de los modelos aprendidos en la fase anterior. Cada una de las predicciones será almacenada en el vector de predicciones del ensemble, y posteriormente deberá realizar un voto por mayoría para devolver la clase mayoritaria en cada uno de los casos del dataset.\n",
    "\n",
    "\n",
    "Como vemos, nuestro ensemble es genérico, y similar al Bagging, ya que en cada iteración, realiza un muestreo de los casos, entrena un modelo con él, y por último genera una predicción."
   ]
  },
  {
   "cell_type": "code",
   "execution_count": 117,
   "metadata": {},
   "outputs": [],
   "source": [
    "class OurEnsemble(base.BaseEstimator):\n",
    "    \n",
    "    def __init__(self, estim, nEstim, randomState, dataFrac=0.6, replace=False, attSample=False, attFrac=0.8):\n",
    "        self.estim=estim #estimador\n",
    "        self.nEstim=nEstim #numero de estimadores\n",
    "        self.replace=replace #para indicar si el muestreo sera con reemplazo o sin reemplazo (sin reemplazo por defecto)\n",
    "        self.attSample=attSample #para indicar si haremos muestreo de atributos (por defecto esta desactivado)\n",
    "        self.dataFrac = dataFrac #porcentaje de casos para el muestreo (60% por defecto)\n",
    "        self.randomState=randomState #semilla para el muestreo\n",
    "        self.attFrac=attFrac #porcentaje de atributos que tendremos en cuenta (80% por defecto)\n",
    "        \n",
    "    def fit(self,trainAtts,trainLab): #funcion para entrenar los modelos\n",
    "        self.models=[] #vector de modelos\n",
    "        self.atts=[] #vector de atributos\n",
    "        \n",
    "        np.random.seed(self.randomState) #establecemos la semilla\n",
    "        \n",
    "        #convertir el dataset a un dataframe de pandas para que sea mas facil de manejar\n",
    "        trainAtts=pd.DataFrame(trainAtts) \n",
    "        trainLab=pd.DataFrame(trainLab)\n",
    "        \n",
    "        for n in range(0,self.nEstim):  \n",
    "            #hacer muestreo de los casos\n",
    "            trainAttsSample=trainAtts.sample(frac=self.dataFrac,replace=self.replace)\n",
    "            \n",
    "            #si esta activo el muestreo de atributos...\n",
    "            if self.attSample:\n",
    "                #almacenamos en una lista las columnas o atributos del dataset\n",
    "                #multiplicamos el procentaje de atributos a tener en cuenta por el numero total de atributos\n",
    "                #obtenemos una muestra de los atributos con la funcion random.choice\n",
    "                attMuestreo=np.random.choice(list(trainAtts.columns.values), \n",
    "                                             size=int(self.attFrac*len(trainAtts.columns)), \n",
    "                                             replace=False)\n",
    "                #añadimos los atributos resultantes del muestreo a nuestro vector de atributos\n",
    "                self.atts.append(attMuestreo)\n",
    "                \n",
    "                #nos quedamos con los casos del dataset cuyas columnas o atributos han sido elegidas en el muestreo de atributos\n",
    "                trainAttsSample=trainAttsSample[attMuestreo]\n",
    "                \n",
    "            #continuamos con el muestreo de los casos:\n",
    "            #ahora debemos coger los indices de los casos seleccionados en el muestreo, \n",
    "            #para poder coger esos mismos casos en las labels del dataset\n",
    "            trainLabelSample=trainLab.loc[trainAttsSample.index.values]\n",
    "            \n",
    "            #clonamos el estimador para que el objeto no sufra cambios al ir añadiendo el modelo aprendido al vector de modelos\n",
    "            e=base.clone(self.estim)\n",
    "            \n",
    "            #entrenamos el estimador con los muestreos de casos y de atributos realizados\n",
    "            e.fit(trainAttsSample,trainLabelSample)\n",
    "            \n",
    "            #añadimos el modelo entrenado al vector de modelos\n",
    "            self.models.append(e)\n",
    "            \n",
    "        \n",
    "    def predict(self,testAtts):\n",
    "        self.predictions=[] #vector de predicciones de cada modelo\n",
    "        \n",
    "        for n in range(0,self.nEstim):\n",
    "            #guardamos los atributos del test en una variable para no modificar el original\n",
    "            testAttsSample = testAtts\n",
    "            \n",
    "            #si el muestreo de atributos esta activado...\n",
    "            if self.attSample:\n",
    "                #seleccionamos todos los casos del test, pero solo cogemos los atributos obtenidos tras el muestreo correspondiente\n",
    "                testAttsSample=testAttsSample[:,self.atts[n]]\n",
    "            \n",
    "            #realizamos la prediccion con el modelo entrenado\n",
    "            pred=self.models[n].predict(testAttsSample)\n",
    "            #añadimos la prediccion a nuestro vector de predicciones\n",
    "            self.predictions.append(pred)\n",
    "        \n",
    "        #Para realizar la prediccion general, realizaremos un voto por mayoria de todas las prediciones, por eso usamos la moda\n",
    "        moda=stats.mode(self.predictions)\n",
    "        #devolvemos el resultado de aplicar la moda a las predicciones\n",
    "        return moda.mode[0]\n",
    "        \n",
    "        "
   ]
  },
  {
   "cell_type": "markdown",
   "metadata": {},
   "source": [
    "Una vez creado nuestro ensemble genérico, lo probamos."
   ]
  },
  {
   "cell_type": "code",
   "execution_count": 122,
   "metadata": {},
   "outputs": [],
   "source": [
    "ens = OurEnsemble(tree.DecisionTreeClassifier(random_state=seed), nEstim = 10, randomState=seed, attSample=True)"
   ]
  },
  {
   "cell_type": "code",
   "execution_count": 131,
   "metadata": {},
   "outputs": [
    {
     "name": "stdout",
     "output_type": "stream",
     "text": [
      "Accuracy Our Ensemble: 0.94 (+/- 0.05)\n"
     ]
    }
   ],
   "source": [
    "scores_ens = cross_val_score(ens, attributesWisc, labelWisc, cv=3, scoring=\"accuracy\")\n",
    "print(\"Accuracy Our Ensemble: %0.2f (+/- %0.2f)\" % (scores_ens.mean(), scores_ens.std() * 2))"
   ]
  },
  {
   "cell_type": "markdown",
   "metadata": {},
   "source": [
    "## 1.1. Árbol de decisión como referencia"
   ]
  },
  {
   "cell_type": "code",
   "execution_count": 125,
   "metadata": {},
   "outputs": [
    {
     "name": "stdout",
     "output_type": "stream",
     "text": [
      "Accuracy Tree: 0.91 (+/- 0.04)\n"
     ]
    }
   ],
   "source": [
    "dt = tree.DecisionTreeClassifier()\n",
    "scores_dt = cross_val_score(estimator=dt, X=attributesWisc, y=labelWisc, scoring=\"accuracy\", cv=3)\n",
    "print(\"Accuracy Tree: %0.2f (+/- %0.2f)\" % (scores_dt.mean(), scores_dt.std() * 2))"
   ]
  },
  {
   "cell_type": "markdown",
   "metadata": {},
   "source": [
    "## 1.2. Bagging"
   ]
  },
  {
   "cell_type": "code",
   "execution_count": 127,
   "metadata": {},
   "outputs": [],
   "source": [
    "from sklearn.ensemble import BaggingClassifier\n",
    "\n",
    "bagg = BaggingClassifier(tree.DecisionTreeClassifier(), n_estimators = 30, random_state=seed)"
   ]
  },
  {
   "cell_type": "code",
   "execution_count": 128,
   "metadata": {},
   "outputs": [
    {
     "name": "stdout",
     "output_type": "stream",
     "text": [
      "Accuracy Bagging: 0.93 (+/- 0.04)\n"
     ]
    }
   ],
   "source": [
    "scores_bagg = cross_val_score(bagg, attributesWisc, labelWisc, cv=3, scoring=\"accuracy\")\n",
    "print(\"Accuracy Bagging: %0.2f (+/- %0.2f)\" % (scores_bagg.mean(), scores_bagg.std() * 2))"
   ]
  },
  {
   "cell_type": "markdown",
   "metadata": {},
   "source": [
    "## 1.3. Random Forest"
   ]
  },
  {
   "cell_type": "code",
   "execution_count": 129,
   "metadata": {},
   "outputs": [],
   "source": [
    "from sklearn.ensemble import RandomForestClassifier\n",
    "rf = RandomForestClassifier(n_estimators=30, random_state=seed)"
   ]
  },
  {
   "cell_type": "code",
   "execution_count": 130,
   "metadata": {},
   "outputs": [
    {
     "name": "stdout",
     "output_type": "stream",
     "text": [
      "Accuracy Random Forest: 0.95 (+/- 0.03)\n"
     ]
    }
   ],
   "source": [
    "scores_rf = cross_val_score(rf, attributesWisc, labelWisc, cv=3, scoring=\"accuracy\")\n",
    "print(\"Accuracy Random Forest: %0.2f (+/- %0.2f)\" % (scores_rf.mean(), scores_rf.std() * 2))"
   ]
  },
  {
   "cell_type": "markdown",
   "metadata": {},
   "source": [
    "## 1.4. Boosting"
   ]
  },
  {
   "cell_type": "code",
   "execution_count": 133,
   "metadata": {},
   "outputs": [],
   "source": [
    "from sklearn.ensemble import AdaBoostClassifier\n",
    "#boost = AdaBoostClassifier(base_estimator=tree.DecisionTreeClassifier(), n_estimators=30, random_state=seed) #accuracy: 0.90 (+/- 0.08)\n",
    "boost = AdaBoostClassifier(base_estimator=tree.DecisionTreeClassifier(max_depth=3), n_estimators=30, random_state=seed)"
   ]
  },
  {
   "cell_type": "code",
   "execution_count": 134,
   "metadata": {},
   "outputs": [
    {
     "name": "stdout",
     "output_type": "stream",
     "text": [
      "Accuracy Boosting: 0.97 (+/- 0.03)\n"
     ]
    }
   ],
   "source": [
    "scores_boost = cross_val_score(boost, attributesWisc, labelWisc, cv=3, scoring=\"accuracy\")\n",
    "print(\"Accuracy Boosting: %0.2f (+/- %0.2f)\" % (scores_boost.mean(), scores_boost.std() * 2))"
   ]
  },
  {
   "cell_type": "markdown",
   "metadata": {},
   "source": [
    "## 1.5. Gradient Boosting"
   ]
  },
  {
   "cell_type": "code",
   "execution_count": 135,
   "metadata": {},
   "outputs": [],
   "source": [
    "from sklearn.ensemble import GradientBoostingClassifier\n",
    "gboost = GradientBoostingClassifier(n_estimators=30, random_state=seed)"
   ]
  },
  {
   "cell_type": "code",
   "execution_count": 136,
   "metadata": {},
   "outputs": [
    {
     "name": "stdout",
     "output_type": "stream",
     "text": [
      "Accuracy Gradient Boosting: 0.95 (+/- 0.03)\n"
     ]
    }
   ],
   "source": [
    "scores_gboost = cross_val_score(gboost, attributesWisc, labelWisc, cv=5, scoring=\"accuracy\")\n",
    "print(\"Accuracy Gradient Boosting: %0.2f (+/- %0.2f)\" % (scores_gboost.mean(), scores_gboost.std() * 2))"
   ]
  },
  {
   "cell_type": "markdown",
   "metadata": {},
   "source": [
    "## Comparación\n",
    "Ahora vamos a mostrar una comparativa de  los resultados obtenidos con nuestro ensemble, y los demás ensembles de scikit."
   ]
  },
  {
   "cell_type": "code",
   "execution_count": 137,
   "metadata": {},
   "outputs": [],
   "source": [
    "# How to make a HTML table!\n",
    "from IPython.display import display, HTML\n",
    "\n",
    "def printTable(list):\n",
    "    table = \"\"\"<table>%s</table>\"\"\"\n",
    "    row = \"\"\"<tr>%s</tr>\"\"\"\n",
    "    cell = \"\"\"<td>%s</td>\"\"\"\n",
    "    report =  table % ''.join([row % (cell % x[0] + cell % x[1]) for x in results])\n",
    "    display(HTML(report))\n",
    "    "
   ]
  },
  {
   "cell_type": "code",
   "execution_count": 138,
   "metadata": {},
   "outputs": [
    {
     "data": {
      "text/html": [
       "<table><tr><td>Decision Tree</td><td>0.910359231412</td></tr><tr><td>Bagging</td><td>0.934939199851</td></tr><tr><td>Random Forest</td><td>0.954311705189</td></tr><tr><td>Boosting</td><td>0.971864847303</td></tr><tr><td>Gradient Boosting</td><td>0.95444401693</td></tr><tr><td>Our Ensemble</td><td>0.942003156038</td></tr></table>"
      ],
      "text/plain": [
       "<IPython.core.display.HTML object>"
      ]
     },
     "metadata": {},
     "output_type": "display_data"
    }
   ],
   "source": [
    "results = ((\"Decision Tree\", scores_dt.mean()), \n",
    "           (\"Bagging\", scores_bagg.mean()), \n",
    "           (\"Random Forest\", scores_rf.mean()),\n",
    "           (\"Boosting\", scores_boost.mean()),\n",
    "           (\"Gradient Boosting\", scores_gboost.mean()),\n",
    "            (\"Our Ensemble\", scores_ens.mean()))\n",
    "\n",
    "printTable(results)"
   ]
  },
  {
   "cell_type": "markdown",
   "metadata": {},
   "source": [
    "Como vemos, el algoritmo Boosting sigue siendo el mejor, pero nuestro ensemble genérico supera al clasificador base, y también al Bagging."
   ]
  },
  {
   "cell_type": "markdown",
   "metadata": {},
   "source": [
    "# 2. Selección de variables"
   ]
  },
  {
   "cell_type": "markdown",
   "metadata": {},
   "source": [
    "## 2.1. Utilizar un método filter basado en rankings y la importancia de las variables para evaluar distintos subconjuntos"
   ]
  },
  {
   "cell_type": "markdown",
   "metadata": {},
   "source": [
    "Para realizar esta selección de variables, vamos usar una función de la librería de scikit llamada SelectKBest, que se encarga de seleccionar, de acuerdo a diferentes criterios, los K mejores atributos de un dataset determinado. Entre los criterios de selección que utiliza este algoritmo, están f_classif, que realiza un test F o ANOVA estadístico, chi2, que realiza el test de chi cuadrado, o mutual_info_classif, que selecciona las variables de acuerdo a su información mutua respecto a la clase. \n",
    "\n",
    "Para probarlo, vamos a llamar a la función con el criterio de Información Mutua, y vamos a decirle que nos devuelva un ranking de las 10 mejores variables. Una vez seleccionados los atributos, debemos llamar a la función fit_transform, para entrenar con los datos, y después seleccionar solo los K atributos elegidos con mayor score."
   ]
  },
  {
   "cell_type": "code",
   "execution_count": 139,
   "metadata": {},
   "outputs": [],
   "source": [
    "from sklearn.feature_selection import SelectKBest,f_classif, mutual_info_classif, chi2"
   ]
  },
  {
   "cell_type": "code",
   "execution_count": 140,
   "metadata": {},
   "outputs": [],
   "source": [
    "a=SelectKBest(score_func=mutual_info_classif, k=10)\n",
    "bestAttributesWisc = a.fit_transform(attributesWisc, labelWisc)"
   ]
  },
  {
   "cell_type": "markdown",
   "metadata": {},
   "source": [
    "Ahora vamos a usar un GridSearch para comprobar cuál es el criterio de selección que mejor score presentará. Para ello, vamos a crear un Pipeline, donde el primer paso será la selección de variables, y el segundo paso será nuestro ensemble. "
   ]
  },
  {
   "cell_type": "code",
   "execution_count": 141,
   "metadata": {},
   "outputs": [],
   "source": [
    "from sklearn.pipeline import Pipeline"
   ]
  },
  {
   "cell_type": "code",
   "execution_count": 142,
   "metadata": {},
   "outputs": [],
   "source": [
    "estimatorENS = Pipeline([(\"Ranker\", SelectKBest()),\n",
    "                      (\"Ensemble\", OurEnsemble(\n",
    "                          tree.DecisionTreeClassifier(random_state=seed), \n",
    "                          nEstim = 10, \n",
    "                          randomState=seed ) )])"
   ]
  },
  {
   "cell_type": "code",
   "execution_count": 143,
   "metadata": {},
   "outputs": [],
   "source": [
    "estimatorENS2 = Pipeline([(\"Ranker\", SelectKBest()),\n",
    "                      (\"Ensemble\", BaggingClassifier(tree.DecisionTreeClassifier(), n_estimators = 30, random_state=seed) )])"
   ]
  },
  {
   "cell_type": "markdown",
   "metadata": {},
   "source": [
    "Después creamos un objeto de la clase GridSearchCV, donde el estimador será nuestro pipeline, y su param_grid estará formado por los criterios de selección de variables f_classif, chi2 y mutual_info_classif, explicados anteriormente."
   ]
  },
  {
   "cell_type": "code",
   "execution_count": 144,
   "metadata": {},
   "outputs": [],
   "source": [
    "from sklearn.model_selection import GridSearchCV\n",
    "\n",
    "skb = GridSearchCV(\n",
    "    estimator = estimatorENS,\n",
    "    param_grid = \n",
    "        { 'Ranker__score_func' : [f_classif, chi2, mutual_info_classif], 'Ranker__k': [5,10] },\n",
    "    scoring = 'accuracy',\n",
    "    cv = StratifiedKFold(n_splits=10, shuffle=False, random_state=seed), \n",
    "    iid=False\n",
    ")"
   ]
  },
  {
   "cell_type": "markdown",
   "metadata": {},
   "source": [
    "Para llamar a las funciones fit y predict, primero debemos realizar la separación de nuestro dataset en Train y Test."
   ]
  },
  {
   "cell_type": "code",
   "execution_count": 145,
   "metadata": {},
   "outputs": [],
   "source": [
    "train_attsWisc, test_attsWisc, train_labelWisc, test_labelWisc = train_test_split( \n",
    "    attributesWisc,\n",
    "    labelWisc,\n",
    "    test_size=0.2,\n",
    "    random_state=seed,\n",
    "    stratify=labelWisc)"
   ]
  },
  {
   "cell_type": "markdown",
   "metadata": {},
   "source": [
    "Entrenamos y realizamos las predicciones, obteniendo el accuracy. Como vemos, ha mejorado considerablemente con respecto al comienzo de la práctica."
   ]
  },
  {
   "cell_type": "code",
   "execution_count": 146,
   "metadata": {},
   "outputs": [
    {
     "name": "stdout",
     "output_type": "stream",
     "text": [
      "Accuracy OurEnsemble + Ranker:\n"
     ]
    },
    {
     "data": {
      "text/plain": [
       "0.97368421052631582"
      ]
     },
     "execution_count": 146,
     "metadata": {},
     "output_type": "execute_result"
    }
   ],
   "source": [
    "import sklearn.metrics as metrics\n",
    "\n",
    "fitted=skb.fit(train_attsWisc, train_labelWisc)\n",
    "pred=skb.predict(test_attsWisc)\n",
    "print('Accuracy OurEnsemble + Ranker:')\n",
    "metrics.accuracy_score(test_labelWisc, pred)"
   ]
  },
  {
   "cell_type": "markdown",
   "metadata": {},
   "source": [
    "A continuación mostramos la mejor configuración de parámetros obtenida para el Ranker usando el GridSearch creado previamente. Esta es usar un número de variables k=10, y usar la función del test F como criterio de selección de variables."
   ]
  },
  {
   "cell_type": "code",
   "execution_count": 147,
   "metadata": {},
   "outputs": [
    {
     "name": "stdout",
     "output_type": "stream",
     "text": [
      "Mejor configuración de parámetros Ranker:\n"
     ]
    },
    {
     "data": {
      "text/plain": [
       "{'Ranker__k': 10,\n",
       " 'Ranker__score_func': <function sklearn.feature_selection.univariate_selection.f_classif>}"
      ]
     },
     "execution_count": 147,
     "metadata": {},
     "output_type": "execute_result"
    }
   ],
   "source": [
    "print('Mejor configuración de parámetros Ranker:')\n",
    "fitted.best_params_"
   ]
  },
  {
   "cell_type": "markdown",
   "metadata": {},
   "source": [
    "## 2.2. Implementar al menos un algoritmo de búsqueda recursiva wrapper"
   ]
  },
  {
   "cell_type": "markdown",
   "metadata": {},
   "source": [
    "Para implementar el Wrapper, debemos tener en cuenta que los subconjuntos de atributos que vamos a utilizar serán aleatorios, por lo que necesitaremos un atributo que nos diga cuándo parar de hacer iteraciones. Para ello, vamos a crear una clase que tendrá como atributos:\n",
    "* estim: Estimador que usaremos para aprender modelos y evaluar así los subconjuntos de variables.\n",
    "* nIter: Número de iteraciones que vamos a realizar. En cada iteración evaluaremos un subconjunto de variables distinto.\n",
    "* randomState: Semilla para la selección de atributos.\n",
    "* nAtts: Número de atributos que tendrán nuestros subconjuntos.\n",
    "* bestAtts: lista con los mejores atributos seleccionados.\n",
    "* maxScore: mejor score obtenido en la validación cruzada.\n",
    "\n",
    "Una vez inicializados los atributos, vamos a definir una función findBestAtts que se encargará de hacer la selección de variables. Primero realizamos un bucle for para realizar el muestreo de los atributos. El segundo bucle for es para obtener los scores de la validación cruzada realizada con nuestro estimador y el conjunto de atributos seleccionado. De esta validación cruzada, nos quedaremos con el subconjunto de variables que mejor score obtenga."
   ]
  },
  {
   "cell_type": "code",
   "execution_count": 154,
   "metadata": {},
   "outputs": [],
   "source": [
    "class OurWrapper(object):\n",
    "    def __init__(self, estim, nIter, randomState, nAtts):\n",
    "        self.estim=estim #estimador\n",
    "        self.nIter=nIter #numero de iteraciones a realizar o numero de subconjuntos de variables a analizar\n",
    "        self.randomState=randomState #semilla\n",
    "        self.nAtts=nAtts #numero de variables en el subconjunto\n",
    "        \n",
    "    def findBestAtts(self, trainAtts, trainLab):\n",
    "        self.bestAtts=[] #vector de mejores atributos encontrados\n",
    "        self.maxScore=0 #para ir guardando el mejor score obtenido\n",
    "        attMuestreo=[] #vector auxiliar para ir guardando los subconjuntos de variables obtenidos\n",
    "        \n",
    "        np.random.seed(self.randomState) #establecemos la semilla\n",
    "        \n",
    "        #bucle para realizar los subconjuntos aleatorios de atributos\n",
    "        for i in range(0,self.nIter):\n",
    "            attMuestreo.append(np.random.choice(range(0,trainAtts.shape[1]), \n",
    "                                                size=self.nAtts, \n",
    "                                                replace=False))\n",
    "            #print(attMuestreo[i])\n",
    "        \n",
    "        #bucle para realizar la validacion cruzada con nuestro estimador y los atributos seleccionados\n",
    "        for i in range(0,self.nIter):\n",
    "            #el conjunto de train estara formado por todos los casos, pero solo analizando las variables elegidas\n",
    "            trainAttsSample=trainAtts[:,attMuestreo[i]]\n",
    "            \n",
    "            #realizamos una 5 validacion cruzada con el estimador y los datos con las variables seleccionadas\n",
    "            score=cross_val_score(self.estim, trainAttsSample, trainLab, cv=5, scoring=\"accuracy\")\n",
    "            \n",
    "            #nos quedamos con el subconjunto de atributos que mayor score haya obtenido\n",
    "            if score.mean()>self.maxScore:\n",
    "                self.maxScore=score.mean()\n",
    "                self.bestAtts=attMuestreo[i]\n",
    "            \n",
    "            \n",
    "        "
   ]
  },
  {
   "cell_type": "markdown",
   "metadata": {},
   "source": [
    "Ahora lo probamos usando nuestro ensemble y 10 subconjuntos de 10 atributos cada uno."
   ]
  },
  {
   "cell_type": "code",
   "execution_count": 159,
   "metadata": {},
   "outputs": [],
   "source": [
    "w=OurWrapper(OurEnsemble(tree.DecisionTreeClassifier(random_state=seed), \n",
    "                          nEstim = 10, \n",
    "                          randomState=seed ),\n",
    "            10,seed,10)\n",
    "w.findBestAtts(train_attsWisc,train_labelWisc)"
   ]
  },
  {
   "cell_type": "markdown",
   "metadata": {},
   "source": [
    "Mostramos el mejor subconjunto de atributos de nuestro dataset. En este caso los mejores atributos han sido aquellos que se encuentran en las columnas 21,  4,  5,  7, 20, 18, 24, 15, 17 y 19.\n"
   ]
  },
  {
   "cell_type": "code",
   "execution_count": 160,
   "metadata": {},
   "outputs": [
    {
     "data": {
      "text/plain": [
       "array([21,  4,  5,  7, 20, 18, 24, 15, 17, 19])"
      ]
     },
     "execution_count": 160,
     "metadata": {},
     "output_type": "execute_result"
    }
   ],
   "source": [
    "w.bestAtts"
   ]
  },
  {
   "cell_type": "markdown",
   "metadata": {},
   "source": [
    "Por último, mostramos el mejor score obtenido con la mejor combinación de atributos. En este caso, mejora muy poco con respecto al comienzo de la práctica, por lo que podemos concluir que lo mejor sería usar el ranker del apartado anterior."
   ]
  },
  {
   "cell_type": "code",
   "execution_count": 158,
   "metadata": {},
   "outputs": [
    {
     "data": {
      "text/plain": [
       "0.94725274725274722"
      ]
     },
     "execution_count": 158,
     "metadata": {},
     "output_type": "execute_result"
    }
   ],
   "source": [
    "w.maxScore"
   ]
  }
 ],
 "metadata": {
  "kernelspec": {
   "display_name": "Python 3",
   "language": "python",
   "name": "python3"
  },
  "language_info": {
   "codemirror_mode": {
    "name": "ipython",
    "version": 3
   },
   "file_extension": ".py",
   "mimetype": "text/x-python",
   "name": "python",
   "nbconvert_exporter": "python",
   "pygments_lexer": "ipython3",
   "version": "3.6.2"
  }
 },
 "nbformat": 4,
 "nbformat_minor": 2
}
