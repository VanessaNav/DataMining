{
 "cells": [
  {
   "cell_type": "markdown",
   "metadata": {},
   "source": [
    "** Vanessa Navarro e Iván Sánchez ** (Apuntes prac1)"
   ]
  },
  {
   "cell_type": "markdown",
   "metadata": {},
   "source": [
    "# Practica 1 - Preprocesamiento de datos y evaluación de modelos de clasificación/regresión.\n"
   ]
  },
  {
   "cell_type": "markdown",
   "metadata": {},
   "source": [
    "## Minería de Datos 2017/2018 - Jacinto Arias y José A. Gámez"
   ]
  },
  {
   "cell_type": "markdown",
   "metadata": {},
   "source": [
    "En esta práctica vamos a trabajar de manera introductoria algunos de los aspectos más importantes del proceso KDD como son:\n",
    "\n",
    "* Almacenamieno y carga de datos\n",
    "* Análisis exploratorio (estadística)\n",
    "* Preprocesamiento (valores perdidos, anómalos)\n",
    "* Selección de modelos y aprendizaje, clasificación (aprendizaje supervisado)\n",
    "* Evaluación de modelos"
   ]
  },
  {
   "cell_type": "markdown",
   "metadata": {},
   "source": [
    "Aprenderemos a manipular y visualizar los datos mediante distintas funciones de la librería *pandas* y a implementar funciones de clasificación triviales como **zeroR** y **oneR**. Además probaremos la potencia de la librería *scikit-learn* utilizando **árboles de decisión**, pero no profundizaremos en ellos todavía.\n",
    "\n",
    "El objetivo de la práctica será aprender a preparar y explorar nuestros datos, seleccinar y evaluar distintos modelos y ser capaces de **interpretar** los resultados obtenidos. Para ello utilizaremos una serie de problemas sintéticos y reales creados a propósito para tareas de evaluación y experimentación en Minería de Datos."
   ]
  },
  {
   "cell_type": "markdown",
   "metadata": {},
   "source": [
    "### Preliminares"
   ]
  },
  {
   "cell_type": "code",
   "execution_count": 2,
   "metadata": {},
   "outputs": [],
   "source": [
    "# Always load all scipy stack packages\n",
    "import numpy as np\n",
    "import pandas as pd\n",
    "from scipy import stats, integrate\n",
    "import matplotlib as mpl\n",
    "import matplotlib.pyplot as plt\n",
    "\n",
    "import seaborn as sns\n",
    "sns.set(color_codes=True)\n",
    "\n",
    "# Misc\n",
    "import base64"
   ]
  },
  {
   "cell_type": "code",
   "execution_count": 3,
   "metadata": {},
   "outputs": [],
   "source": [
    "# This code configures matplotlib for proper rendering\n",
    "%matplotlib inline\n",
    "mpl.rcParams[\"figure.figsize\"] = \"8, 4\"\n",
    "import warnings\n",
    "warnings.simplefilter(\"ignore\")"
   ]
  },
  {
   "cell_type": "markdown",
   "metadata": {},
   "source": [
    "## 1 .- Representación, almacenamiento y acceso a los datos"
   ]
  },
  {
   "cell_type": "markdown",
   "metadata": {},
   "source": [
    "Se trata de uno de los problemas críticos en cualquier una aplicación real de Minería de Datos (MD) ya que tendremos que tener en cuenta numerosos factores:\n",
    "* ¿Dónde se generar los datos?\n",
    "* ¿Con qué frecuencia?\n",
    "* ¿Cuánto cuesta transmitirlos?\n",
    "* ¿Dónde se van a almacenar?\n",
    "* ¿Cuánto ocupan?, ¿Es seguro?, ¿Cuánto cuesta leerlos?\n",
    "* ...\n",
    "\n",
    "Además de añadir un alto grado de dificultad al proceso, las soluciones que aportemos suelen ser *ad hoc* para un problema concreto y por tanto es muy probable que tengamos que repetir gran parte del esfuerzo de proyecto a proyecto.\n",
    "\n",
    "Es por ello que nosotros (así como muchos profesionales e investigadores en MD) trabajaremos en un entorno especialmente diseñado para experimentación, en el que gran parte del trabajo ya está realizado y los datos se encuentran procesados en un formáto legible y comodo en nuestra máquina (o en un servidor). Dichos datos nos servirán de banco de pruebas (*benchmark*) para evaluar desde nuestras técnicas de preprocesamiento hasta los modelos que construyamos.\n",
    "\n",
    "Esto permitirá solucionar el problema desde un punto de vista análitico y dejar la integración tecnológica para más adelante."
   ]
  },
  {
   "cell_type": "markdown",
   "metadata": {},
   "source": [
    "### Datos no estructurados vs Datos estructurados\n",
    "\n",
    "Ya sea en el campo de la estadística, o en el desarrollo de aplicaciones, los datos se diseñan a priori, y por tanto especificamos un formato concreto e incluso decidimos la tecnología a utilizar.\n",
    "\n",
    "Es el caso claro de un arquitecto de software que diseña una base de datos para una aplicación, un desarrollador que implementa el *logger* de un programa o el administrador de sistemas que lo procesa después. Por ejemplo, el arquitecto decidirá utilizar SQL y comenzará a desarrollar un modelo entidad-relación que luego implementará, poblará y testará. En el segundo caso, el desarrollador formateará la salida de manera que pueda documentarlo y facilitar así su posterior análisis al *sysadmin*.\n",
    "\n",
    "No obstante, con el creciente interés en la Minería de Datos, cada vez aparecen más casos de uso en los que los datos juegan un papel fundamental **muy distinto al de medio de transmision o de almacenamiento**. En estos casos los datos pasan a ser una parte central y fundamental del sistema, y no se diseñan de antemano, sino que se observan, se capturan del medio o se generan mediante procesos que no podemos controlar. En estos casos es necesario añadir a la ecuación metodologías para la captura de los datos y la extracción de la información relevante para convertirlos en resultados evaluables por las técnicas que vamos a aprender.\n",
    "\n",
    "Este es un trabajo complejo que suele requerir una evolución contínua y consume gran parte del tiempo que dedicamos al desarrollo de sistemas basados en datos. \n",
    "\n",
    "Esta parte no la estudiaremos en la asignatura, así que asumiremos el rol del científico de datos al que el equipo de ingeniería le suministra los datos preparados para su análisis y estudio."
   ]
  },
  {
   "cell_type": "markdown",
   "metadata": {},
   "source": [
    "Un fichero json o xml (aunque tenga esructura) no es estructurado. Un csv sí lo es, porque está separado por comas, saltos de línea, etc."
   ]
  },
  {
   "cell_type": "markdown",
   "metadata": {},
   "source": [
    "### El formato csv"
   ]
  },
  {
   "cell_type": "markdown",
   "metadata": {},
   "source": [
    "Concretamente, haremos uso de uno de los formatos más sencillos y expresivos de datos estructurados que existen: **csv**.\n",
    "\n",
    "Un fichero csv es un fichero de texto plano donde los datos se almacenan a modo de matriz en la que cada fila empieza en una nueva línea, y cada valor está separado por comas (de ahí el nombre *\"Coma Separarated Values\"*). Al ser ficheros de texto plano, podéis editarlos con la herramienta que prefiráis (notepad, gedit, vim...), por convención es recomendable que los guardéis con extensión `.csv` en  lugar de `.txt`."
   ]
  },
  {
   "cell_type": "markdown",
   "metadata": {},
   "source": [
    "De manera adicional a los datos, es muy común incluir una primera fila de cabecera, donde indicaremos el nombre de cada columna."
   ]
  },
  {
   "cell_type": "markdown",
   "metadata": {},
   "source": [
    "En la página de campus virtual tenéis a vuestra disposición los distintos ficheros de datos que usaremos durante el curso. Podéis descargarlos y no os olvidéis de colocarlos en un lugar visible para jupyter dentro de la carpeta compartida con el contenedor de docker. En los ejemplos de la libreta usaremos la ruta `./data/` así que no os olvidéis de cambiarla en el caso de haber elegido una diferente para vuestros datos."
   ]
  },
  {
   "cell_type": "markdown",
   "metadata": {},
   "source": [
    "### El conjunto de datos Iris"
   ]
  },
  {
   "cell_type": "markdown",
   "metadata": {},
   "source": [
    "El conjunto de datos (dataset) Iris, es un ejemplo muy popular en estadística introducido por Fisher en 1936. Se trata de un ejemplo muy utilizado en este campo y que ha trascendido también como uno de los ejemplos estandar en Minería de Datos debido a sus propiedades estadísticas que lo hacen muy visual.\n",
    "\n",
    "Consiste en 150 muestras tomadas para tres especies de flores distintas, sobre las que se han realizado diversas mediciones: El ancho y largo de los pétalos y el sépalo. El objetivo del problema sería el de clasificar una nueva instancia, cuya especie es desconocida, en función de sus propiedades.\n",
    "\n",
    "Podéis encontrar este dataset en campus virtual como `iris.csv`\n",
    "\n",
    "Antes de empezar sería una buena idea abrir el fichero en un editor de texto para ver su contenido."
   ]
  },
  {
   "cell_type": "markdown",
   "metadata": {},
   "source": [
    "### Cargando ficheros .csv en pandas"
   ]
  },
  {
   "cell_type": "markdown",
   "metadata": {},
   "source": [
    "Podemos cargar un fichero csv en pandas como un `DataFrame` utilizando la funcion `read_csv`. Es recomendable acudir a la documentación de esta función para conocer sus parámetros y saber los detalles de su funcionamiento [[Enlace]](https://pandas.pydata.org/pandas-docs/stable/generated/pandas.read_csv.html)"
   ]
  },
  {
   "cell_type": "code",
   "execution_count": 4,
   "metadata": {},
   "outputs": [],
   "source": [
    "# Please update your data path accordingly\n",
    "df = pd.read_csv(\"../data/iris.csv\", dtype={ \"label\": 'category'})\n"
   ]
  },
  {
   "cell_type": "markdown",
   "metadata": {},
   "source": [
    "Una vez cargado el dataset es fundamental comprobar que el proceso ha funcionado sin problemas, para ello podemos escoger una fila al azar, o mostrar las primeras filas del dataset y comprobar que las variables y los valores están dentro de lo esperado.\n",
    "\n",
    "Para ello podemos usar la función `head` que obtiene las primeras filas del dataset. La documentación de esta función contiene información relevante para su uso [[Enlace]](https://pandas.pydata.org/pandas-docs/stable/generated/pandas.DataFrame.head.html?highlight=head#pandas.DataFrame.head)\n",
    "\n",
    "**NOTA: Esta será la última vez que dirija a los alumnos a la documentación de una función del stack scipy. Es muy recomendable que comprobéis todas las funciones que se presenten, para estar seguros de su uso y de las implicaciones que puedan tener.** Moraleja: Copiar y pegar es muy muy peligroso!!!"
   ]
  },
  {
   "cell_type": "code",
   "execution_count": 5,
   "metadata": {},
   "outputs": [
    {
     "data": {
      "text/html": [
       "<div>\n",
       "<style>\n",
       "    .dataframe thead tr:only-child th {\n",
       "        text-align: right;\n",
       "    }\n",
       "\n",
       "    .dataframe thead th {\n",
       "        text-align: left;\n",
       "    }\n",
       "\n",
       "    .dataframe tbody tr th {\n",
       "        vertical-align: top;\n",
       "    }\n",
       "</style>\n",
       "<table border=\"1\" class=\"dataframe\">\n",
       "  <thead>\n",
       "    <tr style=\"text-align: right;\">\n",
       "      <th></th>\n",
       "      <th>sepal_length</th>\n",
       "      <th>sepal_width</th>\n",
       "      <th>petal_length</th>\n",
       "      <th>petal_width</th>\n",
       "      <th>label</th>\n",
       "    </tr>\n",
       "  </thead>\n",
       "  <tbody>\n",
       "    <tr>\n",
       "      <th>0</th>\n",
       "      <td>5.1</td>\n",
       "      <td>3.5</td>\n",
       "      <td>1.4</td>\n",
       "      <td>0.2</td>\n",
       "      <td>setosa</td>\n",
       "    </tr>\n",
       "    <tr>\n",
       "      <th>1</th>\n",
       "      <td>4.9</td>\n",
       "      <td>3.0</td>\n",
       "      <td>1.4</td>\n",
       "      <td>0.2</td>\n",
       "      <td>setosa</td>\n",
       "    </tr>\n",
       "    <tr>\n",
       "      <th>2</th>\n",
       "      <td>4.7</td>\n",
       "      <td>3.2</td>\n",
       "      <td>1.3</td>\n",
       "      <td>0.2</td>\n",
       "      <td>setosa</td>\n",
       "    </tr>\n",
       "    <tr>\n",
       "      <th>3</th>\n",
       "      <td>4.6</td>\n",
       "      <td>3.1</td>\n",
       "      <td>1.5</td>\n",
       "      <td>0.2</td>\n",
       "      <td>setosa</td>\n",
       "    </tr>\n",
       "    <tr>\n",
       "      <th>4</th>\n",
       "      <td>5.0</td>\n",
       "      <td>3.6</td>\n",
       "      <td>1.4</td>\n",
       "      <td>0.2</td>\n",
       "      <td>setosa</td>\n",
       "    </tr>\n",
       "  </tbody>\n",
       "</table>\n",
       "</div>"
      ],
      "text/plain": [
       "   sepal_length  sepal_width  petal_length  petal_width   label\n",
       "0           5.1          3.5           1.4          0.2  setosa\n",
       "1           4.9          3.0           1.4          0.2  setosa\n",
       "2           4.7          3.2           1.3          0.2  setosa\n",
       "3           4.6          3.1           1.5          0.2  setosa\n",
       "4           5.0          3.6           1.4          0.2  setosa"
      ]
     },
     "execution_count": 5,
     "metadata": {},
     "output_type": "execute_result"
    }
   ],
   "source": [
    "# We can show the first rows (df=dataframe)\n",
    "df.head()"
   ]
  },
  {
   "cell_type": "markdown",
   "metadata": {},
   "source": [
    "`head` es muy útil para comprobaciones rápidas, pero no hay que olvidar que las **instancias** siempre serán las primeras en orden consecutivo. Esto puede ser un problema si queremos hacer alguna comprobación estadística, ya que **la muestra estará sesgada**. Para evitar este problema también podemos obtener una muestra aleatoria del dataset con `sample`."
   ]
  },
  {
   "cell_type": "markdown",
   "metadata": {},
   "source": [
    "---\n",
    "**Palabras clave!!**. \n",
    "\n",
    "* Es muy común referirse a las filas como como **instancias**, **casos** o **ejemplos** dentro de nuestro problema.\n",
    "* Una muestra **sesgada** es aquella que hemos obtenido sin la aleatoriedad suficiente para que sea representativa del dataset entero.\n",
    "---"
   ]
  },
  {
   "cell_type": "code",
   "execution_count": 6,
   "metadata": {},
   "outputs": [
    {
     "data": {
      "text/html": [
       "<div>\n",
       "<style>\n",
       "    .dataframe thead tr:only-child th {\n",
       "        text-align: right;\n",
       "    }\n",
       "\n",
       "    .dataframe thead th {\n",
       "        text-align: left;\n",
       "    }\n",
       "\n",
       "    .dataframe tbody tr th {\n",
       "        vertical-align: top;\n",
       "    }\n",
       "</style>\n",
       "<table border=\"1\" class=\"dataframe\">\n",
       "  <thead>\n",
       "    <tr style=\"text-align: right;\">\n",
       "      <th></th>\n",
       "      <th>sepal_length</th>\n",
       "      <th>sepal_width</th>\n",
       "      <th>petal_length</th>\n",
       "      <th>petal_width</th>\n",
       "      <th>label</th>\n",
       "    </tr>\n",
       "  </thead>\n",
       "  <tbody>\n",
       "    <tr>\n",
       "      <th>16</th>\n",
       "      <td>5.4</td>\n",
       "      <td>3.9</td>\n",
       "      <td>1.3</td>\n",
       "      <td>0.4</td>\n",
       "      <td>setosa</td>\n",
       "    </tr>\n",
       "    <tr>\n",
       "      <th>4</th>\n",
       "      <td>5.0</td>\n",
       "      <td>3.6</td>\n",
       "      <td>1.4</td>\n",
       "      <td>0.2</td>\n",
       "      <td>setosa</td>\n",
       "    </tr>\n",
       "    <tr>\n",
       "      <th>149</th>\n",
       "      <td>5.9</td>\n",
       "      <td>3.0</td>\n",
       "      <td>5.1</td>\n",
       "      <td>1.8</td>\n",
       "      <td>virginica</td>\n",
       "    </tr>\n",
       "    <tr>\n",
       "      <th>54</th>\n",
       "      <td>6.5</td>\n",
       "      <td>2.8</td>\n",
       "      <td>4.6</td>\n",
       "      <td>1.5</td>\n",
       "      <td>versicolor</td>\n",
       "    </tr>\n",
       "    <tr>\n",
       "      <th>120</th>\n",
       "      <td>6.9</td>\n",
       "      <td>3.2</td>\n",
       "      <td>5.7</td>\n",
       "      <td>2.3</td>\n",
       "      <td>virginica</td>\n",
       "    </tr>\n",
       "    <tr>\n",
       "      <th>68</th>\n",
       "      <td>6.2</td>\n",
       "      <td>2.2</td>\n",
       "      <td>4.5</td>\n",
       "      <td>1.5</td>\n",
       "      <td>versicolor</td>\n",
       "    </tr>\n",
       "    <tr>\n",
       "      <th>124</th>\n",
       "      <td>6.7</td>\n",
       "      <td>3.3</td>\n",
       "      <td>5.7</td>\n",
       "      <td>2.1</td>\n",
       "      <td>virginica</td>\n",
       "    </tr>\n",
       "    <tr>\n",
       "      <th>47</th>\n",
       "      <td>4.6</td>\n",
       "      <td>3.2</td>\n",
       "      <td>1.4</td>\n",
       "      <td>0.2</td>\n",
       "      <td>setosa</td>\n",
       "    </tr>\n",
       "  </tbody>\n",
       "</table>\n",
       "</div>"
      ],
      "text/plain": [
       "     sepal_length  sepal_width  petal_length  petal_width       label\n",
       "16            5.4          3.9           1.3          0.4      setosa\n",
       "4             5.0          3.6           1.4          0.2      setosa\n",
       "149           5.9          3.0           5.1          1.8   virginica\n",
       "54            6.5          2.8           4.6          1.5  versicolor\n",
       "120           6.9          3.2           5.7          2.3   virginica\n",
       "68            6.2          2.2           4.5          1.5  versicolor\n",
       "124           6.7          3.3           5.7          2.1   virginica\n",
       "47            4.6          3.2           1.4          0.2      setosa"
      ]
     },
     "execution_count": 6,
     "metadata": {},
     "output_type": "execute_result"
    }
   ],
   "source": [
    "# We can retrieve a random sample from the dataframe USAR SAMPLE SIEMPRE\n",
    "df.sample(8)"
   ]
  },
  {
   "cell_type": "markdown",
   "metadata": {},
   "source": [
    "---\n",
    "## 2 .- Análisis exploratorio"
   ]
  },
  {
   "cell_type": "markdown",
   "metadata": {},
   "source": [
    "Antes de empezar con el preprocesamiento es interesante observar las propiedades del dataset, analizando sus variables y la interacción entre las mismas. Para ello  no podemos usar el formato tabular directamente ya que para un humano sería casi imposible extraer una conclusión a partir de mirar valores numéricos (imaginad un dataset de varios millones de instancias), así que nos apoyaremos en gráficas y estadísticos."
   ]
  },
  {
   "cell_type": "markdown",
   "metadata": {},
   "source": [
    "### Conociendo el dataset"
   ]
  },
  {
   "cell_type": "markdown",
   "metadata": {},
   "source": [
    "Antes de realizar cualquier operación es fundamental conocer nuestro problema. Para ello es necesario explorar las dos dimensiones básicas de un data frame:\n",
    "\n",
    "* Número de casos (filas)\n",
    "* Número de variables (columnas)\n",
    "    * Tipo de las variables: **contínua/discreta o categórica**\n",
    "    * **Distribución** de las variables/número y **frecuencia** de **estados**\n",
    "        \n",
    "Para ello consultaremos la estructura de datos utilizando las funciones correspondientes.\n",
    "No confundir con dataframe"
   ]
  },
  {
   "cell_type": "markdown",
   "metadata": {},
   "source": [
    "---\n",
    "**Palabras clave!!**\n",
    "\n",
    "* Una variable **contínua** es aquella que se representa mediante valores numéricos que se **distribuyen** deacuerdo a una función.\n",
    "* Una variable **discreta** es aquella compuesta por un conjunto finito de valores denominados **estados** a los que comumente se les puede asignar un valor semántico y que se distribuyen deacuerdo a una función probabilística que determina su **frecuencia**. Su suma debe dar 1, y se representa en una distribución normal.\n",
    "---"
   ]
  },
  {
   "cell_type": "code",
   "execution_count": 7,
   "metadata": {},
   "outputs": [
    {
     "name": "stdout",
     "output_type": "stream",
     "text": [
      "150\n",
      "(150, 5)\n",
      "750\n"
     ]
    }
   ],
   "source": [
    "# Number of cases is just the length of the dataframe\n",
    "print( len(df) )\n",
    "print( df.shape )\n",
    "print( df.size ) # multiplcación de filas x columnas"
   ]
  },
  {
   "cell_type": "code",
   "execution_count": 8,
   "metadata": {},
   "outputs": [
    {
     "name": "stdout",
     "output_type": "stream",
     "text": [
      "<class 'pandas.core.frame.DataFrame'>\n",
      "RangeIndex: 150 entries, 0 to 149\n",
      "Data columns (total 5 columns):\n",
      "sepal_length    150 non-null float64\n",
      "sepal_width     150 non-null float64\n",
      "petal_length    150 non-null float64\n",
      "petal_width     150 non-null float64\n",
      "label           150 non-null category\n",
      "dtypes: category(1), float64(4)\n",
      "memory usage: 4.9 KB\n"
     ]
    }
   ],
   "source": [
    "# To get additional info about a variable we can just invoke info\n",
    "df.info()"
   ]
  },
  {
   "cell_type": "code",
   "execution_count": 9,
   "metadata": {},
   "outputs": [
    {
     "data": {
      "text/plain": [
       "Index(['setosa', 'versicolor', 'virginica'], dtype='object')"
      ]
     },
     "execution_count": 9,
     "metadata": {},
     "output_type": "execute_result"
    }
   ],
   "source": [
    "# We can inspect categorical variables:\n",
    "df.label.cat.categories"
   ]
  },
  {
   "cell_type": "code",
   "execution_count": 10,
   "metadata": {},
   "outputs": [
    {
     "data": {
      "text/plain": [
       "[setosa, versicolor, virginica]\n",
       "Categories (3, object): [setosa, versicolor, virginica]"
      ]
     },
     "execution_count": 10,
     "metadata": {},
     "output_type": "execute_result"
    }
   ],
   "source": [
    "df.label.unique() #no usarlo, porque puede que no aparezcan alguna categoria si esta tiene 0 casos"
   ]
  },
  {
   "cell_type": "markdown",
   "metadata": {},
   "source": [
    "### Visualizando las variables"
   ]
  },
  {
   "cell_type": "markdown",
   "metadata": {},
   "source": [
    "Iris tiene 4 atributos predictores numéricos, y una clase multivariada de tres estados. Lo primero que debemos hacer es representar y analizar las distribuciones de dichas variables. Para ello utilizaremos un **histograma** en el caso de las variables numéricas y un **diagrama de barras** (barplot) para las variables discretas. Este tipo de visualizaciones en las que solo se estudia una variable se denominan **univariadas**."
   ]
  },
  {
   "cell_type": "markdown",
   "metadata": {},
   "source": [
    "** Palabra clave!!** Un método de análisis **univariado** es aquel que solo involucra a una única variable."
   ]
  },
  {
   "cell_type": "markdown",
   "metadata": {},
   "source": [
    "**!! NOTA:** El código de las gráficas no es obligatorio entenderlo, la generación de gráficas de manera manual no es un requisito evaluable en esta signatura, tan solo regenerarlas a partir del código que se os proporciona **y ser capaz de interpretarlas**. No obstante si alguien quiere aprender (y mejorar sus trabajos), la librería `seaborn` no es muy complicada, aquí tenéis un tutorial [[Enlace]](https://stanford.edu/~mwaskom/software/seaborn/tutorial.html). Además hay muchos recursos en internet, y podéis preguntar en el foro cualquier duda."
   ]
  },
  {
   "cell_type": "markdown",
   "metadata": {},
   "source": [
    "Como comprobaréis a continuación la gráfica está encapsulada en una función que podéis ejecutar una vez en toda la libreta y reutilizar siempre que queráis. En campus virtual podéis encontrar un anexo con una serie de gráficas adicionales que podéis utilizar."
   ]
  },
  {
   "cell_type": "markdown",
   "metadata": {},
   "source": [
    "#### Gráfica - Visualización histograma-densidad de todas las variables de un dataset USARLA PARA REPRESENTAR DIAGRAMAS CON SEABORN"
   ]
  },
  {
   "cell_type": "code",
   "execution_count": 11,
   "metadata": {},
   "outputs": [],
   "source": [
    "def gMultipleHistogram(targetdf):\n",
    "    # First we remove the class variable\n",
    "    target_noclass = targetdf.drop('label', 1) #USAR SIEMPRE 'LABEL', PORQUE 'CLASS' ES PALABRA RESERVADA\n",
    "    # Now we generate the multiple histogram\n",
    "    g = sns.FacetGrid(pd.melt(target_noclass), col=\"variable\", sharey=False, sharex=False, col_wrap=2)\n",
    "    g.map(sns.distplot, \"value\");    \n"
   ]
  },
  {
   "cell_type": "code",
   "execution_count": 12,
   "metadata": {},
   "outputs": [
    {
     "data": {
      "image/png": "[encoded data removed]",
      "text/plain": [
       "<matplotlib.figure.Figure at 0x7f7f075afcf8>"
      ]
     },
     "metadata": {},
     "output_type": "display_data"
    }
   ],
   "source": [
    "gMultipleHistogram(df)"
   ]
  },
  {
   "cell_type": "markdown",
   "metadata": {},
   "source": [
    "En un histograma podemos ver la densidad de ejemplos EN EL EJE Y para los distintos valores (EJE X) de una variable particular, en este caso podemos ver que las variables `sepal_length`y `sepal_width` muestran distribuciones con tendencia central en forma de campana, mientras que las otras dos muestran distribuciones algo más complejas. Lo que también podemos observar es que todos los valores se comportan de manera parecida, sin que podamos observar valores **anómalos** o **ruidosos**.\n",
    "\n",
    "La visualización de un histograma es muy útil ya que podemos intuair a priori distribuciones conocidas como la gaussiana, algo que es muy útil a la hora de interpretar las variables del problema.\n",
    "\n",
    "Un histograma no deja de ser una **discretización** sobre una variable contínua. Si lo que queremos analizar es una variable discreta, entonces nos bastará con representar la frecuencia de cada estado con una columna en un diagrama de barras."
   ]
  },
  {
   "cell_type": "markdown",
   "metadata": {},
   "source": [
    "---\n",
    "** Palabras clave **\n",
    "\n",
    "* Un dato **anómalo** o **ruidoso**, también denominado **outlier**, es aquel que se aleja de la distribución de la variable.\n",
    "* **Discretizamos** una variable numérica al transformarla en una variable discreta al determinar intervalos en todo su dominio que asociamos a estados de la nueva variable.\n",
    "---"
   ]
  },
  {
   "cell_type": "markdown",
   "metadata": {},
   "source": [
    "#### Gráfica - Visualización diagrama de barras para una variable"
   ]
  },
  {
   "cell_type": "code",
   "execution_count": 13,
   "metadata": {},
   "outputs": [],
   "source": [
    "# Prints a barplot for the selected variable on the df\n",
    "def gSingleBarplot(targetDf, targetVar):\n",
    "    sns.countplot(data=targetDf, x=targetVar)"
   ]
  },
  {
   "cell_type": "code",
   "execution_count": 14,
   "metadata": {},
   "outputs": [
    {
     "data": {
      "image/png": "[encoded data removed]",
      "text/plain": [
       "<matplotlib.figure.Figure at 0x7f7f053eba58>"
      ]
     },
     "metadata": {},
     "output_type": "display_data"
    }
   ],
   "source": [
    "gSingleBarplot(df, \"label\") #para ver los 3 estados de la variable categorica"
   ]
  },
  {
   "cell_type": "markdown",
   "metadata": {},
   "source": [
    "Sin mucho misterio, observamos que las tres clases tienen el mismo número de casos. A esto se le llama un problema **balanceado** (proporcionado)."
   ]
  },
  {
   "cell_type": "markdown",
   "metadata": {},
   "source": [
    "---\n",
    "**Palabra clave**: Una muestra está balanceada con respecto a un conjunto de variables cuando las frecuencias de las distintas combinaciones de estados de las mismas aparecen en la misma proporción\n",
    "\n",
    "---"
   ]
  },
  {
   "cell_type": "markdown",
   "metadata": {},
   "source": [
    "El análisis univariado nos permite identificar problemas en las variables tales como ruido, outliers así como detectar distribuciones carentes de información como por ejemplo distribuciones uniformes en las que cada valor es prácticamente único (como por ejemplo el identificador de una fila).\n",
    "\n",
    "No obstante la mayoría de la información relevante que podemos extraer de un dataset proviene de estadísticos que se obtienen al contrastar variables variables entre si (método **multivariado**). En el caso de un problema de clasificación en el que pretendemos determinar la potencia **discriminativa** de un conjunto de atributos, solemos condicionar las relaciones entre ellos con respecto a la información que aportan sobre la variable clase."
   ]
  },
  {
   "cell_type": "markdown",
   "metadata": {},
   "source": [
    "---\n",
    "**Palabra clave**: Un análisis **multivariado** es aquel que involucra a varias variables del problema.\n",
    "\n",
    "---"
   ]
  },
  {
   "cell_type": "markdown",
   "metadata": {},
   "source": [
    "Como caso particular, podemos estudiar relaciones entre dos variables. Para ello crearemos una matrix de gráficos del tipo nube puntos o **scatterplot** en el que cada punto correspondera con un caso de la base de datos y en cada eje representaremos un atributo predictor. La información de la variable clase la representamos coloreando cada instancia acorde a la clase a la que pertenece."
   ]
  },
  {
   "cell_type": "markdown",
   "metadata": {},
   "source": [
    "#### Gráfica - Separabilidad de la clase entre atributos predictores"
   ]
  },
  {
   "cell_type": "code",
   "execution_count": 15,
   "metadata": {},
   "outputs": [],
   "source": [
    "def gPairPlot(targetDf):\n",
    "    sns.pairplot(targetDf, hue=\"label\");"
   ]
  },
  {
   "cell_type": "code",
   "execution_count": 16,
   "metadata": {},
   "outputs": [
    {
     "data": {
      "image/png": "[encoded data removed]",
      "text/plain": [
       "<matplotlib.figure.Figure at 0x7f7f0518f7f0>"
      ]
     },
     "metadata": {},
     "output_type": "display_data"
    }
   ],
   "source": [
    "gPairPlot(df)"
   ]
  },
  {
   "cell_type": "markdown",
   "metadata": {},
   "source": [
    "Como podéis observar, este gráfico muestra una gran cantidad de información relevante para nuestra tarea de clasificación, mostrando el poder discriminativo de cada attributo y para cada combinación de ellos. Por suerte, el dataser iris fue creado con una finalidad didáctica y por ello la tarea de clasificación es muy sencilla y visual. No tendremos la misma suerte con otros datasets no artificiales, ya que en el mundo real los resultados serán mucho más ruidosos y aparentemente aleatorios."
   ]
  },
  {
   "cell_type": "markdown",
   "metadata": {},
   "source": [
    "Analizad detenidamente el gráfico e intenta contestar a las siguientes preguntas:\n",
    "* ¿Existe algún atributo que separe perfectamente la clase?\n",
    "* ¿Cómo implementarias una función de clasificación trivial para estos datos?\n",
    "* Puedes observar algún tipo de relación entre las variables?\n",
    "* Crees que las relaciones entre las variables aportan algo de información?\n",
    "* ¿Cómo aprovecharías esta información?\n"
   ]
  },
  {
   "cell_type": "markdown",
   "metadata": {},
   "source": [
    "#### Conclusión:\n",
    "Como ya hemos anticipado, este análisis tan visual no podremos reproducirlo para otros datos reales, pero es un buen ejercicio didáctico. Existen también otros tipos de gráficos que son de mucha utilidad para analizar otras propiedades de las distribuciones de nuestros atributos predictores, especialmente en los casos donde encontremos mucho ruido, anomalías o valores pedidos; los veremos más adelante.\n",
    "\n",
    "Otro punto negativo a la hora de realizar este análisis exploratorio de manera únicamente gráfica es la **dimensionalidad** de nuestros datos. En el caso de iris resulta sencillo dado que solo disponemos de 4 atributos. No obstante, en casos reales podemos encontrarnos datasets con decenas, cientos e incluso miles de variables, lo que haría imposible visualizar todas ellas.\n",
    "\n",
    "¿Cuántas gráficas generaría el caso anterior para un dataset con 50 variables?"
   ]
  },
  {
   "cell_type": "markdown",
   "metadata": {},
   "source": [
    "---\n",
    "**Palabra clave**: La **dimensonalidad** es una referencia a su tamaño, generalmente respecto al número de variables.\n",
    "\n",
    "---"
   ]
  },
  {
   "cell_type": "code",
   "execution_count": 17,
   "metadata": {},
   "outputs": [
    {
     "data": {
      "text/plain": [
       "2500"
      ]
     },
     "execution_count": 17,
     "metadata": {},
     "output_type": "execute_result"
    }
   ],
   "source": [
    "50 * 50"
   ]
  },
  {
   "cell_type": "markdown",
   "metadata": {},
   "source": [
    "¿Crees que es una buena práctica analizar tal cantidad de gráficos a mano?\n",
    "\n",
    "La respuesta es no. El análisis visual se realiza en momentos puntuales y para variables concretas una vez que hemos limpiado y analizado nuestros datos. Para empezar, es normal utilizar técnicas de estadística que nos permitan analizar numéricamente los atributos. Pandas es una muy buena herramienta para analizar automáticamente nuestras variables. ¿recordáis?"
   ]
  },
  {
   "cell_type": "code",
   "execution_count": 18,
   "metadata": {},
   "outputs": [
    {
     "data": {
      "text/html": [
       "<div>\n",
       "<style>\n",
       "    .dataframe thead tr:only-child th {\n",
       "        text-align: right;\n",
       "    }\n",
       "\n",
       "    .dataframe thead th {\n",
       "        text-align: left;\n",
       "    }\n",
       "\n",
       "    .dataframe tbody tr th {\n",
       "        vertical-align: top;\n",
       "    }\n",
       "</style>\n",
       "<table border=\"1\" class=\"dataframe\">\n",
       "  <thead>\n",
       "    <tr style=\"text-align: right;\">\n",
       "      <th></th>\n",
       "      <th>sepal_length</th>\n",
       "      <th>sepal_width</th>\n",
       "      <th>petal_length</th>\n",
       "      <th>petal_width</th>\n",
       "    </tr>\n",
       "  </thead>\n",
       "  <tbody>\n",
       "    <tr>\n",
       "      <th>count</th>\n",
       "      <td>150.000000</td>\n",
       "      <td>150.000000</td>\n",
       "      <td>150.000000</td>\n",
       "      <td>150.000000</td>\n",
       "    </tr>\n",
       "    <tr>\n",
       "      <th>mean</th>\n",
       "      <td>5.843333</td>\n",
       "      <td>3.054000</td>\n",
       "      <td>3.758667</td>\n",
       "      <td>1.198667</td>\n",
       "    </tr>\n",
       "    <tr>\n",
       "      <th>std</th>\n",
       "      <td>0.828066</td>\n",
       "      <td>0.433594</td>\n",
       "      <td>1.764420</td>\n",
       "      <td>0.763161</td>\n",
       "    </tr>\n",
       "    <tr>\n",
       "      <th>min</th>\n",
       "      <td>4.300000</td>\n",
       "      <td>2.000000</td>\n",
       "      <td>1.000000</td>\n",
       "      <td>0.100000</td>\n",
       "    </tr>\n",
       "    <tr>\n",
       "      <th>25%</th>\n",
       "      <td>5.100000</td>\n",
       "      <td>2.800000</td>\n",
       "      <td>1.600000</td>\n",
       "      <td>0.300000</td>\n",
       "    </tr>\n",
       "    <tr>\n",
       "      <th>50%</th>\n",
       "      <td>5.800000</td>\n",
       "      <td>3.000000</td>\n",
       "      <td>4.350000</td>\n",
       "      <td>1.300000</td>\n",
       "    </tr>\n",
       "    <tr>\n",
       "      <th>75%</th>\n",
       "      <td>6.400000</td>\n",
       "      <td>3.300000</td>\n",
       "      <td>5.100000</td>\n",
       "      <td>1.800000</td>\n",
       "    </tr>\n",
       "    <tr>\n",
       "      <th>max</th>\n",
       "      <td>7.900000</td>\n",
       "      <td>4.400000</td>\n",
       "      <td>6.900000</td>\n",
       "      <td>2.500000</td>\n",
       "    </tr>\n",
       "  </tbody>\n",
       "</table>\n",
       "</div>"
      ],
      "text/plain": [
       "       sepal_length  sepal_width  petal_length  petal_width\n",
       "count    150.000000   150.000000    150.000000   150.000000\n",
       "mean       5.843333     3.054000      3.758667     1.198667\n",
       "std        0.828066     0.433594      1.764420     0.763161\n",
       "min        4.300000     2.000000      1.000000     0.100000\n",
       "25%        5.100000     2.800000      1.600000     0.300000\n",
       "50%        5.800000     3.000000      4.350000     1.300000\n",
       "75%        6.400000     3.300000      5.100000     1.800000\n",
       "max        7.900000     4.400000      6.900000     2.500000"
      ]
     },
     "execution_count": 18,
     "metadata": {},
     "output_type": "execute_result"
    }
   ],
   "source": [
    "df.describe()"
   ]
  },
  {
   "cell_type": "markdown",
   "metadata": {},
   "source": [
    "---\n",
    "## 3 .- Clasificadores triviales zeroR y oneR"
   ]
  },
  {
   "cell_type": "markdown",
   "metadata": {},
   "source": [
    "Antes de empezar a trabajar con clasificadores más potentes de la librería **scikit-learn** vamos a implementar nuestros propios clasificadores utilizando directamente nuestros datos y pandas."
   ]
  },
  {
   "cell_type": "markdown",
   "metadata": {},
   "source": [
    "### Clasificador ZeroR"
   ]
  },
  {
   "cell_type": "markdown",
   "metadata": {},
   "source": [
    "El clasificador **zeroR** es el clasificador más trivial de todos. Básicamente consiste en una función que asigna siempre a los nuevos casos la clase predominante. Este clasificador es inútil en la mayoría de los casos, pero nos servirá como evaluación inicial o **baseline** a la hora de evaluar la dificultad de un dataset concreto o la efectivadad de un modelo."
   ]
  },
  {
   "cell_type": "markdown",
   "metadata": {},
   "source": [
    "---\n",
    "**Palabra clave**: Nos referimos como **baseline** a un valor trivial en el resultado de la clasificación, un punto de partida que puede alcanzarse mediante la observación directa de los datos.\n",
    "\n",
    "---"
   ]
  },
  {
   "cell_type": "markdown",
   "metadata": {},
   "source": [
    "Vamos a implementar de manera manual un clasificador zeroR para la base de datos iris. En este caso, la decisión sera arbritaria ya que como bien sabemos no existe una clase predominante en nuestro dataset. Implementaremos un clasificador como una función que crea una nueva columna en nuestro dataset llamada `prediction` indicando la clase que asigna dicho clasificador a la instancia correspondiente."
   ]
  },
  {
   "cell_type": "code",
   "execution_count": 19,
   "metadata": {},
   "outputs": [
    {
     "name": "stdout",
     "output_type": "stream",
     "text": [
      "   sepal_length  sepal_width  petal_length  petal_width   label  nuevaCol\n",
      "0           5.1          3.5           1.4          0.2  setosa       6.5\n",
      "1           4.9          3.0           1.4          0.2  setosa       6.3\n",
      "2           4.7          3.2           1.3          0.2  setosa       6.0\n",
      "3           4.6          3.1           1.5          0.2  setosa       6.1\n",
      "4           5.0          3.6           1.4          0.2  setosa       6.4 \n",
      "\n",
      "   sepal_length  sepal_width  petal_length  petal_width   label  nuevaCol\n",
      "0           5.1          3.5           1.4          0.2  setosa      True\n",
      "1           4.9          3.0           1.4          0.2  setosa     False\n",
      "2           4.7          3.2           1.3          0.2  setosa     False\n",
      "3           4.6          3.1           1.5          0.2  setosa     False\n",
      "4           5.0          3.6           1.4          0.2  setosa      True \n",
      "\n"
     ]
    }
   ],
   "source": [
    "# We can create new columns in a dataset by ussing assign NUEVAS VARIABLES\n",
    "\n",
    "# The new variable can be a fixed escalar expression or a mutation of other variables\n",
    "\n",
    "# This test just sums up two variables\n",
    "prueba1 = df.assign( nuevaCol = df.sepal_length + df.petal_length )\n",
    "print(prueba1.head(), \"\\n\")\n",
    "\n",
    "# In this case we create a boolean value by comparing two variables\n",
    "prueba2 = df.assign( nuevaCol = df.sepal_length >= 5.0 )\n",
    "print(prueba2.head(), \"\\n\")"
   ]
  },
  {
   "cell_type": "markdown",
   "metadata": {},
   "source": [
    "A continuación crearemos una función que, dado un dataframe, clasifique las instancias. Para ello utilizaremos un par de técnicas de programación en python de estilo *declarativo* que nos harán la vida mucho más sencilla. CREAR UN CLASIFICADOR ES CREAR UNA FUNCIÓN."
   ]
  },
  {
   "cell_type": "code",
   "execution_count": 20,
   "metadata": {},
   "outputs": [
    {
     "name": "stdout",
     "output_type": "stream",
     "text": [
      "8\n",
      "15\n"
     ]
    }
   ],
   "source": [
    "# PYTHON ASIDE (higher order functions):\n",
    "\n",
    "# Just remember that python functions are just plain objects, that could be passed or \n",
    "# returned as usual\n",
    "\n",
    "# For example this function creates a function that sums n to a number\n",
    "def factorySumN( n ):\n",
    "    def sumN(a):\n",
    "        return a+n\n",
    "    return sumN\n",
    "\n",
    "# Usaje is plain simple:\n",
    "sum3 = factorySumN(3)\n",
    "print( sum3(5) )\n",
    "\n",
    "sum10 = factorySumN(10)\n",
    "print( sum10(5) )"
   ]
  },
  {
   "cell_type": "markdown",
   "metadata": {},
   "source": [
    "Ahora utilizaremos esta técnica para crear un clasificador:\n",
    "\n",
    "Una función `classifier` será una función que dado un dataset `data` cree una nueva columna llamada `prediction` asignando, para cada instancia, el valor de la variable clase más probable conforme a los atributos.\n",
    "\n",
    "La función `trainZeroR`deberá, a partir de un dataset de entrada `trainingData`, aprender los parámetros (¿cuál es la clase más probable?) y devolver una función que asigne siempre la clase más probable a las instancias."
   ]
  },
  {
   "cell_type": "markdown",
   "metadata": {},
   "source": [
    "### Implementación clasificador ZeroR"
   ]
  },
  {
   "cell_type": "code",
   "execution_count": 21,
   "metadata": {},
   "outputs": [
    {
     "data": {
      "text/plain": [
       "0        setosa\n",
       "1    versicolor\n",
       "2     virginica\n",
       "Name: label, dtype: category\n",
       "Categories (3, object): [setosa, versicolor, virginica]"
      ]
     },
     "execution_count": 21,
     "metadata": {},
     "output_type": "execute_result"
    }
   ],
   "source": [
    "df.label.mode()"
   ]
  },
  {
   "cell_type": "code",
   "execution_count": 22,
   "metadata": {},
   "outputs": [],
   "source": [
    "# Complete the missing code in ???\n",
    "\n",
    "# This is the outer function that should return the classifier function\n",
    "def trainZeroR(trainingData):\n",
    "    # We first learn the parameters, aka, the most probable class\n",
    "    # Tip! get the class variable mode and take the first value\n",
    "    majorClass = trainingData.label.mode()[0] # <-- COMPLETE #al ser las 3 categorias igual de frecuentes, elegimos la primera por ejemplo\n",
    "    \n",
    "    # Now we create and return the classifier function\n",
    "    def classifier( data ):\n",
    "        return data.assign( prediction=majorClass ) # <-- COMPLETE\n",
    "    \n",
    "    return classifier"
   ]
  },
  {
   "cell_type": "markdown",
   "metadata": {},
   "source": [
    "De una forma tan sencilla acabais de programar vuestro primer clasificador. Ahora vamos a probarlo en el dataset iris. De momento vamos a entrenar el clasificador con todos los datos que tenemos, y luego clasificaremos estos mismos datos. En este caso podemos decir que estamos **entrenando** y **evaluando** el modelo con los **datos de entrenamiento**."
   ]
  },
  {
   "cell_type": "markdown",
   "metadata": {},
   "source": [
    "---\n",
    "**Palabras clave**: \n",
    "\n",
    "**Entrenar o aprender** un modelo consiste en a partir de un dataset denominado **conjunto de entrenamiento** ajustamos los parámetros de dicho modelo para optimizar la clasificación con respecto a la información contenida en el dataset de entrenamiento.\n",
    "\n",
    "**Validar** un modelo consiste en clasificar un conjunto de datos conmunmente denominado **contunto de test** y obtener métricas de rendimiento conforme a los resultados\n",
    "\n",
    "---"
   ]
  },
  {
   "cell_type": "code",
   "execution_count": 23,
   "metadata": {},
   "outputs": [
    {
     "data": {
      "text/html": [
       "<div>\n",
       "<style>\n",
       "    .dataframe thead tr:only-child th {\n",
       "        text-align: right;\n",
       "    }\n",
       "\n",
       "    .dataframe thead th {\n",
       "        text-align: left;\n",
       "    }\n",
       "\n",
       "    .dataframe tbody tr th {\n",
       "        vertical-align: top;\n",
       "    }\n",
       "</style>\n",
       "<table border=\"1\" class=\"dataframe\">\n",
       "  <thead>\n",
       "    <tr style=\"text-align: right;\">\n",
       "      <th></th>\n",
       "      <th>sepal_length</th>\n",
       "      <th>sepal_width</th>\n",
       "      <th>petal_length</th>\n",
       "      <th>petal_width</th>\n",
       "      <th>label</th>\n",
       "      <th>prediction</th>\n",
       "    </tr>\n",
       "  </thead>\n",
       "  <tbody>\n",
       "    <tr>\n",
       "      <th>78</th>\n",
       "      <td>6.0</td>\n",
       "      <td>2.9</td>\n",
       "      <td>4.5</td>\n",
       "      <td>1.5</td>\n",
       "      <td>versicolor</td>\n",
       "      <td>setosa</td>\n",
       "    </tr>\n",
       "    <tr>\n",
       "      <th>149</th>\n",
       "      <td>5.9</td>\n",
       "      <td>3.0</td>\n",
       "      <td>5.1</td>\n",
       "      <td>1.8</td>\n",
       "      <td>virginica</td>\n",
       "      <td>setosa</td>\n",
       "    </tr>\n",
       "    <tr>\n",
       "      <th>68</th>\n",
       "      <td>6.2</td>\n",
       "      <td>2.2</td>\n",
       "      <td>4.5</td>\n",
       "      <td>1.5</td>\n",
       "      <td>versicolor</td>\n",
       "      <td>setosa</td>\n",
       "    </tr>\n",
       "    <tr>\n",
       "      <th>143</th>\n",
       "      <td>6.8</td>\n",
       "      <td>3.2</td>\n",
       "      <td>5.9</td>\n",
       "      <td>2.3</td>\n",
       "      <td>virginica</td>\n",
       "      <td>setosa</td>\n",
       "    </tr>\n",
       "    <tr>\n",
       "      <th>69</th>\n",
       "      <td>5.6</td>\n",
       "      <td>2.5</td>\n",
       "      <td>3.9</td>\n",
       "      <td>1.1</td>\n",
       "      <td>versicolor</td>\n",
       "      <td>setosa</td>\n",
       "    </tr>\n",
       "  </tbody>\n",
       "</table>\n",
       "</div>"
      ],
      "text/plain": [
       "     sepal_length  sepal_width  petal_length  petal_width       label  \\\n",
       "78            6.0          2.9           4.5          1.5  versicolor   \n",
       "149           5.9          3.0           5.1          1.8   virginica   \n",
       "68            6.2          2.2           4.5          1.5  versicolor   \n",
       "143           6.8          3.2           5.9          2.3   virginica   \n",
       "69            5.6          2.5           3.9          1.1  versicolor   \n",
       "\n",
       "    prediction  \n",
       "78      setosa  \n",
       "149     setosa  \n",
       "68      setosa  \n",
       "143     setosa  \n",
       "69      setosa  "
      ]
     },
     "execution_count": 23,
     "metadata": {},
     "output_type": "execute_result"
    }
   ],
   "source": [
    "# First we train the classifier\n",
    "zeroRclassifier = trainZeroR(df)\n",
    "\n",
    "# Now we predict the labels using the same dataset\n",
    "df_predicted = zeroRclassifier(df)\n",
    "\n",
    "# Now we check the resulting dataset\n",
    "df_predicted.sample(5)\n"
   ]
  },
  {
   "cell_type": "markdown",
   "metadata": {},
   "source": [
    "Como podemos ver el clasificador está asignando la clase más probable (en este caso por desempate) a todas las instancias. ¿No es difícil adivinar cual será la tasa de acierto del clasificador verdad?\n",
    "\n",
    "Para calcular este valor podemos crear una matriz de confusión entre las columnas label y perdiction de nuestro nuevo dataset. Para ello utilizaremos:"
   ]
  },
  {
   "cell_type": "code",
   "execution_count": 24,
   "metadata": {},
   "outputs": [
    {
     "data": {
      "text/html": [
       "<div>\n",
       "<style>\n",
       "    .dataframe thead tr:only-child th {\n",
       "        text-align: right;\n",
       "    }\n",
       "\n",
       "    .dataframe thead th {\n",
       "        text-align: left;\n",
       "    }\n",
       "\n",
       "    .dataframe tbody tr th {\n",
       "        vertical-align: top;\n",
       "    }\n",
       "</style>\n",
       "<table border=\"1\" class=\"dataframe\">\n",
       "  <thead>\n",
       "    <tr style=\"text-align: right;\">\n",
       "      <th>prediction</th>\n",
       "      <th>setosa</th>\n",
       "    </tr>\n",
       "    <tr>\n",
       "      <th>label</th>\n",
       "      <th></th>\n",
       "    </tr>\n",
       "  </thead>\n",
       "  <tbody>\n",
       "    <tr>\n",
       "      <th>setosa</th>\n",
       "      <td>50</td>\n",
       "    </tr>\n",
       "    <tr>\n",
       "      <th>versicolor</th>\n",
       "      <td>50</td>\n",
       "    </tr>\n",
       "    <tr>\n",
       "      <th>virginica</th>\n",
       "      <td>50</td>\n",
       "    </tr>\n",
       "  </tbody>\n",
       "</table>\n",
       "</div>"
      ],
      "text/plain": [
       "prediction  setosa\n",
       "label             \n",
       "setosa          50\n",
       "versicolor      50\n",
       "virginica       50"
      ]
     },
     "execution_count": 24,
     "metadata": {},
     "output_type": "execute_result"
    }
   ],
   "source": [
    "pd.crosstab(df_predicted['label'], df_predicted['prediction'])"
   ]
  },
  {
   "cell_type": "markdown",
   "metadata": {},
   "source": [
    "---\n",
    "**PREGUNTA** ¿Qué le ocurre a esta matrix de confusión, dónde esta el problema? Le faltan valores, columnas para versicolor y virginica"
   ]
  },
  {
   "cell_type": "code",
   "execution_count": 25,
   "metadata": {},
   "outputs": [
    {
     "data": {
      "text/plain": [
       "b'La matrix de confusion esta incompleta porque no hay instancias clasificadas como versicolor o virginica. Podemos asumir que las dos columnas que faltan son todos ceros.'"
      ]
     },
     "execution_count": 25,
     "metadata": {},
     "output_type": "execute_result"
    }
   ],
   "source": [
    "# Run me to know the answer (b64 encoded quizes FTW!)\n",
    "base64.b64decode('TGEgbWF0cml4IGRlIGNvbmZ1c2lvbiBlc3RhIGluY29tcGxldGEgcG9ycXVlIG5vIGhheSBpbnN0YW5jaWFzIGNsYXNpZmljYWRhcyBjb21vIHZlcnNpY29sb3IgbyB2aXJnaW5pY2EuIFBvZGVtb3MgYXN1bWlyIHF1ZSBsYXMgZG9zIGNvbHVtbmFzIHF1ZSBmYWx0YW4gc29uIHRvZG9zIGNlcm9zLg==')"
   ]
  },
  {
   "cell_type": "markdown",
   "metadata": {},
   "source": [
    "A partir de este resultado de clasificación podemos calcular otras métricas importantes que nos ayuden a determinar si el proceso ha sido correcto. De entre ellas, la más importante es el **accuracy**.\n",
    "\n",
    "Para ello simplemente podemos comparar las columnas `label` y `prediction` y obtener la proporción de casos en las que coinciden."
   ]
  },
  {
   "cell_type": "code",
   "execution_count": 26,
   "metadata": {},
   "outputs": [
    {
     "name": "stdout",
     "output_type": "stream",
     "text": [
      "Accuracy: 0.3333333333333333\n"
     ]
    }
   ],
   "source": [
    "# Primero comparamos ambas comlumnas:\n",
    "comparison = df_predicted[df_predicted['label'] == df_predicted['prediction'] ]\n",
    "\n",
    "# TP: Contamos los aciertos:\n",
    "accuracy = len(comparison) / len(df_predicted)\n",
    "print(\"Accuracy:\", accuracy)"
   ]
  },
  {
   "cell_type": "markdown",
   "metadata": {
    "collapsed": true
   },
   "source": [
    "Justo lo que esperábamos, ¿no?. \n",
    "\n",
    "Puede parecer que utilizar el clasificador ZeroR es inútil, pero como veremos más adelante hay problemas en los que puede ayudarnos a identificar si otras técnicas obtienen resultados relevantes."
   ]
  },
  {
   "cell_type": "markdown",
   "metadata": {},
   "source": [
    "### Clasificador OneR"
   ]
  },
  {
   "cell_type": "markdown",
   "metadata": {},
   "source": [
    "Con una filosfía similar a la de su homónimo más sencillo pero aportando potencia discriminativa real, el clasificador **OneR** identifica una partición potencial en el dataset que nos permita separar la clase lo mejor posible. Para ello identificará el atributo predictor más relevante, determinando la potencia discriminativa para distintos intervalos, en el caso de una variable contínua, o para cada estado en el caso discreto.\n",
    "\n",
    "Para poder implementar este clasificador, necesitaremos primero diseñar un algoritmo que nos permita determinar la potencia discriminativa de cada atributo. Como trabajamos con atributos numéricos implementaremos una técnica sencilla que primero discretizará en intervalos el atributo y luego calculará para las particiones obtenidas el error de clasificación. Concretamente seguiremos un enfoque en el que **discretizaremos de manera no supervisada**."
   ]
  },
  {
   "cell_type": "markdown",
   "metadata": {},
   "source": [
    "Antes de empezar vuelve a mirar la última gráfica que generamos...\n",
    "\n",
    "¿Podrías imaginar una partición manualmente para los atributos que clasificase bien?\n",
    "\n",
    "----------------------------------------------------------------"
   ]
  },
  {
   "cell_type": "markdown",
   "metadata": {},
   "source": [
    "Nuestra primera aproximación utilizará un enfoque de discretización por **igual anchura**. Para ello buscaremos el atributo que, una vez discretizado, nos ofrezca una mejor separación de la clase.\n",
    "\n",
    "#### Discretizando\n",
    "\n",
    "Para discretizar por igual anchura podemos utilizar la funcion `pd.cut(...)` [[Doc]](http://pandas.pydata.org/pandas-docs/stable/generated/pandas.cut.html)\n",
    "\n",
    "```\n",
    "pd.cut(\n",
    "x : Array o variable,\n",
    "bins: Numero de bins a utilizar\n",
    "retbins: Poner a true para que devuelva una tupla\n",
    "...\n",
    ")\n",
    "```\n",
    "EL CONJUNTO DE TRAIN SÍ SE DISCRETIZA, EL DE TEST NUNCAAAAA\n",
    "\n",
    "La función devuelve una tupla con la nueva variable y los bins generados:"
   ]
  },
  {
   "cell_type": "code",
   "execution_count": 27,
   "metadata": {},
   "outputs": [
    {
     "data": {
      "text/plain": [
       "76     (2.967, 4.933]\n",
       "118      (4.933, 6.9]\n",
       "49     (0.994, 2.967]\n",
       "87     (2.967, 4.933]\n",
       "32     (0.994, 2.967]\n",
       "37     (0.994, 2.967]\n",
       "109      (4.933, 6.9]\n",
       "61     (2.967, 4.933]\n",
       "31     (0.994, 2.967]\n",
       "73     (2.967, 4.933]\n",
       "Name: petal_length, dtype: category\n",
       "Categories (3, interval[float64]): [(0.994, 2.967] < (2.967, 4.933] < (4.933, 6.9]]"
      ]
     },
     "execution_count": 27,
     "metadata": {},
     "output_type": "execute_result"
    }
   ],
   "source": [
    "# Usage example:\n",
    "(attribute, bins) = pd.cut(df['petal_length'], bins=3, retbins=True)\n",
    "\n",
    "# This prints the new dataset, each value is now represented by an interval\n",
    "attribute.sample(10)"
   ]
  },
  {
   "cell_type": "code",
   "execution_count": 28,
   "metadata": {},
   "outputs": [
    {
     "data": {
      "text/plain": [
       "array([ 0.9941    ,  2.96666667,  4.93333333,  6.9       ])"
      ]
     },
     "execution_count": 28,
     "metadata": {},
     "output_type": "execute_result"
    }
   ],
   "source": [
    "# This prints the resulting intervals\n",
    "bins"
   ]
  },
  {
   "cell_type": "code",
   "execution_count": 29,
   "metadata": {},
   "outputs": [
    {
     "data": {
      "text/plain": [
       "array([ 2.96666667,  4.93333333])"
      ]
     },
     "execution_count": 29,
     "metadata": {},
     "output_type": "execute_result"
    }
   ],
   "source": [
    "# It is important to remove the first bin and the last one, as we likely want to consider -infinite and +inf as our edge\n",
    "bins[1:-1]"
   ]
  },
  {
   "cell_type": "markdown",
   "metadata": {},
   "source": [
    "------------------------------------------------------------------------------------------------\n",
    "#### Prueba con un atributo:\n",
    "\n",
    "Vamos a probar a discretizar en 3 bins el atributo `sepal_length`:"
   ]
  },
  {
   "cell_type": "code",
   "execution_count": 30,
   "metadata": {},
   "outputs": [],
   "source": [
    "# Discretizing as before\n",
    "(attribute, bins) = pd.cut(df['petal_length'], bins=3, retbins=True)"
   ]
  },
  {
   "cell_type": "markdown",
   "metadata": {},
   "source": [
    "Ahora vamos a comprobar cómo de bien clasificaria esta partición del atributo por separado. Para ello vamos a crear una matriz indicando la distribución de cada clase respecto a cada intervalo."
   ]
  },
  {
   "cell_type": "code",
   "execution_count": 31,
   "metadata": {},
   "outputs": [
    {
     "data": {
      "text/html": [
       "<div>\n",
       "<style>\n",
       "    .dataframe thead tr:only-child th {\n",
       "        text-align: right;\n",
       "    }\n",
       "\n",
       "    .dataframe thead th {\n",
       "        text-align: left;\n",
       "    }\n",
       "\n",
       "    .dataframe tbody tr th {\n",
       "        vertical-align: top;\n",
       "    }\n",
       "</style>\n",
       "<table border=\"1\" class=\"dataframe\">\n",
       "  <thead>\n",
       "    <tr style=\"text-align: right;\">\n",
       "      <th>label</th>\n",
       "      <th>setosa</th>\n",
       "      <th>versicolor</th>\n",
       "      <th>virginica</th>\n",
       "    </tr>\n",
       "    <tr>\n",
       "      <th>petal_length</th>\n",
       "      <th></th>\n",
       "      <th></th>\n",
       "      <th></th>\n",
       "    </tr>\n",
       "  </thead>\n",
       "  <tbody>\n",
       "    <tr>\n",
       "      <th>(0.994, 2.967]</th>\n",
       "      <td>50</td>\n",
       "      <td>0</td>\n",
       "      <td>0</td>\n",
       "    </tr>\n",
       "    <tr>\n",
       "      <th>(2.967, 4.933]</th>\n",
       "      <td>0</td>\n",
       "      <td>48</td>\n",
       "      <td>6</td>\n",
       "    </tr>\n",
       "    <tr>\n",
       "      <th>(4.933, 6.9]</th>\n",
       "      <td>0</td>\n",
       "      <td>2</td>\n",
       "      <td>44</td>\n",
       "    </tr>\n",
       "  </tbody>\n",
       "</table>\n",
       "</div>"
      ],
      "text/plain": [
       "label           setosa  versicolor  virginica\n",
       "petal_length                                 \n",
       "(0.994, 2.967]      50           0          0\n",
       "(2.967, 4.933]       0          48          6\n",
       "(4.933, 6.9]         0           2         44"
      ]
     },
     "execution_count": 31,
     "metadata": {},
     "output_type": "execute_result"
    }
   ],
   "source": [
    "tab = pd.crosstab(attribute, df['label'])\n",
    "tab"
   ]
  },
  {
   "cell_type": "markdown",
   "metadata": {},
   "source": [
    "Para clasificar, asignaríamos a cada partición la clase mayoritaria, por lo que escogeríamos el valor máximo para cada fila. Según esta matriz podemos ver que la primera partición `(4.296, 5.5]` identificada muy bien la variable **setosa**, con muy poco error con respecto a las otras dos, y lo mismo para la tercera partición con respecto a la variable **virginica**.\n",
    "\n",
    "No obstante, la segunda partición `(5.5, 6.7]` estaría introduciendo mucho error, puesto que no hay mucha diferencia entre la clase mayoritaria **versicolor** y la clase **virginica**, por lo que todos los ejemplos de la segunda serían clasificados erroneamente.\n",
    "\n",
    "Una buena medida para evaluar esta partición sería la suma de todos los ejemplos que serían mal clasificados conforme a las particiones, es decir:"
   ]
  },
  {
   "cell_type": "code",
   "execution_count": 32,
   "metadata": {},
   "outputs": [
    {
     "data": {
      "text/plain": [
       "50"
      ]
     },
     "execution_count": 32,
     "metadata": {},
     "output_type": "execute_result"
    }
   ],
   "source": [
    "11+1+3+32+0+3"
   ]
  },
  {
   "cell_type": "markdown",
   "metadata": {},
   "source": [
    "También podemos calcularlo a partir de la tabla programáticamente. Podríamos usar un bucle... pero la notación vectorial de numpy es mucho más concisa.\n",
    "\n",
    "La siguiente operación computa el mismo resultado iterando por filas, sumando todos los valores y restando el maximo. Luego devolvemos la suma de la lista resultante. Si te cuesta entender el resultado prueba a separar cada operación en una línea diferente y asignará a una variable."
   ]
  },
  {
   "cell_type": "code",
   "execution_count": 33,
   "metadata": {},
   "outputs": [
    {
     "data": {
      "text/plain": [
       "8"
      ]
     },
     "execution_count": 33,
     "metadata": {},
     "output_type": "execute_result"
    }
   ],
   "source": [
    "sum( [ sum(f) - max(f) for f in tab.values ] )"
   ]
  },
  {
   "cell_type": "code",
   "execution_count": 34,
   "metadata": {},
   "outputs": [
    {
     "data": {
      "text/plain": [
       "array([[50,  0,  0],\n",
       "       [ 0, 48,  6],\n",
       "       [ 0,  2, 44]])"
      ]
     },
     "execution_count": 34,
     "metadata": {},
     "output_type": "execute_result"
    }
   ],
   "source": [
    "tab.values"
   ]
  },
  {
   "cell_type": "markdown",
   "metadata": {},
   "source": [
    "Para determinar cual es el valor de la clase mayoritaria en cada fila, podemos usar notación de comprensión de listas, mirar la tabla y quedarnos con el índice máximo. `tab.values` devuelve las filas de la tabla, de cada fila extraemos el índice máximo con `argmax`y luego obtenemos el nombre del estado correspondiente de la clase consultado el nombre de la columna correspondiente a dicho índice con `tab.columns`."
   ]
  },
  {
   "cell_type": "code",
   "execution_count": 35,
   "metadata": {},
   "outputs": [
    {
     "data": {
      "text/plain": [
       "['setosa', 'versicolor', 'virginica']"
      ]
     },
     "execution_count": 35,
     "metadata": {},
     "output_type": "execute_result"
    }
   ],
   "source": [
    "[ tab.columns[f.argmax()] for f in tab.values ]"
   ]
  },
  {
   "cell_type": "markdown",
   "metadata": {},
   "source": [
    "**Probad a cambiar el código anterior para analizar otro atributo diferente**\n",
    "¿La partición que genera es mejor o peor?, ¿concuerda con la gráfica anterior?"
   ]
  },
  {
   "cell_type": "markdown",
   "metadata": {},
   "source": [
    "---------\n",
    "Ahora implementamos el clasificador siguiendo la misma filosofia que usamos para ZeroR:\n",
    "Creamos una función de entrenamiento que dado unos datos de entrada genere una función de clasificación.\n",
    "\n",
    "Este clasificador dispone de un **hyperparámetro**, `nbins`, que condiciona el número de bins por el que se aplica el algoritmo de discretización. Un valor recomendado podría ser fijarlo al número de clases presentes en el problema."
   ]
  },
  {
   "cell_type": "markdown",
   "metadata": {},
   "source": [
    "---\n",
    "**Palabra clave**: Un **hyperparametro** es un parámetro del algoritmo de aprendizaje, que condiciona de algún modo cómo se inducirán los parámetros del modelo respecto a los datos y por ello influirá en su valor final. Cuantos más hyperparámetros tenga un modelo mayor complejidad tendrá pero también será más difícil de configurar a la hora de entrenarlo.\n"
   ]
  },
  {
   "cell_type": "markdown",
   "metadata": {},
   "source": [
    "### Implementación clasificador OneR"
   ]
  },
  {
   "cell_type": "code",
   "execution_count": 36,
   "metadata": {},
   "outputs": [],
   "source": [
    "# Complete the code when indicated with ???\n",
    "\n",
    "# Outer learning function, hyperparameter nbins=1 is equivalent to zeroR if all attributes are continuous\n",
    "def trainOneR(trainingData, nbins = 1, debug = True):\n",
    "    # Debug: \n",
    "    if debug:\n",
    "        print(\"-----------------------------------\")\n",
    "        print(\"Training OneR\")\n",
    "        print(\"-----------------------------------\")\n",
    "        print(\"attribute\\terror\")\n",
    "    # ------------------------------------\n",
    "\n",
    "    # Loop maximization variables\n",
    "    best_attribute = ''\n",
    "    best_partitions = []\n",
    "    best_classes = []\n",
    "    best_error =  float(\"inf\")\n",
    "\n",
    "    # We discretize each attribute and compute its error\n",
    "    for att in trainingData.columns.values: \n",
    "        # We must ignore the class variable\n",
    "        if att == 'label': continue\n",
    "\n",
    "        # First we generate the partitions\n",
    "        (attribute, bins) = pd.cut(trainingData[att], bins=3, retbins=True)\n",
    "\n",
    "        # The we must compute the error\n",
    "        tab = pd.crosstab(attribute, df['label'])\n",
    "        error = sum( [ sum(f) - max(f) for f in tab.values ] )\n",
    "\n",
    "        # We can show each variable individual error\n",
    "        if debug:\n",
    "            print(att, \"\\t\", error)\n",
    "        # ----------------------------------------\n",
    "        \n",
    "        # Lastly we compare if this attribute is better than the previous local optima\n",
    "        if (error < best_error):\n",
    "            # If that is the case we store it as the current local optima\n",
    "            best_attribute  = att\n",
    "            best_partitions = bins[1:]\n",
    "            # We must store the majority class for each interval in order to assign it\n",
    "            # during classification\n",
    "            best_classes = [ tab.columns[f.argmax()] for f in tab.values ]\n",
    "            best_error = error\n",
    "\n",
    "    # Now we generate the classifier function regarding the previous parameters\n",
    "    def classifier( testData ):\n",
    "        # It simply assigns the majority class for each interval\n",
    "        # For that we can use an auxiliar function to check which interval the current value\n",
    "        # for the optimal attribute belongs to and assign the stored majority class\n",
    "        def assignClass( attValue ):\n",
    "            for i in range(nbins):\n",
    "                if attValue <= best_partitions[i]:\n",
    "                    return best_classes[i]\n",
    "\n",
    "        # Now we apply the previous function to all the instances in the dataset\n",
    "        # Remember that when using map in python3 we must cast the result as list\n",
    "        prediction = list(map( assignClass, testData[best_attribute] ))\n",
    "\n",
    "        return testData.assign( prediction=prediction )\n",
    "    \n",
    "    print(\"-----------------------------------\")\n",
    "    return classifier"
   ]
  },
  {
   "cell_type": "markdown",
   "metadata": {},
   "source": [
    "**Una vez que estéis seguros de que entendéis bien todo el código**\n",
    "Podemos usar el algoritmo de manera análoga a como usamos en su momento ZeroR"
   ]
  },
  {
   "cell_type": "code",
   "execution_count": 37,
   "metadata": {},
   "outputs": [
    {
     "name": "stdout",
     "output_type": "stream",
     "text": [
      "-----------------------------------\n",
      "Training OneR\n",
      "-----------------------------------\n",
      "attribute\terror\n",
      "sepal_length \t 50\n",
      "sepal_width \t 74\n",
      "petal_length \t 8\n",
      "petal_width \t 6\n",
      "-----------------------------------\n"
     ]
    },
    {
     "data": {
      "text/html": [
       "<div>\n",
       "<style>\n",
       "    .dataframe thead tr:only-child th {\n",
       "        text-align: right;\n",
       "    }\n",
       "\n",
       "    .dataframe thead th {\n",
       "        text-align: left;\n",
       "    }\n",
       "\n",
       "    .dataframe tbody tr th {\n",
       "        vertical-align: top;\n",
       "    }\n",
       "</style>\n",
       "<table border=\"1\" class=\"dataframe\">\n",
       "  <thead>\n",
       "    <tr style=\"text-align: right;\">\n",
       "      <th></th>\n",
       "      <th>sepal_length</th>\n",
       "      <th>sepal_width</th>\n",
       "      <th>petal_length</th>\n",
       "      <th>petal_width</th>\n",
       "      <th>label</th>\n",
       "      <th>prediction</th>\n",
       "    </tr>\n",
       "  </thead>\n",
       "  <tbody>\n",
       "    <tr>\n",
       "      <th>102</th>\n",
       "      <td>7.1</td>\n",
       "      <td>3.0</td>\n",
       "      <td>5.9</td>\n",
       "      <td>2.1</td>\n",
       "      <td>virginica</td>\n",
       "      <td>virginica</td>\n",
       "    </tr>\n",
       "    <tr>\n",
       "      <th>105</th>\n",
       "      <td>7.6</td>\n",
       "      <td>3.0</td>\n",
       "      <td>6.6</td>\n",
       "      <td>2.1</td>\n",
       "      <td>virginica</td>\n",
       "      <td>virginica</td>\n",
       "    </tr>\n",
       "    <tr>\n",
       "      <th>138</th>\n",
       "      <td>6.0</td>\n",
       "      <td>3.0</td>\n",
       "      <td>4.8</td>\n",
       "      <td>1.8</td>\n",
       "      <td>virginica</td>\n",
       "      <td>virginica</td>\n",
       "    </tr>\n",
       "    <tr>\n",
       "      <th>19</th>\n",
       "      <td>5.1</td>\n",
       "      <td>3.8</td>\n",
       "      <td>1.5</td>\n",
       "      <td>0.3</td>\n",
       "      <td>setosa</td>\n",
       "      <td>setosa</td>\n",
       "    </tr>\n",
       "    <tr>\n",
       "      <th>112</th>\n",
       "      <td>6.8</td>\n",
       "      <td>3.0</td>\n",
       "      <td>5.5</td>\n",
       "      <td>2.1</td>\n",
       "      <td>virginica</td>\n",
       "      <td>virginica</td>\n",
       "    </tr>\n",
       "  </tbody>\n",
       "</table>\n",
       "</div>"
      ],
      "text/plain": [
       "     sepal_length  sepal_width  petal_length  petal_width      label  \\\n",
       "102           7.1          3.0           5.9          2.1  virginica   \n",
       "105           7.6          3.0           6.6          2.1  virginica   \n",
       "138           6.0          3.0           4.8          1.8  virginica   \n",
       "19            5.1          3.8           1.5          0.3     setosa   \n",
       "112           6.8          3.0           5.5          2.1  virginica   \n",
       "\n",
       "    prediction  \n",
       "102  virginica  \n",
       "105  virginica  \n",
       "138  virginica  \n",
       "19      setosa  \n",
       "112  virginica  "
      ]
     },
     "execution_count": 37,
     "metadata": {},
     "output_type": "execute_result"
    }
   ],
   "source": [
    "\n",
    "# Train the classifier\n",
    "oneRclassifier = trainOneR(df, nbins=len(df.label.unique()))\n",
    "\n",
    "# Classify some instances\n",
    "df_predicted = oneRclassifier(df)\n",
    "\n",
    "# Check the result\n",
    "df_predicted.sample(5)\n"
   ]
  },
  {
   "cell_type": "markdown",
   "metadata": {},
   "source": [
    "#### De igual modo, vamos a calcular el error de clasificación\n",
    "como podréis comprobar, es equivalente al calculado durante el aprendizaje para el mejor atributo"
   ]
  },
  {
   "cell_type": "code",
   "execution_count": 38,
   "metadata": {},
   "outputs": [
    {
     "data": {
      "text/html": [
       "<div>\n",
       "<style>\n",
       "    .dataframe thead tr:only-child th {\n",
       "        text-align: right;\n",
       "    }\n",
       "\n",
       "    .dataframe thead th {\n",
       "        text-align: left;\n",
       "    }\n",
       "\n",
       "    .dataframe tbody tr th {\n",
       "        vertical-align: top;\n",
       "    }\n",
       "</style>\n",
       "<table border=\"1\" class=\"dataframe\">\n",
       "  <thead>\n",
       "    <tr style=\"text-align: right;\">\n",
       "      <th>prediction</th>\n",
       "      <th>setosa</th>\n",
       "      <th>versicolor</th>\n",
       "      <th>virginica</th>\n",
       "    </tr>\n",
       "    <tr>\n",
       "      <th>label</th>\n",
       "      <th></th>\n",
       "      <th></th>\n",
       "      <th></th>\n",
       "    </tr>\n",
       "  </thead>\n",
       "  <tbody>\n",
       "    <tr>\n",
       "      <th>setosa</th>\n",
       "      <td>50</td>\n",
       "      <td>0</td>\n",
       "      <td>0</td>\n",
       "    </tr>\n",
       "    <tr>\n",
       "      <th>versicolor</th>\n",
       "      <td>0</td>\n",
       "      <td>49</td>\n",
       "      <td>1</td>\n",
       "    </tr>\n",
       "    <tr>\n",
       "      <th>virginica</th>\n",
       "      <td>0</td>\n",
       "      <td>5</td>\n",
       "      <td>45</td>\n",
       "    </tr>\n",
       "  </tbody>\n",
       "</table>\n",
       "</div>"
      ],
      "text/plain": [
       "prediction  setosa  versicolor  virginica\n",
       "label                                    \n",
       "setosa          50           0          0\n",
       "versicolor       0          49          1\n",
       "virginica        0           5         45"
      ]
     },
     "execution_count": 38,
     "metadata": {},
     "output_type": "execute_result"
    }
   ],
   "source": [
    "pd.crosstab(df_predicted['label'], df_predicted['prediction'])"
   ]
  },
  {
   "cell_type": "markdown",
   "metadata": {},
   "source": [
    "Repetimos ahora el cómputo de la tasa de acierto (accuracy), donde observamos que es mucho más alta que en el caso de ZeroR, tal y como esperábamos.\n",
    "\n",
    "**NOTA! He incluido una prueba en el código anterior, comparando el resultado obtenido con el que obtiene la implementación correcta. Si obteneis este error volved y comprobar vuestra implementación ya que es probable que tengáis un bug!**"
   ]
  },
  {
   "cell_type": "code",
   "execution_count": 39,
   "metadata": {},
   "outputs": [
    {
     "name": "stdout",
     "output_type": "stream",
     "text": [
      "Accuracy: 0.96\n"
     ]
    }
   ],
   "source": [
    "# Primero comparamos ambas comlumnas:\n",
    "comparison = df_predicted[df_predicted['label'] == df_predicted['prediction'] ]\n",
    "\n",
    "# TP: Contamos los aciertos:\n",
    "accuracy = len(comparison) / len(df_predicted)\n",
    "print(\"Accuracy:\", accuracy)\n",
    "\n",
    "assert accuracy == 0.96, \"ERROR! el accuracy obtenido no se corresponde con el de la implementación correcta (0.96) para este dataset. Volved al códido y arreglad los errores\""
   ]
  },
  {
   "cell_type": "markdown",
   "metadata": {
    "collapsed": true
   },
   "source": [
    "---\n",
    "## 4 .- Evaluación de modelos: Holdout"
   ]
  },
  {
   "cell_type": "markdown",
   "metadata": {
    "collapsed": true
   },
   "source": [
    "Hasta ahora hemos estado trabajando con todo el conjunto de datos conforme lo hemos cargado desde el fichero. Esto se considera una muy **mala práctica** ya que todas las decisiones que tomemos, incluido el análisis exploratorio estarán **sobreajustadas** y serán de mala calidad al no corresponderse con el mundo real."
   ]
  },
  {
   "cell_type": "markdown",
   "metadata": {},
   "source": [
    "---\n",
    "**Palabra clave** Decimos que un modelo está **sobreajustado** cuando sus parámetros se han aprendido de manera que intentan reproducir perfectamente los datos de entrenamiento, de los que conocemos su resultado. Este sobreentrenamiento (**overfitting**) implica que al modelo le costará más discriminar nuevos casos que presenten datos que nunca han sido observados, presentando un mayor nivel de error en su uso en en el mundo real. Cuando un clasificador se aprende de manera que se elimina el overffiting se dice que **generaliza**.\n",
    "\n",
    "Sobreajuste=falta de generalización\n",
    "\n",
    "---"
   ]
  },
  {
   "cell_type": "markdown",
   "metadata": {},
   "source": [
    "Desde el primer momento, es fundamental separar nuestro conjunto de datos como mínimo en dos: Una muestra de **entrenamiento** y una muestra de **testeo**, un proceso conocido como **holdout**. De este modo, podemos dejar el conjunto de testeo aparte a modo de instancias no observadas, para asegurarnos que los resultados de validación no están sobreajustados y que generalizan correctamente a nuevos datos."
   ]
  },
  {
   "cell_type": "markdown",
   "metadata": {},
   "source": [
    "Una vez en pandas, podemos aplicar un holdout partiendo directamente el dataset, para ello podemos usar la función de indexado:"
   ]
  },
  {
   "cell_type": "code",
   "execution_count": 40,
   "metadata": {},
   "outputs": [
    {
     "name": "stdout",
     "output_type": "stream",
     "text": [
      "150\n",
      "90\n",
      "60\n"
     ]
    }
   ],
   "source": [
    "\n",
    "# Supose a percentaje of training/test data\n",
    "trainingSize = 0.6\n",
    "\n",
    "# Compute the partition size\n",
    "# It is very important to use ceil to round the number to the next integer number!!\n",
    "from math import ceil\n",
    "cutIndex = ceil(len(df) * trainingSize)\n",
    "\n",
    "# We divide the dataset into two subsets by index:\n",
    "irisTraining = df.iloc[0:cutIndex]\n",
    "irisTest = df.iloc[cutIndex:]\n",
    "\n",
    "# Check the sizes to assure we are using all the instances:\n",
    "print(len(df))\n",
    "print(len(irisTraining))\n",
    "print(len(irisTest))"
   ]
  },
  {
   "cell_type": "markdown",
   "metadata": {},
   "source": [
    "Ahora es el momento de entrenar de nuevo ambos clasificadores y comprobar el resultado. Comenzaremos con el clasificador **ZeroR**, recordad que ahora entrenaremos con el tranining y evaluaremos con el test:"
   ]
  },
  {
   "cell_type": "code",
   "execution_count": 41,
   "metadata": {},
   "outputs": [
    {
     "data": {
      "text/html": [
       "<div>\n",
       "<style>\n",
       "    .dataframe thead tr:only-child th {\n",
       "        text-align: right;\n",
       "    }\n",
       "\n",
       "    .dataframe thead th {\n",
       "        text-align: left;\n",
       "    }\n",
       "\n",
       "    .dataframe tbody tr th {\n",
       "        vertical-align: top;\n",
       "    }\n",
       "</style>\n",
       "<table border=\"1\" class=\"dataframe\">\n",
       "  <thead>\n",
       "    <tr style=\"text-align: right;\">\n",
       "      <th>prediction</th>\n",
       "      <th>setosa</th>\n",
       "    </tr>\n",
       "    <tr>\n",
       "      <th>label</th>\n",
       "      <th></th>\n",
       "    </tr>\n",
       "  </thead>\n",
       "  <tbody>\n",
       "    <tr>\n",
       "      <th>setosa</th>\n",
       "      <td>0</td>\n",
       "    </tr>\n",
       "    <tr>\n",
       "      <th>versicolor</th>\n",
       "      <td>10</td>\n",
       "    </tr>\n",
       "    <tr>\n",
       "      <th>virginica</th>\n",
       "      <td>50</td>\n",
       "    </tr>\n",
       "  </tbody>\n",
       "</table>\n",
       "</div>"
      ],
      "text/plain": [
       "prediction  setosa\n",
       "label             \n",
       "setosa           0\n",
       "versicolor      10\n",
       "virginica       50"
      ]
     },
     "execution_count": 41,
     "metadata": {},
     "output_type": "execute_result"
    }
   ],
   "source": [
    "zeroRclassifier = trainZeroR(irisTraining)\n",
    "df_predicted = zeroRclassifier(irisTest)\n",
    "pd.crosstab(df_predicted['label'], df_predicted['prediction'])"
   ]
  },
  {
   "cell_type": "code",
   "execution_count": 42,
   "metadata": {},
   "outputs": [],
   "source": [
    "comparison = df_predicted[df_predicted['label'] == df_predicted['prediction'] ]\n",
    "accuracy = len(comparison) / len(df_predicted)"
   ]
  },
  {
   "cell_type": "code",
   "execution_count": 43,
   "metadata": {},
   "outputs": [
    {
     "data": {
      "text/plain": [
       "0.0"
      ]
     },
     "execution_count": 43,
     "metadata": {},
     "output_type": "execute_result"
    }
   ],
   "source": [
    "accuracy"
   ]
  },
  {
   "cell_type": "markdown",
   "metadata": {},
   "source": [
    "---\n",
    "Hemos obtenido un resultado mucho peor que en el caso anterior. ¿Qué ha pasado?, antes de seguir investigando probemos con el clasificador **OneR**\n",
    "\n",
    "Lo primero que hay que hacer es desordenar el dataset\n",
    "\n",
    "\n",
    "--------"
   ]
  },
  {
   "cell_type": "markdown",
   "metadata": {},
   "source": [
    "---\n",
    "#### **Un pequeño intermedio : Principio DRY! (Dont repeat yourself)** \n",
    "Como podéis observar, hemos repetido un código que ya habíamos escrito anteriormente para evaluar nuestro clasificador. Esto es una práctica muy negativa y que solemos repetir mucho en entornos de experimentación como Jupyter. El principio dry nos impone que no podemos NUNCA repetir nuestro código, y nos obliga a definir funciones reusables.\n",
    "\n",
    "Podríamos encapsular el código anterior dentro de una función genérica que nos permita invocar cualquier clasificador."
   ]
  },
  {
   "cell_type": "code",
   "execution_count": 44,
   "metadata": {},
   "outputs": [],
   "source": [
    "# The star notated argument are cale varargs, and can be passed to inner functions\n",
    "def trainAndEvalClassifier(classifier, trainingDf, testDf, **kwargs):\n",
    "    model = classifier(trainingDf, **kwargs)\n",
    "    predictedDf = model(testDf)\n",
    "    tab = pd.crosstab(predictedDf['label'], predictedDf['prediction'])\n",
    "    comparison = predictedDf[predictedDf['label'] == predictedDf['prediction'] ]\n",
    "    accuracy = len(comparison) / len(predictedDf)\n",
    "    return (tab, accuracy)"
   ]
  },
  {
   "cell_type": "markdown",
   "metadata": {},
   "source": [
    "Así usaríamos la función anterior para entrenar y validar zeroR:"
   ]
  },
  {
   "cell_type": "code",
   "execution_count": 45,
   "metadata": {},
   "outputs": [],
   "source": [
    "(tab, accuracy) = trainAndEvalClassifier(trainZeroR, irisTraining, irisTest)"
   ]
  },
  {
   "cell_type": "code",
   "execution_count": 46,
   "metadata": {},
   "outputs": [
    {
     "data": {
      "text/html": [
       "<div>\n",
       "<style>\n",
       "    .dataframe thead tr:only-child th {\n",
       "        text-align: right;\n",
       "    }\n",
       "\n",
       "    .dataframe thead th {\n",
       "        text-align: left;\n",
       "    }\n",
       "\n",
       "    .dataframe tbody tr th {\n",
       "        vertical-align: top;\n",
       "    }\n",
       "</style>\n",
       "<table border=\"1\" class=\"dataframe\">\n",
       "  <thead>\n",
       "    <tr style=\"text-align: right;\">\n",
       "      <th>prediction</th>\n",
       "      <th>setosa</th>\n",
       "    </tr>\n",
       "    <tr>\n",
       "      <th>label</th>\n",
       "      <th></th>\n",
       "    </tr>\n",
       "  </thead>\n",
       "  <tbody>\n",
       "    <tr>\n",
       "      <th>setosa</th>\n",
       "      <td>0</td>\n",
       "    </tr>\n",
       "    <tr>\n",
       "      <th>versicolor</th>\n",
       "      <td>10</td>\n",
       "    </tr>\n",
       "    <tr>\n",
       "      <th>virginica</th>\n",
       "      <td>50</td>\n",
       "    </tr>\n",
       "  </tbody>\n",
       "</table>\n",
       "</div>"
      ],
      "text/plain": [
       "prediction  setosa\n",
       "label             \n",
       "setosa           0\n",
       "versicolor      10\n",
       "virginica       50"
      ]
     },
     "execution_count": 46,
     "metadata": {},
     "output_type": "execute_result"
    }
   ],
   "source": [
    "tab"
   ]
  },
  {
   "cell_type": "code",
   "execution_count": 47,
   "metadata": {},
   "outputs": [
    {
     "name": "stdout",
     "output_type": "stream",
     "text": [
      "Accuracy: 0.0\n"
     ]
    }
   ],
   "source": [
    "print(\"Accuracy:\", accuracy)"
   ]
  },
  {
   "cell_type": "markdown",
   "metadata": {},
   "source": [
    "**Volvemos donde estábamos...** ¿Porqué obtenemos tan malo resultados?, probemos con OneR...\n",
    "\n",
    "---"
   ]
  },
  {
   "cell_type": "code",
   "execution_count": 48,
   "metadata": {},
   "outputs": [
    {
     "name": "stdout",
     "output_type": "stream",
     "text": [
      "-----------------------------------\n",
      "Training OneR\n",
      "-----------------------------------\n",
      "attribute\terror\n",
      "sepal_length \t 14\n",
      "sepal_width \t 20\n",
      "petal_length \t 0\n",
      "petal_width \t 0\n",
      "-----------------------------------\n"
     ]
    }
   ],
   "source": [
    "(tab, accuracy) = trainAndEvalClassifier(trainOneR, irisTraining, irisTest, nbins=len(df.label.unique()))"
   ]
  },
  {
   "cell_type": "code",
   "execution_count": 49,
   "metadata": {
    "scrolled": true
   },
   "outputs": [
    {
     "data": {
      "text/html": [
       "<div>\n",
       "<style>\n",
       "    .dataframe thead tr:only-child th {\n",
       "        text-align: right;\n",
       "    }\n",
       "\n",
       "    .dataframe thead th {\n",
       "        text-align: left;\n",
       "    }\n",
       "\n",
       "    .dataframe tbody tr th {\n",
       "        vertical-align: top;\n",
       "    }\n",
       "</style>\n",
       "<table border=\"1\" class=\"dataframe\">\n",
       "  <thead>\n",
       "    <tr style=\"text-align: right;\">\n",
       "      <th>prediction</th>\n",
       "      <th>versicolor</th>\n",
       "    </tr>\n",
       "    <tr>\n",
       "      <th>label</th>\n",
       "      <th></th>\n",
       "    </tr>\n",
       "  </thead>\n",
       "  <tbody>\n",
       "    <tr>\n",
       "      <th>setosa</th>\n",
       "      <td>0</td>\n",
       "    </tr>\n",
       "    <tr>\n",
       "      <th>versicolor</th>\n",
       "      <td>10</td>\n",
       "    </tr>\n",
       "    <tr>\n",
       "      <th>virginica</th>\n",
       "      <td>16</td>\n",
       "    </tr>\n",
       "  </tbody>\n",
       "</table>\n",
       "</div>"
      ],
      "text/plain": [
       "prediction  versicolor\n",
       "label                 \n",
       "setosa               0\n",
       "versicolor          10\n",
       "virginica           16"
      ]
     },
     "execution_count": 49,
     "metadata": {},
     "output_type": "execute_result"
    }
   ],
   "source": [
    "tab"
   ]
  },
  {
   "cell_type": "code",
   "execution_count": 50,
   "metadata": {},
   "outputs": [
    {
     "name": "stdout",
     "output_type": "stream",
     "text": [
      "Accuracy: 0.16666666666666666\n"
     ]
    }
   ],
   "source": [
    "print(\"Accuracy:\", accuracy)"
   ]
  },
  {
   "cell_type": "markdown",
   "metadata": {},
   "source": [
    "De nuevo el resultado es pésimo. ¿Cuál es el problema?, para averiguarlo vamos a echar un vistazo a nuestro **dataset de entrenamiento**. Para ello repetimos las gráficas del principio.\n",
    "\n",
    "Primero repetimos la distribución de la clase:"
   ]
  },
  {
   "cell_type": "code",
   "execution_count": 51,
   "metadata": {},
   "outputs": [
    {
     "data": {
      "image/png": "[encoded data removed]",
      "text/plain": [
       "<matplotlib.figure.Figure at 0x7f7f0477fb38>"
      ]
     },
     "metadata": {},
     "output_type": "display_data"
    }
   ],
   "source": [
    "gSingleBarplot(irisTraining, \"label\")"
   ]
  },
  {
   "cell_type": "markdown",
   "metadata": {},
   "source": [
    "No hace falta más, está claro que al separar los conjuntos de entrenamiento y test hemos eliminado todas las instancias de la clase **virginica**, es por ello que hemos sesgado completamente el aprendizaje de nuestros modelos de clasificación.\n",
    "\n",
    "Es la primera lección del preprocesado, *nunca asumir nada sobre el estado de los datos*. En nuestro caso, el problema es tan sencillo como que las instancias están ordenadas conforme a sus clases, primero las 50 instancias de **setosa**, luego las 50 de **versicolor**, así que antes de realizar ninguna operación sobre el conjunto de datos es razonable aplicar una **aleatorización** de los valores:"
   ]
  },
  {
   "cell_type": "code",
   "execution_count": 52,
   "metadata": {},
   "outputs": [
    {
     "data": {
      "text/plain": [
       "array([3, 4, 7, 5, 6, 1, 2])"
      ]
     },
     "execution_count": 52,
     "metadata": {},
     "output_type": "execute_result"
    }
   ],
   "source": [
    "# We can randomize an index by permuting its values with numpy\n",
    "np.random.permutation([1,2,3,4,5,6,7])"
   ]
  },
  {
   "cell_type": "code",
   "execution_count": 55,
   "metadata": {},
   "outputs": [],
   "source": [
    "\n",
    "# Supose a percentaje of training/test data\n",
    "trainingSize = 0.6\n",
    "\n",
    "# Compute the partition size\n",
    "cutIndex = ceil(len(df) * trainingSize)\n",
    "\n",
    "# Randomize the dataset by using random permutation of its index\n",
    "randomIndex = np.random.permutation( df.index )\n",
    "irispermdf = df.reindex( randomIndex )\n",
    "\n",
    "# We divide the dataset into two subsets by index:\n",
    "irisTraining = irispermdf.iloc[0:cutIndex-1]\n",
    "irisTest = irispermdf.iloc[cutIndex:]\n"
   ]
  },
  {
   "cell_type": "code",
   "execution_count": 56,
   "metadata": {},
   "outputs": [
    {
     "data": {
      "image/png": "[encoded data removed]",
      "text/plain": [
       "<matplotlib.figure.Figure at 0x7f7f0283b048>"
      ]
     },
     "metadata": {},
     "output_type": "display_data"
    }
   ],
   "source": [
    "gSingleBarplot(irisTraining, \"label\")"
   ]
  },
  {
   "cell_type": "markdown",
   "metadata": {},
   "source": [
    "Si ahora observamos el resultado veremos que hay más uniformidad en las instancias. **Probad a ejecutar el código anterior y a generar la gráfica varias veces**. Veréis que el resultado varia cada vez, esto es porque estamos utilizando una función aleatoria sin semilla y por ello nunca obtendremos el mismo resultado.\n",
    "\n",
    "Esta propiedad es indeseable en muchas ocasiones, ya que muchas veces querremos ser capaces de **reproducir** nuestros resultados. Para ello ajustaremos una semilla para la librería numpy con la función `np.random.seed`"
   ]
  },
  {
   "cell_type": "code",
   "execution_count": 57,
   "metadata": {},
   "outputs": [],
   "source": [
    "# En vuestros experimentos usad siempre una semilla, si no nunca los podreis recuperar\n",
    "seed=6342\n",
    "np.random.seed(6342) #DECLARARLA AL PRINCIPIO DEL CUADERNO Y BORRAR EL KERNEL"
   ]
  },
  {
   "cell_type": "markdown",
   "metadata": {},
   "source": [
    "---\n",
    "**Palabra clave** Decimos que un experimento es **reproducible** cuando podemos repetirlo en las mismas condiciones un número indeterminado de veces. Es muy importante tener esto en cuenta para que nuestros resultados no sean fruto del azar y puedan ser contrastados por otros profesionales.\n",
    "\n",
    "---"
   ]
  },
  {
   "cell_type": "markdown",
   "metadata": {},
   "source": [
    "Incluid el código de la semilla antes de llamar a cualquier función que dependa de **np.random**. Ahora volved a ejecutar el código varias veces para comprobar que el resultado ya no varia cada vez que lo ejecutamos. \n",
    "\n",
    "**NOTA** Es muy recomendable fijar una semilla al principio de una libreta para asegurar que siempre obtendremos los mismo resultados. Como estamos en un entorno interactivo es muy probable que ejecutemos cada celda varias veces, esto puede llevar a resultados que no son reproducibles. Antes de entregar una práctica es recomendable reiniciar la libreta y ejecutar todo de manera secuencial una única vez, para asegurarnos de los resultados que obtendremos."
   ]
  },
  {
   "cell_type": "markdown",
   "metadata": {},
   "source": [
    "#### Estratificación (primera prueba con scikit-learn)"
   ]
  },
  {
   "cell_type": "markdown",
   "metadata": {},
   "source": [
    "Hay una última consideración a tener en cuenta a la hora de separar los datos en training y test. Muchas veces, aleatorizar los datos no es suficiente, ya que de este modo no garantizamos **preservar las distribuciones de las variables**, y en casos complejos podemos estar eliminando gran cantidad de información.\n",
    "\n",
    "Es por ello que para garantizar dicha distribución solemos utilizar una técnica denominada **estratificación**. Con esta técnica garantizamos que para cada partición mantenemos una proporción de ejemplos de cada clase estable. Esto es aun más importante cuando nuestros datos están **desbalanceados**, es decir, tenemos un número de ejemplos distintos para cada clase.\n",
    "\n",
    "Para aplicar estratificación, utilizaremos una función de particionado de los datos de scikit-learn.\n"
   ]
  },
  {
   "cell_type": "markdown",
   "metadata": {},
   "source": [
    "Como veremos más adelante scikit separa siempre los atributos de la variable clase en todas sus operaciones, así que debemos acostumbrarnos a dividir las columnas de nuestro dataset:"
   ]
  },
  {
   "cell_type": "code",
   "execution_count": 58,
   "metadata": {},
   "outputs": [],
   "source": [
    "# We must always divide our dataset into attributes and label\n",
    "attributesdf = df.drop('label', 1)\n",
    "labeldf = df['label']"
   ]
  },
  {
   "cell_type": "markdown",
   "metadata": {},
   "source": [
    "Ahora cargamos y usamos la función `train_test_split` de scikit-learn para generar nuestras particiones. Esta función nos devolverá 4 particiones, correspondientes al entrenamiento y test para atributos y clase:"
   ]
  },
  {
   "cell_type": "code",
   "execution_count": 59,
   "metadata": {},
   "outputs": [],
   "source": [
    "from sklearn.model_selection import train_test_split\n",
    "train_atts, test_atts, train_label, test_label = train_test_split( \n",
    "    attributesdf, # Dataset con los atributos\n",
    "    labeldf, # Vector/dataset con la clase\n",
    "    test_size=0.4, # Proporcion de test\n",
    "    random_state=seed, # Semilla\n",
    "    stratify=labeldf) # Variable a estratificar"
   ]
  },
  {
   "cell_type": "markdown",
   "metadata": {},
   "source": [
    "Ahora podemos regenerar nuestros datatasets completos para usarlos con nuestros clasificadores custom, ZeroR y OneR. Para ello simplemente concatenaremos los datasets de atributos y de clase."
   ]
  },
  {
   "cell_type": "code",
   "execution_count": 60,
   "metadata": {},
   "outputs": [],
   "source": [
    "irisTraining = train_atts.assign(label = train_label)\n",
    "irisTest = test_atts.assign(label = test_label)"
   ]
  },
  {
   "cell_type": "markdown",
   "metadata": {},
   "source": [
    "Si repetimos la gráfica anterior, veremos que ahora nuestra partición de entrenamiento conserva la proporcion orginal entre las clases."
   ]
  },
  {
   "cell_type": "code",
   "execution_count": 61,
   "metadata": {},
   "outputs": [
    {
     "data": {
      "image/png": "[encoded data removed]",
      "text/plain": [
       "<matplotlib.figure.Figure at 0x7f7f02811b38>"
      ]
     },
     "metadata": {},
     "output_type": "display_data"
    }
   ],
   "source": [
    "gSingleBarplot(irisTraining, \"label\")"
   ]
  },
  {
   "cell_type": "markdown",
   "metadata": {},
   "source": [
    "------------"
   ]
  },
  {
   "cell_type": "markdown",
   "metadata": {},
   "source": [
    "Ahora repetiremos el experimento anterior para ver si los resultados son más razonables:\n",
    "\n",
    "**ZeroR**:"
   ]
  },
  {
   "cell_type": "code",
   "execution_count": 62,
   "metadata": {},
   "outputs": [],
   "source": [
    "(tab, accuracy) = trainAndEvalClassifier(trainZeroR, irisTraining, irisTest)"
   ]
  },
  {
   "cell_type": "code",
   "execution_count": 63,
   "metadata": {},
   "outputs": [
    {
     "data": {
      "text/html": [
       "<div>\n",
       "<style>\n",
       "    .dataframe thead tr:only-child th {\n",
       "        text-align: right;\n",
       "    }\n",
       "\n",
       "    .dataframe thead th {\n",
       "        text-align: left;\n",
       "    }\n",
       "\n",
       "    .dataframe tbody tr th {\n",
       "        vertical-align: top;\n",
       "    }\n",
       "</style>\n",
       "<table border=\"1\" class=\"dataframe\">\n",
       "  <thead>\n",
       "    <tr style=\"text-align: right;\">\n",
       "      <th>prediction</th>\n",
       "      <th>setosa</th>\n",
       "    </tr>\n",
       "    <tr>\n",
       "      <th>label</th>\n",
       "      <th></th>\n",
       "    </tr>\n",
       "  </thead>\n",
       "  <tbody>\n",
       "    <tr>\n",
       "      <th>setosa</th>\n",
       "      <td>20</td>\n",
       "    </tr>\n",
       "    <tr>\n",
       "      <th>versicolor</th>\n",
       "      <td>20</td>\n",
       "    </tr>\n",
       "    <tr>\n",
       "      <th>virginica</th>\n",
       "      <td>20</td>\n",
       "    </tr>\n",
       "  </tbody>\n",
       "</table>\n",
       "</div>"
      ],
      "text/plain": [
       "prediction  setosa\n",
       "label             \n",
       "setosa          20\n",
       "versicolor      20\n",
       "virginica       20"
      ]
     },
     "execution_count": 63,
     "metadata": {},
     "output_type": "execute_result"
    }
   ],
   "source": [
    "tab"
   ]
  },
  {
   "cell_type": "code",
   "execution_count": 64,
   "metadata": {},
   "outputs": [
    {
     "name": "stdout",
     "output_type": "stream",
     "text": [
      "Accuracy: 0.3333333333333333\n"
     ]
    }
   ],
   "source": [
    "print(\"Accuracy:\", accuracy)"
   ]
  },
  {
   "cell_type": "markdown",
   "metadata": {},
   "source": [
    "**OneR**"
   ]
  },
  {
   "cell_type": "code",
   "execution_count": 65,
   "metadata": {},
   "outputs": [
    {
     "name": "stdout",
     "output_type": "stream",
     "text": [
      "-----------------------------------\n",
      "Training OneR\n",
      "-----------------------------------\n",
      "attribute\terror\n",
      "sepal_length \t 30\n",
      "sepal_width \t 41\n",
      "petal_length \t 5\n",
      "petal_width \t 4\n",
      "-----------------------------------\n"
     ]
    }
   ],
   "source": [
    "(tab, accuracy) = trainAndEvalClassifier(trainOneR, irisTraining, irisTest, nbins=len(df.label.unique()))"
   ]
  },
  {
   "cell_type": "code",
   "execution_count": 66,
   "metadata": {},
   "outputs": [
    {
     "data": {
      "text/html": [
       "<div>\n",
       "<style>\n",
       "    .dataframe thead tr:only-child th {\n",
       "        text-align: right;\n",
       "    }\n",
       "\n",
       "    .dataframe thead th {\n",
       "        text-align: left;\n",
       "    }\n",
       "\n",
       "    .dataframe tbody tr th {\n",
       "        vertical-align: top;\n",
       "    }\n",
       "</style>\n",
       "<table border=\"1\" class=\"dataframe\">\n",
       "  <thead>\n",
       "    <tr style=\"text-align: right;\">\n",
       "      <th>prediction</th>\n",
       "      <th>setosa</th>\n",
       "      <th>versicolor</th>\n",
       "      <th>virginica</th>\n",
       "    </tr>\n",
       "    <tr>\n",
       "      <th>label</th>\n",
       "      <th></th>\n",
       "      <th></th>\n",
       "      <th></th>\n",
       "    </tr>\n",
       "  </thead>\n",
       "  <tbody>\n",
       "    <tr>\n",
       "      <th>setosa</th>\n",
       "      <td>20</td>\n",
       "      <td>0</td>\n",
       "      <td>0</td>\n",
       "    </tr>\n",
       "    <tr>\n",
       "      <th>versicolor</th>\n",
       "      <td>0</td>\n",
       "      <td>19</td>\n",
       "      <td>1</td>\n",
       "    </tr>\n",
       "    <tr>\n",
       "      <th>virginica</th>\n",
       "      <td>0</td>\n",
       "      <td>1</td>\n",
       "      <td>19</td>\n",
       "    </tr>\n",
       "  </tbody>\n",
       "</table>\n",
       "</div>"
      ],
      "text/plain": [
       "prediction  setosa  versicolor  virginica\n",
       "label                                    \n",
       "setosa          20           0          0\n",
       "versicolor       0          19          1\n",
       "virginica        0           1         19"
      ]
     },
     "execution_count": 66,
     "metadata": {},
     "output_type": "execute_result"
    }
   ],
   "source": [
    "tab"
   ]
  },
  {
   "cell_type": "code",
   "execution_count": 67,
   "metadata": {},
   "outputs": [
    {
     "name": "stdout",
     "output_type": "stream",
     "text": [
      "Accuracy: 0.9666666666666667\n"
     ]
    }
   ],
   "source": [
    "print(\"Accuracy:\", accuracy)"
   ]
  },
  {
   "cell_type": "markdown",
   "metadata": {},
   "source": [
    "------\n",
    "Parece que los resultados usando el holdout correctamente son mucho más razonables y un poco peores que entrenando y testeando con todo el conjunto de datos.\n",
    "\n",
    "**Como sugerencia**, probad a modificar el porcentaje de entrenamiento/test en el proceso de holdout y observad el cambio en el resultado de la clasificación."
   ]
  },
  {
   "cell_type": "markdown",
   "metadata": {},
   "source": [
    "---\n",
    "## 5 .- Clasificación con scikit-learn"
   ]
  },
  {
   "cell_type": "markdown",
   "metadata": {},
   "source": [
    "Ahora que ya hemos jugado con nuestros propios clasificadores, es hora de probar un método más competitivo y utilizar el paquete **scikit-learn**.\n",
    "\n",
    "Concretamente utilizaremos un árbol de decisión, solo arañaremos el potencial de la librería en esta práctica. En las siguientes sesiones nos centraremos en como usar y ajustar este tipo de modelos."
   ]
  },
  {
   "cell_type": "markdown",
   "metadata": {},
   "source": [
    "Para lanzar el algoritmo debemos cargar la librería y usar las funciones correspondientes:"
   ]
  },
  {
   "cell_type": "code",
   "execution_count": 68,
   "metadata": {},
   "outputs": [],
   "source": [
    "from sklearn import tree\n",
    "# Init the model (set hyperparameters)\n",
    "model = tree.DecisionTreeClassifier(random_state=seed)"
   ]
  },
  {
   "cell_type": "markdown",
   "metadata": {},
   "source": [
    "Para entrenar un modelo de sklearn, tenemos que pasarle por separado los atributos y la clase. Para ello creamos las siguientes estructuras:"
   ]
  },
  {
   "cell_type": "code",
   "execution_count": 69,
   "metadata": {},
   "outputs": [],
   "source": [
    "features = irisTraining.drop('label',1)\n",
    "labels = irisTraining['label']"
   ]
  },
  {
   "cell_type": "markdown",
   "metadata": {},
   "source": [
    "Para entrenar un clasificador usaremos la función **fit**:"
   ]
  },
  {
   "cell_type": "code",
   "execution_count": 70,
   "metadata": {},
   "outputs": [],
   "source": [
    "# Use fit to learn from a configured model\n",
    "classifier = model.fit(features, labels)"
   ]
  },
  {
   "cell_type": "markdown",
   "metadata": {},
   "source": [
    "Para evaluar nuevas instancias utilizaremos el modelo aprendido junto a la función predict. Es muy importante que quitemos la información de la clase del dataset de test antes de evaluarlo."
   ]
  },
  {
   "cell_type": "code",
   "execution_count": 71,
   "metadata": {},
   "outputs": [],
   "source": [
    "testFeatures = irisTest.drop('label',1)\n",
    "prediction = classifier.predict(testFeatures)"
   ]
  },
  {
   "cell_type": "markdown",
   "metadata": {},
   "source": [
    "Una vez hayamos obtenido nuestro vector de predicciones, podemos calcular la matriz de confusión y las tasa de acierto:"
   ]
  },
  {
   "cell_type": "code",
   "execution_count": 72,
   "metadata": {},
   "outputs": [
    {
     "data": {
      "text/html": [
       "<div>\n",
       "<style>\n",
       "    .dataframe thead tr:only-child th {\n",
       "        text-align: right;\n",
       "    }\n",
       "\n",
       "    .dataframe thead th {\n",
       "        text-align: left;\n",
       "    }\n",
       "\n",
       "    .dataframe tbody tr th {\n",
       "        vertical-align: top;\n",
       "    }\n",
       "</style>\n",
       "<table border=\"1\" class=\"dataframe\">\n",
       "  <thead>\n",
       "    <tr style=\"text-align: right;\">\n",
       "      <th>col_0</th>\n",
       "      <th>setosa</th>\n",
       "      <th>versicolor</th>\n",
       "      <th>virginica</th>\n",
       "    </tr>\n",
       "    <tr>\n",
       "      <th>label</th>\n",
       "      <th></th>\n",
       "      <th></th>\n",
       "      <th></th>\n",
       "    </tr>\n",
       "  </thead>\n",
       "  <tbody>\n",
       "    <tr>\n",
       "      <th>setosa</th>\n",
       "      <td>20</td>\n",
       "      <td>0</td>\n",
       "      <td>0</td>\n",
       "    </tr>\n",
       "    <tr>\n",
       "      <th>versicolor</th>\n",
       "      <td>0</td>\n",
       "      <td>18</td>\n",
       "      <td>2</td>\n",
       "    </tr>\n",
       "    <tr>\n",
       "      <th>virginica</th>\n",
       "      <td>0</td>\n",
       "      <td>0</td>\n",
       "      <td>20</td>\n",
       "    </tr>\n",
       "  </tbody>\n",
       "</table>\n",
       "</div>"
      ],
      "text/plain": [
       "col_0       setosa  versicolor  virginica\n",
       "label                                    \n",
       "setosa          20           0          0\n",
       "versicolor       0          18          2\n",
       "virginica        0           0         20"
      ]
     },
     "execution_count": 72,
     "metadata": {},
     "output_type": "execute_result"
    }
   ],
   "source": [
    "pd.crosstab(irisTest['label'], prediction)"
   ]
  },
  {
   "cell_type": "code",
   "execution_count": 73,
   "metadata": {},
   "outputs": [
    {
     "name": "stdout",
     "output_type": "stream",
     "text": [
      "Accuracy: 0.9666666666666667\n"
     ]
    }
   ],
   "source": [
    "comparison = irisTest[irisTest['label'] == prediction]\n",
    "accuracy = len(comparison) / len(irisTest)\n",
    "print(\"Accuracy:\", accuracy)"
   ]
  },
  {
   "cell_type": "markdown",
   "metadata": {},
   "source": [
    "**Conclusión**: No parece que el dataset iris sea muy complejo, ya que un clasificador OneR y un árbol de decisión no se llevan mucho... No obstante, como veremos en la segunda parte de la práctica esto no siempre es así."
   ]
  },
  {
   "cell_type": "markdown",
   "metadata": {},
   "source": [
    "**Pregunta avanzada:** ¿En este caso, cuál es el parecido entre un árbol de decisión y el algoritmo OneR?  La particicion qye hace 1R es como un primer nodo en un arbol"
   ]
  },
  {
   "cell_type": "markdown",
   "metadata": {},
   "source": [
    "---\n",
    "## 6 .- Preprocesamiento de datos"
   ]
  },
  {
   "cell_type": "markdown",
   "metadata": {},
   "source": [
    "### Tratamiento de valores perdidos"
   ]
  },
  {
   "cell_type": "markdown",
   "metadata": {},
   "source": [
    "En muchos casos tendremos casos en nuestro dataset en los que alguna variable no está observada, esto se denomina **casos perdidos**. La mayor parte de los algoritmos de clasificación no son capaces de tratar con este fenómeno, es por ello que en muchos casos debemos preprocesar el conjunto de datos antes de empezar a trabajar con él.\n",
    "\n",
    "Existen diversas técnicas para eliminar los valores perdidos:\n",
    "\n",
    "* Podemos sencillamente eliminar los casos completos que contengan algún valor perdido. Esta es una decisión drástica y solo puede llevarse a cabo cuando se trate de un porcentaje muy pequeño de la base datos. Aun así podríamos estar perdiendo información.\n",
    "* Podemos rellenar (imputar) los valores perdidos con algún valor concreto. En muchos casos se suelen utilizar estadísticos como la media o la moda, pero también es muy común definir técnicas más complejas que se basan en predecir los valores perdidos construyendo un modelo con respecto al resto de los datos (interpolación, regresión o métodos Bayesianos)."
   ]
  },
  {
   "cell_type": "markdown",
   "metadata": {},
   "source": [
    "Vamos a prácticas algunas técnicas sobre el conjunto de datos iris, que como no tiene datos perdidos, hemos de introducirlos artificialmente."
   ]
  },
  {
   "cell_type": "code",
   "execution_count": 74,
   "metadata": {},
   "outputs": [],
   "source": [
    "missingDf = df.copy()\n",
    "\n",
    "label = missingDf['label']\n",
    "attributes = missingDf.drop('label', 1)\n",
    "\n",
    "import random\n",
    "ix = [(row, col) for row in range(attributes.shape[0]) for col in range(attributes.shape[1])]\n",
    "for row, col in random.sample(ix, int(round(.1*len(ix)))):\n",
    "    missingDf.iat[row, col] = np.nan"
   ]
  },
  {
   "cell_type": "code",
   "execution_count": 75,
   "metadata": {},
   "outputs": [
    {
     "data": {
      "text/html": [
       "<div>\n",
       "<style>\n",
       "    .dataframe thead tr:only-child th {\n",
       "        text-align: right;\n",
       "    }\n",
       "\n",
       "    .dataframe thead th {\n",
       "        text-align: left;\n",
       "    }\n",
       "\n",
       "    .dataframe tbody tr th {\n",
       "        vertical-align: top;\n",
       "    }\n",
       "</style>\n",
       "<table border=\"1\" class=\"dataframe\">\n",
       "  <thead>\n",
       "    <tr style=\"text-align: right;\">\n",
       "      <th></th>\n",
       "      <th>sepal_length</th>\n",
       "      <th>sepal_width</th>\n",
       "      <th>petal_length</th>\n",
       "      <th>petal_width</th>\n",
       "      <th>label</th>\n",
       "    </tr>\n",
       "  </thead>\n",
       "  <tbody>\n",
       "    <tr>\n",
       "      <th>93</th>\n",
       "      <td>NaN</td>\n",
       "      <td>2.3</td>\n",
       "      <td>3.3</td>\n",
       "      <td>1.0</td>\n",
       "      <td>versicolor</td>\n",
       "    </tr>\n",
       "    <tr>\n",
       "      <th>21</th>\n",
       "      <td>5.1</td>\n",
       "      <td>3.7</td>\n",
       "      <td>NaN</td>\n",
       "      <td>0.4</td>\n",
       "      <td>setosa</td>\n",
       "    </tr>\n",
       "    <tr>\n",
       "      <th>58</th>\n",
       "      <td>6.6</td>\n",
       "      <td>NaN</td>\n",
       "      <td>4.6</td>\n",
       "      <td>1.3</td>\n",
       "      <td>versicolor</td>\n",
       "    </tr>\n",
       "    <tr>\n",
       "      <th>67</th>\n",
       "      <td>5.8</td>\n",
       "      <td>2.7</td>\n",
       "      <td>4.1</td>\n",
       "      <td>1.0</td>\n",
       "      <td>versicolor</td>\n",
       "    </tr>\n",
       "    <tr>\n",
       "      <th>97</th>\n",
       "      <td>6.2</td>\n",
       "      <td>2.9</td>\n",
       "      <td>4.3</td>\n",
       "      <td>1.3</td>\n",
       "      <td>versicolor</td>\n",
       "    </tr>\n",
       "    <tr>\n",
       "      <th>10</th>\n",
       "      <td>5.4</td>\n",
       "      <td>3.7</td>\n",
       "      <td>1.5</td>\n",
       "      <td>NaN</td>\n",
       "      <td>setosa</td>\n",
       "    </tr>\n",
       "    <tr>\n",
       "      <th>134</th>\n",
       "      <td>6.1</td>\n",
       "      <td>2.6</td>\n",
       "      <td>NaN</td>\n",
       "      <td>1.4</td>\n",
       "      <td>virginica</td>\n",
       "    </tr>\n",
       "    <tr>\n",
       "      <th>2</th>\n",
       "      <td>4.7</td>\n",
       "      <td>3.2</td>\n",
       "      <td>1.3</td>\n",
       "      <td>0.2</td>\n",
       "      <td>setosa</td>\n",
       "    </tr>\n",
       "    <tr>\n",
       "      <th>122</th>\n",
       "      <td>7.7</td>\n",
       "      <td>2.8</td>\n",
       "      <td>6.7</td>\n",
       "      <td>2.0</td>\n",
       "      <td>virginica</td>\n",
       "    </tr>\n",
       "    <tr>\n",
       "      <th>53</th>\n",
       "      <td>5.5</td>\n",
       "      <td>2.3</td>\n",
       "      <td>4.0</td>\n",
       "      <td>1.3</td>\n",
       "      <td>versicolor</td>\n",
       "    </tr>\n",
       "  </tbody>\n",
       "</table>\n",
       "</div>"
      ],
      "text/plain": [
       "     sepal_length  sepal_width  petal_length  petal_width       label\n",
       "93            NaN          2.3           3.3          1.0  versicolor\n",
       "21            5.1          3.7           NaN          0.4      setosa\n",
       "58            6.6          NaN           4.6          1.3  versicolor\n",
       "67            5.8          2.7           4.1          1.0  versicolor\n",
       "97            6.2          2.9           4.3          1.3  versicolor\n",
       "10            5.4          3.7           1.5          NaN      setosa\n",
       "134           6.1          2.6           NaN          1.4   virginica\n",
       "2             4.7          3.2           1.3          0.2      setosa\n",
       "122           7.7          2.8           6.7          2.0   virginica\n",
       "53            5.5          2.3           4.0          1.3  versicolor"
      ]
     },
     "execution_count": 75,
     "metadata": {},
     "output_type": "execute_result"
    }
   ],
   "source": [
    "missingDf.sample(10)"
   ]
  },
  {
   "cell_type": "markdown",
   "metadata": {},
   "source": [
    "Vereis que aparecen algunos valores como `NaN`, es decir que no conocemos su valor. Para saber cuantos valores perdidos tiene cada variable podemos usar `describe` y fijarnos en el atributo count:"
   ]
  },
  {
   "cell_type": "code",
   "execution_count": 76,
   "metadata": {},
   "outputs": [
    {
     "data": {
      "text/html": [
       "<div>\n",
       "<style>\n",
       "    .dataframe thead tr:only-child th {\n",
       "        text-align: right;\n",
       "    }\n",
       "\n",
       "    .dataframe thead th {\n",
       "        text-align: left;\n",
       "    }\n",
       "\n",
       "    .dataframe tbody tr th {\n",
       "        vertical-align: top;\n",
       "    }\n",
       "</style>\n",
       "<table border=\"1\" class=\"dataframe\">\n",
       "  <thead>\n",
       "    <tr style=\"text-align: right;\">\n",
       "      <th></th>\n",
       "      <th>sepal_length</th>\n",
       "      <th>sepal_width</th>\n",
       "      <th>petal_length</th>\n",
       "      <th>petal_width</th>\n",
       "    </tr>\n",
       "  </thead>\n",
       "  <tbody>\n",
       "    <tr>\n",
       "      <th>count</th>\n",
       "      <td>142.000000</td>\n",
       "      <td>134.000000</td>\n",
       "      <td>128.000000</td>\n",
       "      <td>136.000000</td>\n",
       "    </tr>\n",
       "    <tr>\n",
       "      <th>mean</th>\n",
       "      <td>5.883099</td>\n",
       "      <td>3.045522</td>\n",
       "      <td>3.757812</td>\n",
       "      <td>1.197059</td>\n",
       "    </tr>\n",
       "    <tr>\n",
       "      <th>std</th>\n",
       "      <td>0.820221</td>\n",
       "      <td>0.434701</td>\n",
       "      <td>1.753314</td>\n",
       "      <td>0.771621</td>\n",
       "    </tr>\n",
       "    <tr>\n",
       "      <th>min</th>\n",
       "      <td>4.300000</td>\n",
       "      <td>2.000000</td>\n",
       "      <td>1.000000</td>\n",
       "      <td>0.100000</td>\n",
       "    </tr>\n",
       "    <tr>\n",
       "      <th>25%</th>\n",
       "      <td>5.200000</td>\n",
       "      <td>2.800000</td>\n",
       "      <td>1.600000</td>\n",
       "      <td>0.300000</td>\n",
       "    </tr>\n",
       "    <tr>\n",
       "      <th>50%</th>\n",
       "      <td>5.800000</td>\n",
       "      <td>3.000000</td>\n",
       "      <td>4.350000</td>\n",
       "      <td>1.300000</td>\n",
       "    </tr>\n",
       "    <tr>\n",
       "      <th>75%</th>\n",
       "      <td>6.400000</td>\n",
       "      <td>3.300000</td>\n",
       "      <td>5.100000</td>\n",
       "      <td>1.800000</td>\n",
       "    </tr>\n",
       "    <tr>\n",
       "      <th>max</th>\n",
       "      <td>7.900000</td>\n",
       "      <td>4.400000</td>\n",
       "      <td>6.900000</td>\n",
       "      <td>2.500000</td>\n",
       "    </tr>\n",
       "  </tbody>\n",
       "</table>\n",
       "</div>"
      ],
      "text/plain": [
       "       sepal_length  sepal_width  petal_length  petal_width\n",
       "count    142.000000   134.000000    128.000000   136.000000\n",
       "mean       5.883099     3.045522      3.757812     1.197059\n",
       "std        0.820221     0.434701      1.753314     0.771621\n",
       "min        4.300000     2.000000      1.000000     0.100000\n",
       "25%        5.200000     2.800000      1.600000     0.300000\n",
       "50%        5.800000     3.000000      4.350000     1.300000\n",
       "75%        6.400000     3.300000      5.100000     1.800000\n",
       "max        7.900000     4.400000      6.900000     2.500000"
      ]
     },
     "execution_count": 76,
     "metadata": {},
     "output_type": "execute_result"
    }
   ],
   "source": [
    "missingDf.describe()"
   ]
  },
  {
   "cell_type": "markdown",
   "metadata": {},
   "source": [
    "Compararemos el total con el tamaño del dataframe:"
   ]
  },
  {
   "cell_type": "code",
   "execution_count": 77,
   "metadata": {},
   "outputs": [
    {
     "data": {
      "text/plain": [
       "150"
      ]
     },
     "execution_count": 77,
     "metadata": {},
     "output_type": "execute_result"
    }
   ],
   "source": [
    "len(df)"
   ]
  },
  {
   "cell_type": "markdown",
   "metadata": {},
   "source": [
    "### Tratamiento de valores perdidos: Eliminación"
   ]
  },
  {
   "cell_type": "markdown",
   "metadata": {},
   "source": [
    "Lo más inmediato sería eliminar bien los **ejemplos** que contengan valores perdidos o bien los **Atributos**, no obstante hay que tener cuidado ya que es probable que perdamos demasiados datos y nos quedemos sin suficientes recursos para aprender y evaluar nuestros modelos.\n",
    "\n",
    "Para eliminar los valores perdidos usamos la función `dropna(axis=n)` que elimina los valores perdidos por filas (`axis = 0`) o por columnas (`axis = 1`)"
   ]
  },
  {
   "cell_type": "code",
   "execution_count": 78,
   "metadata": {},
   "outputs": [
    {
     "data": {
      "text/html": [
       "<div>\n",
       "<style>\n",
       "    .dataframe thead tr:only-child th {\n",
       "        text-align: right;\n",
       "    }\n",
       "\n",
       "    .dataframe thead th {\n",
       "        text-align: left;\n",
       "    }\n",
       "\n",
       "    .dataframe tbody tr th {\n",
       "        vertical-align: top;\n",
       "    }\n",
       "</style>\n",
       "<table border=\"1\" class=\"dataframe\">\n",
       "  <thead>\n",
       "    <tr style=\"text-align: right;\">\n",
       "      <th></th>\n",
       "      <th>sepal_length</th>\n",
       "      <th>sepal_width</th>\n",
       "      <th>petal_length</th>\n",
       "      <th>petal_width</th>\n",
       "      <th>label</th>\n",
       "    </tr>\n",
       "  </thead>\n",
       "  <tbody>\n",
       "    <tr>\n",
       "      <th>53</th>\n",
       "      <td>5.5</td>\n",
       "      <td>2.3</td>\n",
       "      <td>4.0</td>\n",
       "      <td>1.3</td>\n",
       "      <td>versicolor</td>\n",
       "    </tr>\n",
       "    <tr>\n",
       "      <th>133</th>\n",
       "      <td>6.3</td>\n",
       "      <td>2.8</td>\n",
       "      <td>5.1</td>\n",
       "      <td>1.5</td>\n",
       "      <td>virginica</td>\n",
       "    </tr>\n",
       "    <tr>\n",
       "      <th>106</th>\n",
       "      <td>4.9</td>\n",
       "      <td>2.5</td>\n",
       "      <td>4.5</td>\n",
       "      <td>1.7</td>\n",
       "      <td>virginica</td>\n",
       "    </tr>\n",
       "    <tr>\n",
       "      <th>60</th>\n",
       "      <td>5.0</td>\n",
       "      <td>2.0</td>\n",
       "      <td>3.5</td>\n",
       "      <td>1.0</td>\n",
       "      <td>versicolor</td>\n",
       "    </tr>\n",
       "    <tr>\n",
       "      <th>143</th>\n",
       "      <td>6.8</td>\n",
       "      <td>3.2</td>\n",
       "      <td>5.9</td>\n",
       "      <td>2.3</td>\n",
       "      <td>virginica</td>\n",
       "    </tr>\n",
       "    <tr>\n",
       "      <th>128</th>\n",
       "      <td>6.4</td>\n",
       "      <td>2.8</td>\n",
       "      <td>5.6</td>\n",
       "      <td>2.1</td>\n",
       "      <td>virginica</td>\n",
       "    </tr>\n",
       "    <tr>\n",
       "      <th>48</th>\n",
       "      <td>5.3</td>\n",
       "      <td>3.7</td>\n",
       "      <td>1.5</td>\n",
       "      <td>0.2</td>\n",
       "      <td>setosa</td>\n",
       "    </tr>\n",
       "    <tr>\n",
       "      <th>72</th>\n",
       "      <td>6.3</td>\n",
       "      <td>2.5</td>\n",
       "      <td>4.9</td>\n",
       "      <td>1.5</td>\n",
       "      <td>versicolor</td>\n",
       "    </tr>\n",
       "    <tr>\n",
       "      <th>148</th>\n",
       "      <td>6.2</td>\n",
       "      <td>3.4</td>\n",
       "      <td>5.4</td>\n",
       "      <td>2.3</td>\n",
       "      <td>virginica</td>\n",
       "    </tr>\n",
       "    <tr>\n",
       "      <th>24</th>\n",
       "      <td>4.8</td>\n",
       "      <td>3.4</td>\n",
       "      <td>1.9</td>\n",
       "      <td>0.2</td>\n",
       "      <td>setosa</td>\n",
       "    </tr>\n",
       "  </tbody>\n",
       "</table>\n",
       "</div>"
      ],
      "text/plain": [
       "     sepal_length  sepal_width  petal_length  petal_width       label\n",
       "53            5.5          2.3           4.0          1.3  versicolor\n",
       "133           6.3          2.8           5.1          1.5   virginica\n",
       "106           4.9          2.5           4.5          1.7   virginica\n",
       "60            5.0          2.0           3.5          1.0  versicolor\n",
       "143           6.8          3.2           5.9          2.3   virginica\n",
       "128           6.4          2.8           5.6          2.1   virginica\n",
       "48            5.3          3.7           1.5          0.2      setosa\n",
       "72            6.3          2.5           4.9          1.5  versicolor\n",
       "148           6.2          3.4           5.4          2.3   virginica\n",
       "24            4.8          3.4           1.9          0.2      setosa"
      ]
     },
     "execution_count": 78,
     "metadata": {},
     "output_type": "execute_result"
    }
   ],
   "source": [
    "# By Row:\n",
    "cleanDf = missingDf.dropna(axis=0)\n",
    "cleanDf.sample(10)"
   ]
  },
  {
   "cell_type": "markdown",
   "metadata": {},
   "source": [
    "Vereis que nos hemos quedado casi sin filas:"
   ]
  },
  {
   "cell_type": "code",
   "execution_count": 79,
   "metadata": {},
   "outputs": [
    {
     "data": {
      "text/plain": [
       "92"
      ]
     },
     "execution_count": 79,
     "metadata": {},
     "output_type": "execute_result"
    }
   ],
   "source": [
    "len(cleanDf)"
   ]
  },
  {
   "cell_type": "code",
   "execution_count": 80,
   "metadata": {},
   "outputs": [
    {
     "data": {
      "text/html": [
       "<div>\n",
       "<style>\n",
       "    .dataframe thead tr:only-child th {\n",
       "        text-align: right;\n",
       "    }\n",
       "\n",
       "    .dataframe thead th {\n",
       "        text-align: left;\n",
       "    }\n",
       "\n",
       "    .dataframe tbody tr th {\n",
       "        vertical-align: top;\n",
       "    }\n",
       "</style>\n",
       "<table border=\"1\" class=\"dataframe\">\n",
       "  <thead>\n",
       "    <tr style=\"text-align: right;\">\n",
       "      <th></th>\n",
       "      <th>label</th>\n",
       "    </tr>\n",
       "  </thead>\n",
       "  <tbody>\n",
       "    <tr>\n",
       "      <th>117</th>\n",
       "      <td>virginica</td>\n",
       "    </tr>\n",
       "    <tr>\n",
       "      <th>1</th>\n",
       "      <td>setosa</td>\n",
       "    </tr>\n",
       "    <tr>\n",
       "      <th>127</th>\n",
       "      <td>virginica</td>\n",
       "    </tr>\n",
       "    <tr>\n",
       "      <th>37</th>\n",
       "      <td>setosa</td>\n",
       "    </tr>\n",
       "    <tr>\n",
       "      <th>113</th>\n",
       "      <td>virginica</td>\n",
       "    </tr>\n",
       "    <tr>\n",
       "      <th>115</th>\n",
       "      <td>virginica</td>\n",
       "    </tr>\n",
       "    <tr>\n",
       "      <th>90</th>\n",
       "      <td>versicolor</td>\n",
       "    </tr>\n",
       "    <tr>\n",
       "      <th>105</th>\n",
       "      <td>virginica</td>\n",
       "    </tr>\n",
       "    <tr>\n",
       "      <th>19</th>\n",
       "      <td>setosa</td>\n",
       "    </tr>\n",
       "    <tr>\n",
       "      <th>91</th>\n",
       "      <td>versicolor</td>\n",
       "    </tr>\n",
       "  </tbody>\n",
       "</table>\n",
       "</div>"
      ],
      "text/plain": [
       "          label\n",
       "117   virginica\n",
       "1        setosa\n",
       "127   virginica\n",
       "37       setosa\n",
       "113   virginica\n",
       "115   virginica\n",
       "90   versicolor\n",
       "105   virginica\n",
       "19       setosa\n",
       "91   versicolor"
      ]
     },
     "execution_count": 80,
     "metadata": {},
     "output_type": "execute_result"
    }
   ],
   "source": [
    "# By Column:\n",
    "cleanDf = missingDf.dropna(axis=1)\n",
    "cleanDf.sample(10)"
   ]
  },
  {
   "cell_type": "markdown",
   "metadata": {},
   "source": [
    "Ahora nos hemos quedado sin atributos!"
   ]
  },
  {
   "cell_type": "markdown",
   "metadata": {},
   "source": [
    "###  Insertando valores perdidos\n"
   ]
  },
  {
   "cell_type": "markdown",
   "metadata": {},
   "source": [
    "\n",
    "Otra estrategia más sofisticada consiste en introducir valores concretos en lugar de los valores perdidos.\n",
    "\n",
    "Para ello utilizaremos la función `fillna(...)` que nos permite rellenar los valores usando un valor escalar o un vector u objecto de tipo `Series`(el vector de pandas)"
   ]
  },
  {
   "cell_type": "code",
   "execution_count": 81,
   "metadata": {},
   "outputs": [],
   "source": [
    "# Lets just insert 20 into sepal length...\n",
    "cleanDf = missingDf.fillna(value={\"sepal_length\": 20})"
   ]
  },
  {
   "cell_type": "markdown",
   "metadata": {},
   "source": [
    "Esto obviamente no es muy util ya que estaremos sesgando los datos enormemente:"
   ]
  },
  {
   "cell_type": "code",
   "execution_count": 82,
   "metadata": {},
   "outputs": [
    {
     "data": {
      "image/png": "[encoded data removed]",
      "text/plain": [
       "<matplotlib.figure.Figure at 0x7f7f001d48d0>"
      ]
     },
     "metadata": {},
     "output_type": "display_data"
    }
   ],
   "source": [
    "gMultipleHistogram(cleanDf)"
   ]
  },
  {
   "cell_type": "markdown",
   "metadata": {},
   "source": [
    "Lo mejor sería usar un valor para cada columna, en este caso por ejemplo podemos usar la media:"
   ]
  },
  {
   "cell_type": "code",
   "execution_count": 83,
   "metadata": {},
   "outputs": [],
   "source": [
    "# Calculamos el vector de medias\n",
    "meansValues = df.mean()\n",
    "\n",
    "# Ahora lo usamos para rellenar:\n",
    "cleanDf = missingDf.fillna( meansValues )"
   ]
  },
  {
   "cell_type": "code",
   "execution_count": 84,
   "metadata": {},
   "outputs": [
    {
     "data": {
      "image/png": "[encoded data removed]",
      "text/plain": [
       "<matplotlib.figure.Figure at 0x7f7f021fd9b0>"
      ]
     },
     "metadata": {},
     "output_type": "display_data"
    }
   ],
   "source": [
    "gMultipleHistogram(cleanDf)"
   ]
  },
  {
   "cell_type": "markdown",
   "metadata": {},
   "source": [
    "Ahora observamos que hemos sesgado la tendencia central de las variables, lo que tampoco garantiza que vaya a mejorar la clasificación. Esto es solo un ejemplo, pero podemos inventarnos todo tipo de filtros para usar mediante `fillna`. Como hemos introducido anteriormente, solemos utilizar algún tipo de predictor estadístico para imputar valores, pero esto queda fuera del alcance de la asignatura."
   ]
  },
  {
   "cell_type": "markdown",
   "metadata": {},
   "source": [
    "###  Valores perdidos intrínsecos"
   ]
  },
  {
   "cell_type": "markdown",
   "metadata": {},
   "source": [
    "Muchas veces los valores perdidos no vendrán indicados como `NaN`o `NA` sino que vendrán codificados como `0`o agún código que representará ruido en nuestros datos. Algo como `-9999999`o incluso peor. En estos casos es importante determinar si los valores atípicos que estamos observando se deben a errores de medición o valores perdidos o son parte de la variable. Es muy útil en estos casos hacer referencia al contenido semántico de la variable, por ejemplo, si la variable es *edad*, entenderemos que un valor de `-1` o de `1000` se trata de un error y por tanto podemos tomarlo como valor perdido."
   ]
  },
  {
   "cell_type": "markdown",
   "metadata": {},
   "source": [
    "---\n",
    "## Trabajo a entregar"
   ]
  },
  {
   "cell_type": "markdown",
   "metadata": {},
   "source": [
    "El trabajo a entregar para esta práctica será un informe reproduciendo el estudio que hemos hecho com el dataset iris para dos bases de datos de la literatura muy famosas. Las tenéis disponibles en campus virtual junto con las páginas oficiales del repositorio de datos original, donde podréis encontrar información sobre el significado semántico del problema.\n",
    "\n",
    "Se trata de las bases de datos `pima_diabetes`y `wisconsin`, ambas codifican problemas de clasificación binarios en el ámbito de la medicina.\n",
    "\n",
    "Debéis crear **una** única libreta en donde exploraréis las bases de datos, las preprocesaréis y aprenderéis los modelos vistos para después realizar un proceso de clasificación e interpretarlo.\n",
    "\n",
    "Los siguientes items deben estar presentes en la libreta:\n",
    "\n",
    "* Análisis exploratorio mediante gráficas y estadísticos. HECHO\n",
    "* Interpretación de las distribuciones de las variables más relevantes y su relación con la clase. \n",
    "* Identificación de anomalías y tratamiento de datos perdidos si los hubiese. HECHO\n",
    "* Aprendizaje y evaluación de un clasificador zeroR. HECHO\n",
    "* Aprendizaje y evaluación de un clasificador oneR.\n",
    "* Aprendizaje y evaluación de un árbol de decisión.\n",
    "* Los tres apartados anteriores deberán realizarse mediante proceso holdout balanceado y se deberán discutir los resultados y comparar los tres algoritmos entre sí, identificando las diferencias principales entre las matrices de confusión y el accuracy.\n",
    "\n",
    "Es muy **importante** que tengáis en cuenta los siguientes criterios de evaluación:\n",
    "\n",
    "* Deberán haberse realizado todos los puntos anteriores.\n",
    "* Deberá ser capaz de explicar coherentemente los resultados, utilizando siempre que se pueda un vocabulario técnico (usad las palabras clave).\n",
    "* El código deberá ser claro y bien documentado\n",
    "* Las explicaciones deberán ser claras y el documento estár bien estructurado (titutlos, subtitulos, indice, parrafos...)\n",
    "* El codigo debe ser reproducible y reusable, se penalizará enormente el copiar y pegar secciones enteras.\n",
    "\n",
    "Como véis hay 5 puntos de evaluación, que supondrán la valoración **media** de la práctica. Ya sabéis que la media es un estadístico que se ve afectado enormemente por los valores extremos, así que aunque el contenido sea correcto, si no explica bien en la entrevista o no está presentable y profesional..."
   ]
  },
  {
   "cell_type": "code",
   "execution_count": 85,
   "metadata": {},
   "outputs": [
    {
     "data": {
      "text/plain": [
       "6.0"
      ]
     },
     "execution_count": 85,
     "metadata": {},
     "output_type": "execute_result"
    }
   ],
   "source": [
    "np.array([10,9,9,1,1]).mean()"
   ]
  }
 ],
 "metadata": {
  "kernelspec": {
   "display_name": "Python 3",
   "language": "python",
   "name": "python3"
  },
  "language_info": {
   "codemirror_mode": {
    "name": "ipython",
    "version": 3
   },
   "file_extension": ".py",
   "mimetype": "text/x-python",
   "name": "python",
   "nbconvert_exporter": "python",
   "pygments_lexer": "ipython3",
   "version": "3.6.2"
  }
 },
 "nbformat": 4,
 "nbformat_minor": 1
}
