{
 "cells": [
  {
   "cell_type": "markdown",
   "metadata": {},
   "source": [
    "**Vanessa Navarro Coronado e Iván Sánchez Castellanos**"
   ]
  },
  {
   "cell_type": "markdown",
   "metadata": {},
   "source": [
    "# Práctica 1 - Preprocesamiento de datos y evaluación de modelos de clasificación/regresión."
   ]
  },
  {
   "cell_type": "markdown",
   "metadata": {},
   "source": [
    "A lo largo de esta práctica vamos a realizar un análisis detallado de dos datasets que se nos proporcionaban en el guión de esta práctica. También realizaremos un preprocesamiento de los datos para conseguir un mayor rendimiento en nuestros modelos, y para comprender mejor el proceso de clasificación dentro de estos datasets.\n",
    "\n",
    "Por último, realizaremos un proceso de entrenamiento y validación de modelos utilizando los clasificadores ZeroR, OneR y un árbol de decisión. "
   ]
  },
  {
   "cell_type": "markdown",
   "metadata": {},
   "source": [
    "Primero, importamos las librerías que vamos a usar."
   ]
  },
  {
   "cell_type": "code",
   "execution_count": 1,
   "metadata": {},
   "outputs": [],
   "source": [
    "# Always load all scipy stack packages\n",
    "import numpy as np\n",
    "import pandas as pd\n",
    "from scipy import stats, integrate\n",
    "import matplotlib as mpl\n",
    "import matplotlib.pyplot as plt\n",
    "\n",
    "import seaborn as sns\n",
    "sns.set(color_codes=True)\n",
    "\n",
    "# Misc\n",
    "import base64"
   ]
  },
  {
   "cell_type": "code",
   "execution_count": 2,
   "metadata": {},
   "outputs": [],
   "source": [
    "# This code configures matplotlib for proper rendering\n",
    "%matplotlib inline\n",
    "mpl.rcParams[\"figure.figsize\"] = \"8, 4\"\n",
    "import warnings\n",
    "warnings.simplefilter(\"ignore\")"
   ]
  },
  {
   "cell_type": "markdown",
   "metadata": {},
   "source": [
    "Esta variable nos servirá más adelante para realizar nuestros procesos de holdout con una semilla, lo que nos permitirá reproducir nuestros resultados en un futuro."
   ]
  },
  {
   "cell_type": "code",
   "execution_count": 3,
   "metadata": {},
   "outputs": [],
   "source": [
    "# En vuestros experimentos usad siempre una semilla, si no nunca los podreis recuperar\n",
    "seed=6342\n",
    "np.random.seed(6342) #DECLARARLA AL PRINCIPIO DEL CUADERNO Y BORRAR EL KERNEL"
   ]
  },
  {
   "cell_type": "markdown",
   "metadata": {},
   "source": [
    "## 1. Análisis exploratorio mediante gráficas y estadísticos. Interpretación de las distribuciones de las variables más relevantes y su relación con la clase. Identificación de anomalías y tratamiento de datos perdidos."
   ]
  },
  {
   "cell_type": "markdown",
   "metadata": {},
   "source": [
    "### 1.1. Análisis exploratorio"
   ]
  },
  {
   "cell_type": "markdown",
   "metadata": {},
   "source": [
    "Primero cargamos nuestras bases de datos: pima (df1) y wisconsin (df2)."
   ]
  },
  {
   "cell_type": "code",
   "execution_count": 4,
   "metadata": {},
   "outputs": [],
   "source": [
    "# Please update your data path accordingly\n",
    "df1 = pd.read_csv(\"../data/pima.csv\", dtype={ \"label\": 'category'})\n",
    "df2 = pd.read_csv(\"../data/wisconsin.csv\", dtype={ \"label\": 'category'})"
   ]
  },
  {
   "cell_type": "markdown",
   "metadata": {},
   "source": [
    "Comprobamos que se han cargado los datasets seleccionando una muestra aleatoria de cada uno de los conjuntos."
   ]
  },
  {
   "cell_type": "code",
   "execution_count": 5,
   "metadata": {},
   "outputs": [
    {
     "data": {
      "text/html": [
       "<div>\n",
       "<style>\n",
       "    .dataframe thead tr:only-child th {\n",
       "        text-align: right;\n",
       "    }\n",
       "\n",
       "    .dataframe thead th {\n",
       "        text-align: left;\n",
       "    }\n",
       "\n",
       "    .dataframe tbody tr th {\n",
       "        vertical-align: top;\n",
       "    }\n",
       "</style>\n",
       "<table border=\"1\" class=\"dataframe\">\n",
       "  <thead>\n",
       "    <tr style=\"text-align: right;\">\n",
       "      <th></th>\n",
       "      <th>preg</th>\n",
       "      <th>plas</th>\n",
       "      <th>pres</th>\n",
       "      <th>skin</th>\n",
       "      <th>insu</th>\n",
       "      <th>mass</th>\n",
       "      <th>pedi</th>\n",
       "      <th>age</th>\n",
       "      <th>label</th>\n",
       "    </tr>\n",
       "  </thead>\n",
       "  <tbody>\n",
       "    <tr>\n",
       "      <th>408</th>\n",
       "      <td>8</td>\n",
       "      <td>100</td>\n",
       "      <td>74</td>\n",
       "      <td>40</td>\n",
       "      <td>215</td>\n",
       "      <td>39.4</td>\n",
       "      <td>0.661</td>\n",
       "      <td>43</td>\n",
       "      <td>tested_positive</td>\n",
       "    </tr>\n",
       "    <tr>\n",
       "      <th>722</th>\n",
       "      <td>1</td>\n",
       "      <td>88</td>\n",
       "      <td>78</td>\n",
       "      <td>29</td>\n",
       "      <td>76</td>\n",
       "      <td>32.0</td>\n",
       "      <td>0.365</td>\n",
       "      <td>29</td>\n",
       "      <td>tested_negative</td>\n",
       "    </tr>\n",
       "    <tr>\n",
       "      <th>668</th>\n",
       "      <td>4</td>\n",
       "      <td>116</td>\n",
       "      <td>72</td>\n",
       "      <td>12</td>\n",
       "      <td>87</td>\n",
       "      <td>22.1</td>\n",
       "      <td>0.463</td>\n",
       "      <td>37</td>\n",
       "      <td>tested_negative</td>\n",
       "    </tr>\n",
       "    <tr>\n",
       "      <th>121</th>\n",
       "      <td>2</td>\n",
       "      <td>108</td>\n",
       "      <td>62</td>\n",
       "      <td>32</td>\n",
       "      <td>56</td>\n",
       "      <td>25.2</td>\n",
       "      <td>0.128</td>\n",
       "      <td>21</td>\n",
       "      <td>tested_negative</td>\n",
       "    </tr>\n",
       "    <tr>\n",
       "      <th>239</th>\n",
       "      <td>1</td>\n",
       "      <td>199</td>\n",
       "      <td>76</td>\n",
       "      <td>43</td>\n",
       "      <td>0</td>\n",
       "      <td>42.9</td>\n",
       "      <td>1.394</td>\n",
       "      <td>22</td>\n",
       "      <td>tested_positive</td>\n",
       "    </tr>\n",
       "    <tr>\n",
       "      <th>30</th>\n",
       "      <td>7</td>\n",
       "      <td>133</td>\n",
       "      <td>88</td>\n",
       "      <td>15</td>\n",
       "      <td>155</td>\n",
       "      <td>32.4</td>\n",
       "      <td>0.262</td>\n",
       "      <td>37</td>\n",
       "      <td>tested_negative</td>\n",
       "    </tr>\n",
       "    <tr>\n",
       "      <th>109</th>\n",
       "      <td>1</td>\n",
       "      <td>119</td>\n",
       "      <td>54</td>\n",
       "      <td>13</td>\n",
       "      <td>50</td>\n",
       "      <td>22.3</td>\n",
       "      <td>0.205</td>\n",
       "      <td>24</td>\n",
       "      <td>tested_negative</td>\n",
       "    </tr>\n",
       "    <tr>\n",
       "      <th>675</th>\n",
       "      <td>1</td>\n",
       "      <td>151</td>\n",
       "      <td>60</td>\n",
       "      <td>0</td>\n",
       "      <td>0</td>\n",
       "      <td>26.1</td>\n",
       "      <td>0.179</td>\n",
       "      <td>22</td>\n",
       "      <td>tested_negative</td>\n",
       "    </tr>\n",
       "  </tbody>\n",
       "</table>\n",
       "</div>"
      ],
      "text/plain": [
       "     preg  plas  pres  skin  insu  mass   pedi  age            label\n",
       "408     8   100    74    40   215  39.4  0.661   43  tested_positive\n",
       "722     1    88    78    29    76  32.0  0.365   29  tested_negative\n",
       "668     4   116    72    12    87  22.1  0.463   37  tested_negative\n",
       "121     2   108    62    32    56  25.2  0.128   21  tested_negative\n",
       "239     1   199    76    43     0  42.9  1.394   22  tested_positive\n",
       "30      7   133    88    15   155  32.4  0.262   37  tested_negative\n",
       "109     1   119    54    13    50  22.3  0.205   24  tested_negative\n",
       "675     1   151    60     0     0  26.1  0.179   22  tested_negative"
      ]
     },
     "execution_count": 5,
     "metadata": {},
     "output_type": "execute_result"
    }
   ],
   "source": [
    "# Retrieve a random sample from the dataframe\n",
    "df1.sample(8)"
   ]
  },
  {
   "cell_type": "code",
   "execution_count": 6,
   "metadata": {},
   "outputs": [
    {
     "data": {
      "text/html": [
       "<div>\n",
       "<style>\n",
       "    .dataframe thead tr:only-child th {\n",
       "        text-align: right;\n",
       "    }\n",
       "\n",
       "    .dataframe thead th {\n",
       "        text-align: left;\n",
       "    }\n",
       "\n",
       "    .dataframe tbody tr th {\n",
       "        vertical-align: top;\n",
       "    }\n",
       "</style>\n",
       "<table border=\"1\" class=\"dataframe\">\n",
       "  <thead>\n",
       "    <tr style=\"text-align: right;\">\n",
       "      <th></th>\n",
       "      <th>patientId</th>\n",
       "      <th>clumpThickness</th>\n",
       "      <th>cellSize</th>\n",
       "      <th>CellShape</th>\n",
       "      <th>marginalAdhesion</th>\n",
       "      <th>epithelialSize</th>\n",
       "      <th>bareNuclei</th>\n",
       "      <th>blandChromatin</th>\n",
       "      <th>normalNucleoli</th>\n",
       "      <th>mitoses</th>\n",
       "      <th>label</th>\n",
       "    </tr>\n",
       "  </thead>\n",
       "  <tbody>\n",
       "    <tr>\n",
       "      <th>155</th>\n",
       "      <td>156</td>\n",
       "      <td>3</td>\n",
       "      <td>1</td>\n",
       "      <td>1</td>\n",
       "      <td>1</td>\n",
       "      <td>2</td>\n",
       "      <td>1.0</td>\n",
       "      <td>3</td>\n",
       "      <td>1</td>\n",
       "      <td>1</td>\n",
       "      <td>benign</td>\n",
       "    </tr>\n",
       "    <tr>\n",
       "      <th>109</th>\n",
       "      <td>110</td>\n",
       "      <td>4</td>\n",
       "      <td>5</td>\n",
       "      <td>5</td>\n",
       "      <td>10</td>\n",
       "      <td>4</td>\n",
       "      <td>10.0</td>\n",
       "      <td>7</td>\n",
       "      <td>5</td>\n",
       "      <td>8</td>\n",
       "      <td>malignant</td>\n",
       "    </tr>\n",
       "    <tr>\n",
       "      <th>183</th>\n",
       "      <td>184</td>\n",
       "      <td>9</td>\n",
       "      <td>7</td>\n",
       "      <td>7</td>\n",
       "      <td>5</td>\n",
       "      <td>5</td>\n",
       "      <td>10.0</td>\n",
       "      <td>7</td>\n",
       "      <td>8</td>\n",
       "      <td>3</td>\n",
       "      <td>malignant</td>\n",
       "    </tr>\n",
       "    <tr>\n",
       "      <th>258</th>\n",
       "      <td>259</td>\n",
       "      <td>1</td>\n",
       "      <td>4</td>\n",
       "      <td>3</td>\n",
       "      <td>10</td>\n",
       "      <td>4</td>\n",
       "      <td>10.0</td>\n",
       "      <td>5</td>\n",
       "      <td>6</td>\n",
       "      <td>1</td>\n",
       "      <td>malignant</td>\n",
       "    </tr>\n",
       "    <tr>\n",
       "      <th>473</th>\n",
       "      <td>474</td>\n",
       "      <td>3</td>\n",
       "      <td>1</td>\n",
       "      <td>1</td>\n",
       "      <td>1</td>\n",
       "      <td>2</td>\n",
       "      <td>1.0</td>\n",
       "      <td>2</td>\n",
       "      <td>1</td>\n",
       "      <td>1</td>\n",
       "      <td>benign</td>\n",
       "    </tr>\n",
       "    <tr>\n",
       "      <th>26</th>\n",
       "      <td>27</td>\n",
       "      <td>5</td>\n",
       "      <td>1</td>\n",
       "      <td>1</td>\n",
       "      <td>1</td>\n",
       "      <td>2</td>\n",
       "      <td>1.0</td>\n",
       "      <td>2</td>\n",
       "      <td>1</td>\n",
       "      <td>1</td>\n",
       "      <td>benign</td>\n",
       "    </tr>\n",
       "    <tr>\n",
       "      <th>515</th>\n",
       "      <td>516</td>\n",
       "      <td>4</td>\n",
       "      <td>1</td>\n",
       "      <td>1</td>\n",
       "      <td>1</td>\n",
       "      <td>2</td>\n",
       "      <td>3.0</td>\n",
       "      <td>2</td>\n",
       "      <td>1</td>\n",
       "      <td>1</td>\n",
       "      <td>benign</td>\n",
       "    </tr>\n",
       "    <tr>\n",
       "      <th>200</th>\n",
       "      <td>201</td>\n",
       "      <td>6</td>\n",
       "      <td>10</td>\n",
       "      <td>7</td>\n",
       "      <td>7</td>\n",
       "      <td>6</td>\n",
       "      <td>NaN</td>\n",
       "      <td>8</td>\n",
       "      <td>10</td>\n",
       "      <td>2</td>\n",
       "      <td>malignant</td>\n",
       "    </tr>\n",
       "  </tbody>\n",
       "</table>\n",
       "</div>"
      ],
      "text/plain": [
       "     patientId  clumpThickness  cellSize  CellShape  marginalAdhesion  \\\n",
       "155        156               3         1          1                 1   \n",
       "109        110               4         5          5                10   \n",
       "183        184               9         7          7                 5   \n",
       "258        259               1         4          3                10   \n",
       "473        474               3         1          1                 1   \n",
       "26          27               5         1          1                 1   \n",
       "515        516               4         1          1                 1   \n",
       "200        201               6        10          7                 7   \n",
       "\n",
       "     epithelialSize  bareNuclei  blandChromatin  normalNucleoli  mitoses  \\\n",
       "155               2         1.0               3               1        1   \n",
       "109               4        10.0               7               5        8   \n",
       "183               5        10.0               7               8        3   \n",
       "258               4        10.0               5               6        1   \n",
       "473               2         1.0               2               1        1   \n",
       "26                2         1.0               2               1        1   \n",
       "515               2         3.0               2               1        1   \n",
       "200               6         NaN               8              10        2   \n",
       "\n",
       "         label  \n",
       "155     benign  \n",
       "109  malignant  \n",
       "183  malignant  \n",
       "258  malignant  \n",
       "473     benign  \n",
       "26      benign  \n",
       "515     benign  \n",
       "200  malignant  "
      ]
     },
     "execution_count": 6,
     "metadata": {},
     "output_type": "execute_result"
    }
   ],
   "source": [
    "# Retrieve a random sample from the dataframe\n",
    "df2.sample(8)"
   ]
  },
  {
   "cell_type": "markdown",
   "metadata": {},
   "source": [
    "Visualizamos el tamaño de los datasets: número de casos y número de atributos."
   ]
  },
  {
   "cell_type": "code",
   "execution_count": 7,
   "metadata": {},
   "outputs": [
    {
     "name": "stdout",
     "output_type": "stream",
     "text": [
      "768\n",
      "(768, 9)\n",
      "6912\n"
     ]
    }
   ],
   "source": [
    "# Number of cases is just the length of the dataframe\n",
    "print( len(df1) )\n",
    "print( df1.shape )\n",
    "print( df1.size ) # multiplcación de filas x columnas"
   ]
  },
  {
   "cell_type": "code",
   "execution_count": 8,
   "metadata": {},
   "outputs": [
    {
     "name": "stdout",
     "output_type": "stream",
     "text": [
      "699\n",
      "(699, 11)\n",
      "7689\n"
     ]
    }
   ],
   "source": [
    "# Number of cases is just the length of the dataframe\n",
    "print( len(df2) )\n",
    "print( df2.shape )\n",
    "print( df2.size ) # multiplcación de filas x columnas"
   ]
  },
  {
   "cell_type": "markdown",
   "metadata": {},
   "source": [
    "Una vez hecho esto, identificamos los valores de las variables clase en ambos datasets. Como vemos, en ambos datasets la variable clase solo presenta dos posibles valores: en pima los valores de la clase son 'tested_negative' y 'tested_positive', mientras que en wisconsin son 'benign' y 'malignant'."
   ]
  },
  {
   "cell_type": "code",
   "execution_count": 9,
   "metadata": {},
   "outputs": [
    {
     "data": {
      "text/plain": [
       "Index(['tested_negative', 'tested_positive'], dtype='object')"
      ]
     },
     "execution_count": 9,
     "metadata": {},
     "output_type": "execute_result"
    }
   ],
   "source": [
    "# We can inspect categorical variables:\n",
    "df1.label.cat.categories"
   ]
  },
  {
   "cell_type": "code",
   "execution_count": 10,
   "metadata": {},
   "outputs": [
    {
     "data": {
      "text/plain": [
       "Index(['benign', 'malignant'], dtype='object')"
      ]
     },
     "execution_count": 10,
     "metadata": {},
     "output_type": "execute_result"
    }
   ],
   "source": [
    "# We can inspect categorical variables:\n",
    "df2.label.cat.categories"
   ]
  },
  {
   "cell_type": "markdown",
   "metadata": {},
   "source": [
    "### 1.2. Interpretación de las distribuciones de las variables"
   ]
  },
  {
   "cell_type": "markdown",
   "metadata": {},
   "source": [
    "Para comprender mejor los atributos de las bases de datos, los visualizamos mediante histogramas en los que representamos cada uno de los atributos y su correspondiente frecuencia de aparición en la base de datos."
   ]
  },
  {
   "cell_type": "code",
   "execution_count": 11,
   "metadata": {},
   "outputs": [],
   "source": [
    "def gMultipleHistogram(targetdf):\n",
    "    # First we remove the class variable\n",
    "    target_noclass = targetdf.drop('label', 1) #USAR SIEMPRE 'LABEL', PORQUE 'CLASS' ES PALABRA RESERVADA\n",
    "    # Now we generate the multiple histogram\n",
    "    g = sns.FacetGrid(pd.melt(target_noclass), col=\"variable\", sharey=False, sharex=False, col_wrap=2)\n",
    "    g.map(sns.distplot, \"value\");"
   ]
  },
  {
   "cell_type": "code",
   "execution_count": 12,
   "metadata": {},
   "outputs": [
    {
     "data": {
      "image/png": "[encoded data removed]",
      "text/plain": [
       "<matplotlib.figure.Figure at 0x7f5f14023a90>"
      ]
     },
     "metadata": {},
     "output_type": "display_data"
    }
   ],
   "source": [
    "gMultipleHistogram(df1)"
   ]
  },
  {
   "cell_type": "markdown",
   "metadata": {},
   "source": [
    "En este dataset, observamos que las variables plas, pres y mass tienen una distribución gaussiana, aunque se pueden observar algunos outliers. La variable skin presenta una distribución más compleja, y el resto de variables tienen una distribución con asimetría negativa (right skewed). \n",
    "\n",
    "Por ejemplo, en el caso de la variable preg, se observa una gran cantidad de población que no ha estado nunca embarazada, por lo que podríamos pensar que son niños/as, hombres, o simplemente mujeres que nunca han estado embarazadas.\n",
    "\n",
    "Los valores a cero en algunas de las variables como plas, pres, skin, insu y mass nos pueden hacer pensar que sean valores perdidos, o anómalos. Este asunto lo trataremos más adelante."
   ]
  },
  {
   "cell_type": "markdown",
   "metadata": {},
   "source": [
    "En el dataset df2 (wisconsin) tenemos una variable id que no nos aporta nada sobre las demás variables, o sobre la variable clase, ya que cada paciente de la base de datos tendrá un id único, lo que podría sesgar nuestros resultados. Por tanto, prescindimos de ella eliminando la columna 'patientID' de nuestro dataset."
   ]
  },
  {
   "cell_type": "code",
   "execution_count": 13,
   "metadata": {},
   "outputs": [],
   "source": [
    "df2_sinId=df2.drop('patientId',1)"
   ]
  },
  {
   "cell_type": "code",
   "execution_count": 14,
   "metadata": {},
   "outputs": [
    {
     "data": {
      "image/png": "[encoded data removed]",
      "text/plain": [
       "<matplotlib.figure.Figure at 0x7f5f11612e48>"
      ]
     },
     "metadata": {},
     "output_type": "display_data"
    }
   ],
   "source": [
    "gMultipleHistogram(df2_sinId)"
   ]
  },
  {
   "cell_type": "markdown",
   "metadata": {},
   "source": [
    "Observando estas distribuciones, vemos que ninguna variable presenta una distribución normal. Esto puede ser debido a la presencia de valores perdidos, como en la variable 'bareNuclei', o valores anómalos, como por ejemplo en las variables 'CellShape' o 'normalNucleoli'."
   ]
  },
  {
   "cell_type": "markdown",
   "metadata": {},
   "source": [
    "### 1.3. Estadísticos"
   ]
  },
  {
   "cell_type": "markdown",
   "metadata": {},
   "source": [
    "En este apartado simplemente calculamos algunos estadísticos para los datasets, que puede que debamos tener en cuenta más adelante a la hora de implementar nuestros clasificadores."
   ]
  },
  {
   "cell_type": "code",
   "execution_count": 15,
   "metadata": {},
   "outputs": [
    {
     "data": {
      "text/html": [
       "<div>\n",
       "<style>\n",
       "    .dataframe thead tr:only-child th {\n",
       "        text-align: right;\n",
       "    }\n",
       "\n",
       "    .dataframe thead th {\n",
       "        text-align: left;\n",
       "    }\n",
       "\n",
       "    .dataframe tbody tr th {\n",
       "        vertical-align: top;\n",
       "    }\n",
       "</style>\n",
       "<table border=\"1\" class=\"dataframe\">\n",
       "  <thead>\n",
       "    <tr style=\"text-align: right;\">\n",
       "      <th></th>\n",
       "      <th>preg</th>\n",
       "      <th>plas</th>\n",
       "      <th>pres</th>\n",
       "      <th>skin</th>\n",
       "      <th>insu</th>\n",
       "      <th>mass</th>\n",
       "      <th>pedi</th>\n",
       "      <th>age</th>\n",
       "    </tr>\n",
       "  </thead>\n",
       "  <tbody>\n",
       "    <tr>\n",
       "      <th>count</th>\n",
       "      <td>768.000000</td>\n",
       "      <td>768.000000</td>\n",
       "      <td>768.000000</td>\n",
       "      <td>768.000000</td>\n",
       "      <td>768.000000</td>\n",
       "      <td>768.000000</td>\n",
       "      <td>768.000000</td>\n",
       "      <td>768.000000</td>\n",
       "    </tr>\n",
       "    <tr>\n",
       "      <th>mean</th>\n",
       "      <td>3.845052</td>\n",
       "      <td>120.894531</td>\n",
       "      <td>69.105469</td>\n",
       "      <td>20.536458</td>\n",
       "      <td>79.799479</td>\n",
       "      <td>31.992578</td>\n",
       "      <td>0.471876</td>\n",
       "      <td>33.240885</td>\n",
       "    </tr>\n",
       "    <tr>\n",
       "      <th>std</th>\n",
       "      <td>3.369578</td>\n",
       "      <td>31.972618</td>\n",
       "      <td>19.355807</td>\n",
       "      <td>15.952218</td>\n",
       "      <td>115.244002</td>\n",
       "      <td>7.884160</td>\n",
       "      <td>0.331329</td>\n",
       "      <td>11.760232</td>\n",
       "    </tr>\n",
       "    <tr>\n",
       "      <th>min</th>\n",
       "      <td>0.000000</td>\n",
       "      <td>0.000000</td>\n",
       "      <td>0.000000</td>\n",
       "      <td>0.000000</td>\n",
       "      <td>0.000000</td>\n",
       "      <td>0.000000</td>\n",
       "      <td>0.078000</td>\n",
       "      <td>21.000000</td>\n",
       "    </tr>\n",
       "    <tr>\n",
       "      <th>25%</th>\n",
       "      <td>1.000000</td>\n",
       "      <td>99.000000</td>\n",
       "      <td>62.000000</td>\n",
       "      <td>0.000000</td>\n",
       "      <td>0.000000</td>\n",
       "      <td>27.300000</td>\n",
       "      <td>0.243750</td>\n",
       "      <td>24.000000</td>\n",
       "    </tr>\n",
       "    <tr>\n",
       "      <th>50%</th>\n",
       "      <td>3.000000</td>\n",
       "      <td>117.000000</td>\n",
       "      <td>72.000000</td>\n",
       "      <td>23.000000</td>\n",
       "      <td>30.500000</td>\n",
       "      <td>32.000000</td>\n",
       "      <td>0.372500</td>\n",
       "      <td>29.000000</td>\n",
       "    </tr>\n",
       "    <tr>\n",
       "      <th>75%</th>\n",
       "      <td>6.000000</td>\n",
       "      <td>140.250000</td>\n",
       "      <td>80.000000</td>\n",
       "      <td>32.000000</td>\n",
       "      <td>127.250000</td>\n",
       "      <td>36.600000</td>\n",
       "      <td>0.626250</td>\n",
       "      <td>41.000000</td>\n",
       "    </tr>\n",
       "    <tr>\n",
       "      <th>max</th>\n",
       "      <td>17.000000</td>\n",
       "      <td>199.000000</td>\n",
       "      <td>122.000000</td>\n",
       "      <td>99.000000</td>\n",
       "      <td>846.000000</td>\n",
       "      <td>67.100000</td>\n",
       "      <td>2.420000</td>\n",
       "      <td>81.000000</td>\n",
       "    </tr>\n",
       "  </tbody>\n",
       "</table>\n",
       "</div>"
      ],
      "text/plain": [
       "             preg        plas        pres        skin        insu        mass  \\\n",
       "count  768.000000  768.000000  768.000000  768.000000  768.000000  768.000000   \n",
       "mean     3.845052  120.894531   69.105469   20.536458   79.799479   31.992578   \n",
       "std      3.369578   31.972618   19.355807   15.952218  115.244002    7.884160   \n",
       "min      0.000000    0.000000    0.000000    0.000000    0.000000    0.000000   \n",
       "25%      1.000000   99.000000   62.000000    0.000000    0.000000   27.300000   \n",
       "50%      3.000000  117.000000   72.000000   23.000000   30.500000   32.000000   \n",
       "75%      6.000000  140.250000   80.000000   32.000000  127.250000   36.600000   \n",
       "max     17.000000  199.000000  122.000000   99.000000  846.000000   67.100000   \n",
       "\n",
       "             pedi         age  \n",
       "count  768.000000  768.000000  \n",
       "mean     0.471876   33.240885  \n",
       "std      0.331329   11.760232  \n",
       "min      0.078000   21.000000  \n",
       "25%      0.243750   24.000000  \n",
       "50%      0.372500   29.000000  \n",
       "75%      0.626250   41.000000  \n",
       "max      2.420000   81.000000  "
      ]
     },
     "execution_count": 15,
     "metadata": {},
     "output_type": "execute_result"
    }
   ],
   "source": [
    "df1.describe()"
   ]
  },
  {
   "cell_type": "markdown",
   "metadata": {},
   "source": [
    "Los cuartiles nos pueden servir para visualizar cómo serían los diagramas de cajas de cada una de nuestras variables, y también el rango de valores en los que se encuentran. Esto puede ser de utilidad a la hora de averiguar cuál es la variable más descriptiva en nuestro dataset, o lo que es lo mismo, la variable que más nos ayuda a diferenciar entre una clase u otra a la hora de clasificar los casos."
   ]
  },
  {
   "cell_type": "code",
   "execution_count": 16,
   "metadata": {},
   "outputs": [
    {
     "data": {
      "text/html": [
       "<div>\n",
       "<style>\n",
       "    .dataframe thead tr:only-child th {\n",
       "        text-align: right;\n",
       "    }\n",
       "\n",
       "    .dataframe thead th {\n",
       "        text-align: left;\n",
       "    }\n",
       "\n",
       "    .dataframe tbody tr th {\n",
       "        vertical-align: top;\n",
       "    }\n",
       "</style>\n",
       "<table border=\"1\" class=\"dataframe\">\n",
       "  <thead>\n",
       "    <tr style=\"text-align: right;\">\n",
       "      <th></th>\n",
       "      <th>clumpThickness</th>\n",
       "      <th>cellSize</th>\n",
       "      <th>CellShape</th>\n",
       "      <th>marginalAdhesion</th>\n",
       "      <th>epithelialSize</th>\n",
       "      <th>bareNuclei</th>\n",
       "      <th>blandChromatin</th>\n",
       "      <th>normalNucleoli</th>\n",
       "      <th>mitoses</th>\n",
       "    </tr>\n",
       "  </thead>\n",
       "  <tbody>\n",
       "    <tr>\n",
       "      <th>count</th>\n",
       "      <td>699.000000</td>\n",
       "      <td>699.000000</td>\n",
       "      <td>699.000000</td>\n",
       "      <td>699.000000</td>\n",
       "      <td>699.000000</td>\n",
       "      <td>667.000000</td>\n",
       "      <td>699.000000</td>\n",
       "      <td>699.000000</td>\n",
       "      <td>699.000000</td>\n",
       "    </tr>\n",
       "    <tr>\n",
       "      <th>mean</th>\n",
       "      <td>4.417740</td>\n",
       "      <td>3.134478</td>\n",
       "      <td>3.207439</td>\n",
       "      <td>2.806867</td>\n",
       "      <td>3.216023</td>\n",
       "      <td>3.536732</td>\n",
       "      <td>3.437768</td>\n",
       "      <td>2.866953</td>\n",
       "      <td>1.589413</td>\n",
       "    </tr>\n",
       "    <tr>\n",
       "      <th>std</th>\n",
       "      <td>2.815741</td>\n",
       "      <td>3.051459</td>\n",
       "      <td>2.971913</td>\n",
       "      <td>2.855379</td>\n",
       "      <td>2.214300</td>\n",
       "      <td>3.683795</td>\n",
       "      <td>2.438364</td>\n",
       "      <td>3.053634</td>\n",
       "      <td>1.715078</td>\n",
       "    </tr>\n",
       "    <tr>\n",
       "      <th>min</th>\n",
       "      <td>1.000000</td>\n",
       "      <td>1.000000</td>\n",
       "      <td>1.000000</td>\n",
       "      <td>1.000000</td>\n",
       "      <td>1.000000</td>\n",
       "      <td>1.000000</td>\n",
       "      <td>1.000000</td>\n",
       "      <td>1.000000</td>\n",
       "      <td>1.000000</td>\n",
       "    </tr>\n",
       "    <tr>\n",
       "      <th>25%</th>\n",
       "      <td>2.000000</td>\n",
       "      <td>1.000000</td>\n",
       "      <td>1.000000</td>\n",
       "      <td>1.000000</td>\n",
       "      <td>2.000000</td>\n",
       "      <td>1.000000</td>\n",
       "      <td>2.000000</td>\n",
       "      <td>1.000000</td>\n",
       "      <td>1.000000</td>\n",
       "    </tr>\n",
       "    <tr>\n",
       "      <th>50%</th>\n",
       "      <td>4.000000</td>\n",
       "      <td>1.000000</td>\n",
       "      <td>1.000000</td>\n",
       "      <td>1.000000</td>\n",
       "      <td>2.000000</td>\n",
       "      <td>1.000000</td>\n",
       "      <td>3.000000</td>\n",
       "      <td>1.000000</td>\n",
       "      <td>1.000000</td>\n",
       "    </tr>\n",
       "    <tr>\n",
       "      <th>75%</th>\n",
       "      <td>6.000000</td>\n",
       "      <td>5.000000</td>\n",
       "      <td>5.000000</td>\n",
       "      <td>4.000000</td>\n",
       "      <td>4.000000</td>\n",
       "      <td>7.000000</td>\n",
       "      <td>5.000000</td>\n",
       "      <td>4.000000</td>\n",
       "      <td>1.000000</td>\n",
       "    </tr>\n",
       "    <tr>\n",
       "      <th>max</th>\n",
       "      <td>10.000000</td>\n",
       "      <td>10.000000</td>\n",
       "      <td>10.000000</td>\n",
       "      <td>10.000000</td>\n",
       "      <td>10.000000</td>\n",
       "      <td>10.000000</td>\n",
       "      <td>10.000000</td>\n",
       "      <td>10.000000</td>\n",
       "      <td>10.000000</td>\n",
       "    </tr>\n",
       "  </tbody>\n",
       "</table>\n",
       "</div>"
      ],
      "text/plain": [
       "       clumpThickness    cellSize   CellShape  marginalAdhesion  \\\n",
       "count      699.000000  699.000000  699.000000        699.000000   \n",
       "mean         4.417740    3.134478    3.207439          2.806867   \n",
       "std          2.815741    3.051459    2.971913          2.855379   \n",
       "min          1.000000    1.000000    1.000000          1.000000   \n",
       "25%          2.000000    1.000000    1.000000          1.000000   \n",
       "50%          4.000000    1.000000    1.000000          1.000000   \n",
       "75%          6.000000    5.000000    5.000000          4.000000   \n",
       "max         10.000000   10.000000   10.000000         10.000000   \n",
       "\n",
       "       epithelialSize  bareNuclei  blandChromatin  normalNucleoli     mitoses  \n",
       "count      699.000000  667.000000      699.000000      699.000000  699.000000  \n",
       "mean         3.216023    3.536732        3.437768        2.866953    1.589413  \n",
       "std          2.214300    3.683795        2.438364        3.053634    1.715078  \n",
       "min          1.000000    1.000000        1.000000        1.000000    1.000000  \n",
       "25%          2.000000    1.000000        2.000000        1.000000    1.000000  \n",
       "50%          2.000000    1.000000        3.000000        1.000000    1.000000  \n",
       "75%          4.000000    7.000000        5.000000        4.000000    1.000000  \n",
       "max         10.000000   10.000000       10.000000       10.000000   10.000000  "
      ]
     },
     "execution_count": 16,
     "metadata": {},
     "output_type": "execute_result"
    }
   ],
   "source": [
    "df2_sinId.describe()"
   ]
  },
  {
   "cell_type": "markdown",
   "metadata": {},
   "source": [
    "Estos estadísticos también nos vendrán bien para realizar el tratamiento de valores perdidos, ya que existen métodos como por ejemplo el de rellenar los valores perdidos con la media, o la moda.\n",
    "\n",
    "Como vemos, en todos los atributos tenemos un total de 699 casos, excepto en la variable 'bareNuclei', en la que encontramos 667. Esto es debido a la presencia de valores perdidos en este atributo."
   ]
  },
  {
   "cell_type": "markdown",
   "metadata": {},
   "source": [
    "### 1.4. La clase"
   ]
  },
  {
   "cell_type": "markdown",
   "metadata": {},
   "source": [
    "La variable clase es la más importante, ya que esta es la que deberemos predecir ante nuevos casos en nuestra base de datos. Para ver la distribución que presenta la clase, usaremos los diagramas de barras que aparecen a continuación."
   ]
  },
  {
   "cell_type": "code",
   "execution_count": 17,
   "metadata": {},
   "outputs": [],
   "source": [
    "def gSingleBarplot(targetDf, targetVar):\n",
    "    sns.countplot(data=targetDf, x=targetVar)"
   ]
  },
  {
   "cell_type": "code",
   "execution_count": 18,
   "metadata": {},
   "outputs": [
    {
     "data": {
      "image/png": "[encoded data removed]",
      "text/plain": [
       "<matplotlib.figure.Figure at 0x7f5f11e55e10>"
      ]
     },
     "metadata": {},
     "output_type": "display_data"
    }
   ],
   "source": [
    "gSingleBarplot(df1, \"label\") #para ver los 2 estados de la variable categorica"
   ]
  },
  {
   "cell_type": "code",
   "execution_count": 19,
   "metadata": {},
   "outputs": [
    {
     "data": {
      "image/png": "[encoded data removed]",
      "text/plain": [
       "<matplotlib.figure.Figure at 0x7f5f11f795c0>"
      ]
     },
     "metadata": {},
     "output_type": "display_data"
    }
   ],
   "source": [
    "gSingleBarplot(df2, \"label\") #para ver los 2 estados de la variable categorica"
   ]
  },
  {
   "cell_type": "markdown",
   "metadata": {},
   "source": [
    "Como vemos, en el dataset pima hay más casos clasificados como 'tested_negative' que como 'tested_positive'. Y lo mismo ocurre con el dataset wisconsin: hay más casos de 'benign' que de 'malignant'.\n",
    "\n",
    "Por ello, a la hora de realizar las particiones de Train y Test para nuestro proceso de holdout, deberemos tener en cuenta/mantener esta proporción de casos."
   ]
  },
  {
   "cell_type": "markdown",
   "metadata": {},
   "source": [
    "### 1.5. Partición de los datasets"
   ]
  },
  {
   "cell_type": "markdown",
   "metadata": {},
   "source": [
    "Antes de probar los clasificadores y hacer el tratamiento de valores perdidos con nuestros datasets, debemos realizar un proceso de holdout estratificado, en el que haya una parte proporcionada de la base de datos que se utilice para entrenar nuestros clasificadores (Train), y otra parte del dataset que usemos para validar nuestros modelos aprendidos (Test). \n",
    "\n",
    "Para ello, lo primero que debemos hacer es desordenar la base de datos usando nuestra semilla (declarada al principio del cuaderno) para que permute los índices de los casos, consiguiendo así una partición balanceada de los casos respecto a su variable clase.\n",
    "\n",
    "La función train_test_split se encarga de hacer esto, y también de realizar la partición en dos conjuntos Train y Test. Para que esta función consiga realizar la partición adecuadamente, es necesario dividir nuestros datasets en dos partes: por un lado los atributos y por otro las variables clase. También debemos utilizar la semilla que declaramos al principio de este cuaderno, para poder ser capaces de reproducir nuestros resultados en evaluaciones futuras.\n",
    "\n",
    "La proporcion de casos que usaremos para nuestros conjuntos de Test será de un 40% frente a un 60% de casos para los conjuntos de Train."
   ]
  },
  {
   "cell_type": "code",
   "execution_count": 20,
   "metadata": {},
   "outputs": [],
   "source": [
    "# We must always divide our dataset into attributes and label\n",
    "attributesdf1 = df1.drop('label', 1)\n",
    "labeldf1 = df1['label']\n",
    "\n",
    "attributesdf2 = df2_sinId.drop('label', 1)\n",
    "labeldf2 = df2_sinId['label']"
   ]
  },
  {
   "cell_type": "code",
   "execution_count": 21,
   "metadata": {},
   "outputs": [],
   "source": [
    "from sklearn.model_selection import train_test_split\n",
    "train_atts1, test_atts1, train_label1, test_label1 = train_test_split( \n",
    "    attributesdf1, # Dataset con los atributos\n",
    "    labeldf1, # Vector/dataset con la clase\n",
    "    test_size=0.4, # Proporcion de test\n",
    "    random_state=seed, # Semilla\n",
    "    stratify=labeldf1) # Variable a estratificar"
   ]
  },
  {
   "cell_type": "code",
   "execution_count": 22,
   "metadata": {},
   "outputs": [],
   "source": [
    "from sklearn.model_selection import train_test_split\n",
    "train_atts2, test_atts2, train_label2, test_label2 = train_test_split( \n",
    "    attributesdf2, # Dataset con los atributos\n",
    "    labeldf2, # Vector/dataset con la clase\n",
    "    test_size=0.4, # Proporcion de test\n",
    "    random_state=seed, # Semilla\n",
    "    stratify=labeldf2) # Variable a estratificar"
   ]
  },
  {
   "cell_type": "code",
   "execution_count": 23,
   "metadata": {},
   "outputs": [],
   "source": [
    "pimaTraining = train_atts1.assign(label = train_label1)\n",
    "pimaTest = test_atts1.assign(label = test_label1)\n",
    "\n",
    "wisconsinTraining = train_atts2.assign(label = train_label2)\n",
    "wisconsinTest = test_atts2.assign(label = test_label2)"
   ]
  },
  {
   "cell_type": "code",
   "execution_count": 24,
   "metadata": {},
   "outputs": [
    {
     "data": {
      "image/png": "[encoded data removed]",
      "text/plain": [
       "<matplotlib.figure.Figure at 0x7f5f11dbedd8>"
      ]
     },
     "metadata": {},
     "output_type": "display_data"
    }
   ],
   "source": [
    "gSingleBarplot(pimaTraining, \"label\")"
   ]
  },
  {
   "cell_type": "code",
   "execution_count": 25,
   "metadata": {},
   "outputs": [
    {
     "data": {
      "image/png": "[encoded data removed]",
      "text/plain": [
       "<matplotlib.figure.Figure at 0x7f5f11fbeef0>"
      ]
     },
     "metadata": {},
     "output_type": "display_data"
    }
   ],
   "source": [
    "gSingleBarplot(wisconsinTraining, \"label\")"
   ]
  },
  {
   "cell_type": "markdown",
   "metadata": {},
   "source": [
    "Como vemos, ambas divisiones de los conjuntos de Train de los datasets pima y wisconsin presentan la misma proporción/distribución que en el dataset original."
   ]
  },
  {
   "cell_type": "markdown",
   "metadata": {},
   "source": [
    "### 1.6. Identificación de anomalías y tratamiento de datos perdidos"
   ]
  },
  {
   "cell_type": "markdown",
   "metadata": {},
   "source": [
    "En el dataset pima, los valores perdidos no se representan con NA o NaN, sino que podrían estar representados con 0. Sin embargo, puede que alguna de las variables tenga este valor dentro de su dominio, por lo que en este caso no sería un valor perdido. \n",
    "\n",
    "Para saber si un cero en nuestro dataset es un valor perdido o no, deberíamos consultar con un experto en medicina que conozca las unidades de medida de estas variables, y sus posibles rangos de valores. No obstante, hay algunas variables que tenemos claro que no podrían tener el cero en sus rangos de valores, como por ejemplo el índice de masa corporal (variable 'mass') o la presión sanguínea (variable 'pres'). En estos casos, sí realizaremos un tratamiento de valores perdidos.\n",
    "\n",
    "Este tratamiento puede hacerse de varias formas:\n",
    "* Eliminar el caso que contenga valores perdidos: este método sería muy arriesgado ya que, si hay muchos valores perdidos, perderíamos gran parte del dataset.\n",
    "* Eliminar la variable que contenga valores perdidos: este método tampoco lo vamos a usar, porque perderíamos información de muchas variables.\n",
    "* Rellenar valores perdidos con algún valor concreto: en nuestro caso, esta será la técnica que vamos a usar, y rellenaremos los valores con la media en ambos casos (pima y wisconsin).\n",
    "\n",
    "Pero no en todas las variables los ceros son valores perdidos. Por ejemplo la variable 'preg' admitiría ceros, ya que puede haber casos en los que el individuo no haya estado embarazado nunca (como por ejemplo hombres, o mujeres que no han estado nunca embarazadas)."
   ]
  },
  {
   "cell_type": "markdown",
   "metadata": {},
   "source": [
    "Antes de rellenar los valores a cero con nuestra media, debemos obviar las columnas preg y label, por lo que hemos explicado anteriormente.\n",
    "\n",
    "Ahora solo queda reemplazar los valores a cero por valores de tipo NaN, que son más sencillos de tratar. Esto lo conseguimos con un bucle, mediante el cual recorremos estos atributos, reemplazando estos valores a cero por NaN."
   ]
  },
  {
   "cell_type": "code",
   "execution_count": 26,
   "metadata": {},
   "outputs": [
    {
     "data": {
      "text/plain": [
       "Index(['plas', 'pres', 'skin', 'insu', 'mass', 'pedi', 'age'], dtype='object')"
      ]
     },
     "execution_count": 26,
     "metadata": {},
     "output_type": "execute_result"
    }
   ],
   "source": [
    "aux_ceros = df1.columns.drop([\"preg\",\"label\"])\n",
    "aux_ceros"
   ]
  },
  {
   "cell_type": "code",
   "execution_count": 27,
   "metadata": {},
   "outputs": [],
   "source": [
    "for i in aux_ceros:\n",
    "    pimaTraining.replace({i: {0: np.nan}}, inplace = True)\n",
    "    pimaTest.replace({i: {0: np.nan}}, inplace = True)"
   ]
  },
  {
   "cell_type": "markdown",
   "metadata": {},
   "source": [
    "Para calcular el vector de medias de nuestros datasets, debemos tener en cuenta varios aspectos. Para crear nuestros modelos, hemos realizado un proceso de Holdout estratificado, tal y como se nos indicaba en el guión de la práctica. Este proceso consiste en separar en dos conjuntos cada uno de nuestros dos datasets, de forma que tengamos un conjunto para Train y otro para Test.\n",
    "\n",
    "Como ya sabemos, el conjunto de Test debemos tomarlo como si no lo conociéramos hasta el final del proceso, cuando debemos validar nuestro modelo. Por tanto, no conocemos ninguna información sobre este conjunto, y por ello, no podemos tenerlo en cuenta a la hora de realizar el tratamiento de valores perdidos. \n",
    "\n",
    "Así, para solucionar el problema de los valores perdidos en el conjunto de Test, los rellenaremos con la media de los valores del conjunto de Train. Y haremos lo mismo con el conjunto de Train."
   ]
  },
  {
   "cell_type": "code",
   "execution_count": 28,
   "metadata": {},
   "outputs": [],
   "source": [
    "# Calculamos el vector de medias\n",
    "meansValues1 = pimaTraining.mean()\n",
    "prueba1Train=pimaTraining.copy()\n",
    "prueba1Test=pimaTest.copy()\n",
    "\n",
    "# Ahora lo usamos para rellenar:\n",
    "cleanDf1Train = prueba1Train.fillna( meansValues1 )\n",
    "cleanDf1Test = prueba1Test.fillna(meansValues1)"
   ]
  },
  {
   "cell_type": "markdown",
   "metadata": {},
   "source": [
    "Si observamos de nuevo los histogramas, vemos que los rangos de los atributos ahora presentan una distribución gaussiana."
   ]
  },
  {
   "cell_type": "code",
   "execution_count": 29,
   "metadata": {
    "scrolled": false
   },
   "outputs": [
    {
     "data": {
      "image/png": "[encoded data removed]",
      "text/plain": [
       "<matplotlib.figure.Figure at 0x7f5f11ca3f28>"
      ]
     },
     "metadata": {},
     "output_type": "display_data"
    }
   ],
   "source": [
    "gMultipleHistogram(cleanDf1Train)"
   ]
  },
  {
   "cell_type": "markdown",
   "metadata": {},
   "source": [
    "En el dataset wisconsin es más sencillo identificar los valores perdidos, ya que estos están representados como NA. Así, podríamos tratarlos de varias formas:\n",
    "* Eliminar el caso que contenga valores perdidos: este método sería muy arriesgado ya que, si hay muchos valores perdidos, perderíamos gran parte del dataset.\n",
    "* Eliminar la variable que contenga valores perdidos: este método tampoco lo vamos a usar, porque, aunque los valores NA solo aparecen en la variable 'bareNuclei', perderíamos muchos datos si eliminásemos dicha variable.\n",
    "* Rellenar valores perdidos con algún valor concreto: en nuestro caso, esta será la técnica que vamos a usar, y rellenaremos los valores con la media.\n",
    "\n",
    "Como ya hemos dicho antes, la media la sacaremos solo del conjunto de Train, y con ella rellenaremos tanto los valores perdidos del conjunto de Train, como del conjunto de Test."
   ]
  },
  {
   "cell_type": "code",
   "execution_count": 30,
   "metadata": {},
   "outputs": [],
   "source": [
    "# Calculamos el vector de medias\n",
    "meansValues2 = wisconsinTraining.mean()\n",
    "prueba2Train=wisconsinTraining.copy()\n",
    "prueba2Test=wisconsinTest.copy()\n",
    "\n",
    "# Ahora lo usamos para rellenar:\n",
    "cleanDf2Train = prueba2Train.fillna( meansValues2 )\n",
    "cleanDf2Test = prueba2Test.fillna(meansValues2)"
   ]
  },
  {
   "cell_type": "markdown",
   "metadata": {},
   "source": [
    "Por último, volvemos a mostrar los histogramas de nuestras variables tras el tratamiento de los valores peridos. La única que ha cambiado ha sido la variable 'bareNuclei', ya que, como hemos dicho antes, era la única que presentaba valores NaN."
   ]
  },
  {
   "cell_type": "code",
   "execution_count": 31,
   "metadata": {},
   "outputs": [
    {
     "data": {
      "image/png": "[encoded data removed]",
      "text/plain": [
       "<matplotlib.figure.Figure at 0x7f5f116a8f28>"
      ]
     },
     "metadata": {},
     "output_type": "display_data"
    }
   ],
   "source": [
    "gMultipleHistogram(cleanDf2Train)"
   ]
  },
  {
   "cell_type": "markdown",
   "metadata": {},
   "source": [
    "## 2. Aprendizaje y evaluación de un clasificador zeroR (con holdout)."
   ]
  },
  {
   "cell_type": "markdown",
   "metadata": {},
   "source": [
    "Un clasificador ZeroR utiliza la clase mayoritaria para predecir la clase ante nuevos casos en el dataset. Por tanto, para implementar nuestro clasificador, debemos calcular la moda en ambos datasets, lo que nos devolverá las clases mayoritarias en ambos casos: 'tested_negative' en pima y 'benign' en el caso de wisconsin."
   ]
  },
  {
   "cell_type": "code",
   "execution_count": 32,
   "metadata": {},
   "outputs": [
    {
     "data": {
      "text/plain": [
       "0    tested_negative\n",
       "Name: label, dtype: category\n",
       "Categories (2, object): [tested_negative, tested_positive]"
      ]
     },
     "execution_count": 32,
     "metadata": {},
     "output_type": "execute_result"
    }
   ],
   "source": [
    "cleanDf1Train.label.mode()"
   ]
  },
  {
   "cell_type": "code",
   "execution_count": 33,
   "metadata": {},
   "outputs": [
    {
     "data": {
      "text/plain": [
       "0    benign\n",
       "Name: label, dtype: category\n",
       "Categories (2, object): [benign, malignant]"
      ]
     },
     "execution_count": 33,
     "metadata": {},
     "output_type": "execute_result"
    }
   ],
   "source": [
    "cleanDf2Train.label.mode()"
   ]
  },
  {
   "cell_type": "markdown",
   "metadata": {},
   "source": [
    "Primero debemos usar la función trainZeroR, que se nos proporcionaba en el guión de la práctica 1, para crear nuestro clasificador ZeroR. Con este clasificador, nuevas instancias en el dataset deberán ser predichas usando la etiqueta mayoritaria en nuestra variable clase (label). Para ello, creamos una nueva columna en el dataset llamada prediction, que albergará la predicción de la clase mayoritaria en cada caso de la base de datos."
   ]
  },
  {
   "cell_type": "code",
   "execution_count": 34,
   "metadata": {},
   "outputs": [],
   "source": [
    "# This is the outer function that should return the classifier function\n",
    "def trainZeroR(trainingData):\n",
    "    # We first learn the parameters, aka, the most probable class\n",
    "    # Tip! get the class variable mode and take the first value\n",
    "    majorClass = trainingData.label.mode()[0]# <-- COMPLETE\n",
    "    \n",
    "    # Now we create and return the classifier function\n",
    "    def classifier( data ):\n",
    "        return data.assign( prediction=majorClass ) # <-- COMPLETE\n",
    "    \n",
    "    return classifier"
   ]
  },
  {
   "cell_type": "markdown",
   "metadata": {},
   "source": [
    "A continuación usamos la función trainAndEvalClassifier del guión de la práctica1, para entrenar el clasificador con nuestros conjuntos de Train, y validarlo con nuestros conjuntos de Test. Esta función nos devolverá una matriz de confusión con los casos, y un accuracy del modelo aprendido al enfrentarlo a los casos de Test."
   ]
  },
  {
   "cell_type": "code",
   "execution_count": 35,
   "metadata": {},
   "outputs": [],
   "source": [
    "# The star notated argument are cale varargs, and can be passed to inner functions\n",
    "def trainAndEvalClassifier(classifier, trainingDf, testDf, **kwargs):\n",
    "    model = classifier(trainingDf, **kwargs)\n",
    "    predictedDf = model(testDf)\n",
    "    tab = pd.crosstab(predictedDf['label'], predictedDf['prediction'])\n",
    "    comparison = predictedDf[predictedDf['label'] == predictedDf['prediction'] ]\n",
    "    accuracy = len(comparison) / len(predictedDf)\n",
    "    return (tab, accuracy)"
   ]
  },
  {
   "cell_type": "markdown",
   "metadata": {},
   "source": [
    "Primero con pima."
   ]
  },
  {
   "cell_type": "code",
   "execution_count": 36,
   "metadata": {},
   "outputs": [],
   "source": [
    "(tab1, accuracy1) = trainAndEvalClassifier(trainZeroR, cleanDf1Train, cleanDf1Test)"
   ]
  },
  {
   "cell_type": "code",
   "execution_count": 37,
   "metadata": {},
   "outputs": [
    {
     "data": {
      "text/html": [
       "<div>\n",
       "<style>\n",
       "    .dataframe thead tr:only-child th {\n",
       "        text-align: right;\n",
       "    }\n",
       "\n",
       "    .dataframe thead th {\n",
       "        text-align: left;\n",
       "    }\n",
       "\n",
       "    .dataframe tbody tr th {\n",
       "        vertical-align: top;\n",
       "    }\n",
       "</style>\n",
       "<table border=\"1\" class=\"dataframe\">\n",
       "  <thead>\n",
       "    <tr style=\"text-align: right;\">\n",
       "      <th>prediction</th>\n",
       "      <th>tested_negative</th>\n",
       "    </tr>\n",
       "    <tr>\n",
       "      <th>label</th>\n",
       "      <th></th>\n",
       "    </tr>\n",
       "  </thead>\n",
       "  <tbody>\n",
       "    <tr>\n",
       "      <th>tested_negative</th>\n",
       "      <td>201</td>\n",
       "    </tr>\n",
       "    <tr>\n",
       "      <th>tested_positive</th>\n",
       "      <td>107</td>\n",
       "    </tr>\n",
       "  </tbody>\n",
       "</table>\n",
       "</div>"
      ],
      "text/plain": [
       "prediction       tested_negative\n",
       "label                           \n",
       "tested_negative              201\n",
       "tested_positive              107"
      ]
     },
     "execution_count": 37,
     "metadata": {},
     "output_type": "execute_result"
    }
   ],
   "source": [
    "tab1"
   ]
  },
  {
   "cell_type": "code",
   "execution_count": 38,
   "metadata": {},
   "outputs": [
    {
     "name": "stdout",
     "output_type": "stream",
     "text": [
      "Accuracy pima ZeroR: 0.6525974025974026\n"
     ]
    }
   ],
   "source": [
    "print(\"Accuracy pima ZeroR:\", accuracy1)"
   ]
  },
  {
   "cell_type": "markdown",
   "metadata": {},
   "source": [
    "Y ahora con el dataset wisconsin"
   ]
  },
  {
   "cell_type": "code",
   "execution_count": 39,
   "metadata": {},
   "outputs": [],
   "source": [
    "(tab2, accuracy2) = trainAndEvalClassifier(trainZeroR, cleanDf2Train, cleanDf2Test)"
   ]
  },
  {
   "cell_type": "code",
   "execution_count": 40,
   "metadata": {},
   "outputs": [
    {
     "data": {
      "text/html": [
       "<div>\n",
       "<style>\n",
       "    .dataframe thead tr:only-child th {\n",
       "        text-align: right;\n",
       "    }\n",
       "\n",
       "    .dataframe thead th {\n",
       "        text-align: left;\n",
       "    }\n",
       "\n",
       "    .dataframe tbody tr th {\n",
       "        vertical-align: top;\n",
       "    }\n",
       "</style>\n",
       "<table border=\"1\" class=\"dataframe\">\n",
       "  <thead>\n",
       "    <tr style=\"text-align: right;\">\n",
       "      <th>prediction</th>\n",
       "      <th>benign</th>\n",
       "    </tr>\n",
       "    <tr>\n",
       "      <th>label</th>\n",
       "      <th></th>\n",
       "    </tr>\n",
       "  </thead>\n",
       "  <tbody>\n",
       "    <tr>\n",
       "      <th>benign</th>\n",
       "      <td>183</td>\n",
       "    </tr>\n",
       "    <tr>\n",
       "      <th>malignant</th>\n",
       "      <td>97</td>\n",
       "    </tr>\n",
       "  </tbody>\n",
       "</table>\n",
       "</div>"
      ],
      "text/plain": [
       "prediction  benign\n",
       "label             \n",
       "benign         183\n",
       "malignant       97"
      ]
     },
     "execution_count": 40,
     "metadata": {},
     "output_type": "execute_result"
    }
   ],
   "source": [
    "tab2"
   ]
  },
  {
   "cell_type": "code",
   "execution_count": 41,
   "metadata": {},
   "outputs": [
    {
     "name": "stdout",
     "output_type": "stream",
     "text": [
      "Accuracy wisconsin ZeroR: 0.6535714285714286\n"
     ]
    }
   ],
   "source": [
    "print(\"Accuracy wisconsin ZeroR:\", accuracy2)"
   ]
  },
  {
   "cell_type": "markdown",
   "metadata": {},
   "source": [
    "Como vemos, nuestros ZeroR's no son muy precisos. El clasificador ZeroR siempre predice la clase mayoritaria, luego todos los casos que no pertenezcan a esta, serán mal clasificados. \n",
    "\n",
    "El accuracy solo mide la tasa de aciertos conseguida, por lo que no tiene en cuenta las instancias mal clasificadas. Para saber si este clasificador es verdaderamente bueno, deberíamos analizar su curva ROC y el AUC, ya que esta medida tiene en cuenta tanto los aciertos como los fallos en las predicciones."
   ]
  },
  {
   "cell_type": "markdown",
   "metadata": {},
   "source": [
    "## 3. Aprendizaje y evaluación de un clasificador oneR (con holdout)."
   ]
  },
  {
   "cell_type": "markdown",
   "metadata": {},
   "source": [
    "El clasificador OneR clasifica nuevas instancias basándose en los valores de una de las variables, la cual debe ser la más descriptiva o la más discriminatoria respecto a la clase.\n",
    "\n",
    "Para implementar este clasificador usamos la función trainOneR que se nos proporcionaba (incompleta) en el guión de la práctica 1. Esta función recibe como parámetros el conjunto de Train y el número de particiones que deberá realizar para entrenar dicho conjunto.\n",
    "\n",
    "Lo primero que hace esta función es recorrer los atributos del dataset. Para cada atributo, realiza una partición en 3 bins para poder discretizar sus valores, y después forma la matriz de confusión y calcula el error cometido en cada uno de estos bins.\n",
    "\n",
    "Una vez hecho esto para todos los atributos del dataset, nos quedaremos con el atributo que menor error haya conseguido en sus predicciones, y guardaremos los valores asignados de la clase para cada uno de los intervalos de dicho atributo.\n",
    "\n",
    "Por último, solo queda probar con el conjunto de Test. Para cada nueva instancia, se comprobará en qué intervalo (de los creados para el mejor atributo) cae su valor para el atributo elegido, y le asignaremos la clase que corresponda a dicho intervalo. "
   ]
  },
  {
   "cell_type": "code",
   "execution_count": 74,
   "metadata": {},
   "outputs": [],
   "source": [
    "# Complete the code when indicated with ???\n",
    "\n",
    "# Outer learning function, hyperparameter nbins=1 is equivalent to zeroR if all attributes are continuous\n",
    "def trainOneR(trainingData, nbins = 1, debug = True):\n",
    "    # Debug: \n",
    "    if debug:\n",
    "        print(\"-----------------------------------\")\n",
    "        print(\"Training OneR\")\n",
    "        print(\"-----------------------------------\")\n",
    "        print(\"attribute\\terror\")\n",
    "    # ------------------------------------\n",
    "\n",
    "    # Loop maximization variables\n",
    "    best_attribute = ''\n",
    "    best_partitions = []\n",
    "    best_classes = []\n",
    "    best_error =  float(\"inf\")\n",
    "\n",
    "    # We discretize each attribute and compute its error\n",
    "    for att in trainingData.columns.values: \n",
    "        # We must ignore the class variable\n",
    "        if att == 'label': continue\n",
    "\n",
    "        # First we generate the partitions\n",
    "        (attribute, bins) = pd.cut(trainingData[att], bins=3, retbins=True) #los bins son por igual anchura\n",
    "        \n",
    "        # The we must compute the error\n",
    "        tab = pd.crosstab(attribute, trainingData['label'])\n",
    "        #print(tab)\n",
    "        #para cada fila calculamos su error y sumamos para obtener el error total del atributo\n",
    "        error = sum( [ sum(f) - max(f) for f in tab.values ] ) \n",
    "        #print(error)\n",
    "\n",
    "        # We can show each variable individual error\n",
    "        if debug:\n",
    "            print(att, \"\\t\", error)\n",
    "        # ----------------------------------------\n",
    "        \n",
    "        # Lastly we compare if this attribute is better than the previous local optima\n",
    "        if (error < best_error):\n",
    "            # If that is the case we store it as the current local optima\n",
    "            best_attribute  = att\n",
    "            #Pandas añade un bin más al principio al llamar a cut, por eso debemos prescindir de el \n",
    "            best_partitions = bins[1:] \n",
    "            # We must store the majority class for each interval in order to assign it\n",
    "            # during classification\n",
    "            #para cada intervalo, calculamos la clase mayoritaria\n",
    "            best_classes = [ tab.columns[f.argmax()] for f in tab.values ] \n",
    "            best_error = error\n",
    "\n",
    "    # Now we generate the classifier function regarding the previous parameters\n",
    "    def classifier( testData ):\n",
    "        # It simply assigns the majority class for each interval\n",
    "        # For that we can use an auxiliar function to check which interval the current value\n",
    "        # for the optimal attribute belongs to and assign the stored majority class\n",
    "        def assignClass( attValue ):\n",
    "            for i in range(len(best_partitions)):\n",
    "                #si el valor del atributo entra dentro del intervalo establecido, \n",
    "                #le asigno la clase mayoritaria en ese intervalo\n",
    "                if attValue <= best_partitions[i]: \n",
    "                    return best_classes[i]\n",
    "\n",
    "        # Now we apply the previous function to all the instances in the dataset\n",
    "        # Remember that when using map in python3 we must cast the result as list\n",
    "        prediction = list(map( assignClass, testData[best_attribute] ))\n",
    "        return testData.assign( prediction=prediction )\n",
    "    \n",
    "    print(\"-----------------------------------\")\n",
    "    print(\"Best Attribute: \", best_attribute)\n",
    "    return classifier"
   ]
  },
  {
   "cell_type": "markdown",
   "metadata": {},
   "source": [
    "A continuación usamos la función trainAndEvalClassifier del guión de la práctica1, para entrenar el clasificador con nuestros conjuntos de Train, y validarlo con los conjuntos de Test. \n",
    "\n",
    "Primero con pima."
   ]
  },
  {
   "cell_type": "code",
   "execution_count": 75,
   "metadata": {},
   "outputs": [
    {
     "name": "stdout",
     "output_type": "stream",
     "text": [
      "-----------------------------------\n",
      "Training OneR\n",
      "-----------------------------------\n",
      "attribute\terror\n",
      "label          tested_negative  tested_positive\n",
      "preg                                           \n",
      "(-0.015, 5.0]              234               96\n",
      "(5.0, 10.0]                 58               50\n",
      "(10.0, 15.0]                 7               15\n",
      "153\n",
      "preg \t 153\n",
      "label               tested_negative  tested_positive\n",
      "plas                                                \n",
      "(55.857, 103.667]               133               13\n",
      "(103.667, 151.333]              144               88\n",
      "(151.333, 199.0]                 22               60\n",
      "123\n",
      "plas \t 123\n",
      "label          tested_negative  tested_positive\n",
      "pres                                           \n",
      "(23.91, 54.0]               23                4\n",
      "(54.0, 84.0]               235              126\n",
      "(84.0, 114.0]               41               31\n",
      "161\n",
      "pres \t 161\n",
      "label             tested_negative  tested_positive\n",
      "skin                                              \n",
      "(6.908, 37.667]               264              134\n",
      "(37.667, 68.333]               35               26\n",
      "(68.333, 99.0]                  0                1\n",
      "160\n",
      "skin \t 160\n",
      "label            tested_negative  tested_positive\n",
      "insu                                             \n",
      "(17.172, 294.0]              292              150\n",
      "(294.0, 570.0]                 5                9\n",
      "(570.0, 846.0]                 2                2\n",
      "157\n",
      "insu \t 157\n",
      "label           tested_negative  tested_positive\n",
      "mass                                            \n",
      "(18.151, 34.5]              221               83\n",
      "(34.5, 50.8]                 76               73\n",
      "(50.8, 67.1]                  2                5\n",
      "158\n",
      "mass \t 158\n",
      "label            tested_negative  tested_positive\n",
      "pedi                                             \n",
      "(0.0828, 0.833]              270              134\n",
      "(0.833, 1.581]                26               25\n",
      "(1.581, 2.329]                 3                2\n",
      "161\n",
      "pedi \t 161\n",
      "label          tested_negative  tested_positive\n",
      "age                                            \n",
      "(20.94, 41.0]              244              102\n",
      "(41.0, 61.0]                43               53\n",
      "(61.0, 81.0]                12                6\n",
      "151\n",
      "age \t 151\n",
      "-----------------------------------\n",
      "Best Attribute:  plas\n"
     ]
    }
   ],
   "source": [
    "(tab11, accuracy11) = trainAndEvalClassifier(trainOneR, cleanDf1Train, cleanDf1Test, nbins=len(cleanDf1Train.label.unique()))"
   ]
  },
  {
   "cell_type": "code",
   "execution_count": 44,
   "metadata": {},
   "outputs": [
    {
     "data": {
      "text/html": [
       "<div>\n",
       "<style>\n",
       "    .dataframe thead tr:only-child th {\n",
       "        text-align: right;\n",
       "    }\n",
       "\n",
       "    .dataframe thead th {\n",
       "        text-align: left;\n",
       "    }\n",
       "\n",
       "    .dataframe tbody tr th {\n",
       "        vertical-align: top;\n",
       "    }\n",
       "</style>\n",
       "<table border=\"1\" class=\"dataframe\">\n",
       "  <thead>\n",
       "    <tr style=\"text-align: right;\">\n",
       "      <th>prediction</th>\n",
       "      <th>tested_negative</th>\n",
       "      <th>tested_positive</th>\n",
       "    </tr>\n",
       "    <tr>\n",
       "      <th>label</th>\n",
       "      <th></th>\n",
       "      <th></th>\n",
       "    </tr>\n",
       "  </thead>\n",
       "  <tbody>\n",
       "    <tr>\n",
       "      <th>tested_negative</th>\n",
       "      <td>191</td>\n",
       "      <td>10</td>\n",
       "    </tr>\n",
       "    <tr>\n",
       "      <th>tested_positive</th>\n",
       "      <td>65</td>\n",
       "      <td>42</td>\n",
       "    </tr>\n",
       "  </tbody>\n",
       "</table>\n",
       "</div>"
      ],
      "text/plain": [
       "prediction       tested_negative  tested_positive\n",
       "label                                            \n",
       "tested_negative              191               10\n",
       "tested_positive               65               42"
      ]
     },
     "execution_count": 44,
     "metadata": {},
     "output_type": "execute_result"
    }
   ],
   "source": [
    "tab11"
   ]
  },
  {
   "cell_type": "code",
   "execution_count": 45,
   "metadata": {},
   "outputs": [
    {
     "name": "stdout",
     "output_type": "stream",
     "text": [
      "Accuracy pima OneR:  0.7564935064935064\n"
     ]
    }
   ],
   "source": [
    "print(\"Accuracy pima OneR: \",accuracy11)"
   ]
  },
  {
   "cell_type": "markdown",
   "metadata": {},
   "source": [
    "Este accuracy es más alto que el obtenido con ZeroR, por lo que podríamos concluir que los casos se clasifican algo mejor teniendo en cuenta una de las variables del dataset. Sin embargo, no podríamos clasificar los casos en base a un solo atributo del dataset, deberíamos analizar los demás atributos para saber cuál es la clase a la que pertenecerían."
   ]
  },
  {
   "cell_type": "markdown",
   "metadata": {},
   "source": [
    "Ahora veremos los resultados con el dataset wisconsin."
   ]
  },
  {
   "cell_type": "code",
   "execution_count": 46,
   "metadata": {},
   "outputs": [
    {
     "name": "stdout",
     "output_type": "stream",
     "text": [
      "-----------------------------------\n",
      "Training OneR\n",
      "-----------------------------------\n",
      "attribute\terror\n",
      "clumpThickness \t 70\n",
      "cellSize \t 45\n",
      "CellShape \t 44\n",
      "marginalAdhesion \t 71\n",
      "epithelialSize \t 76\n",
      "bareNuclei \t 42\n",
      "blandChromatin \t 57\n",
      "normalNucleoli \t 65\n",
      "mitoses \t 123\n",
      "-----------------------------------\n",
      "Best Attribute:  bareNuclei\n"
     ]
    }
   ],
   "source": [
    "(tab21, accuracy21) = trainAndEvalClassifier(trainOneR, cleanDf2Train, cleanDf2Test, nbins=len(cleanDf2Train.label.unique()))"
   ]
  },
  {
   "cell_type": "code",
   "execution_count": 47,
   "metadata": {},
   "outputs": [
    {
     "data": {
      "text/html": [
       "<div>\n",
       "<style>\n",
       "    .dataframe thead tr:only-child th {\n",
       "        text-align: right;\n",
       "    }\n",
       "\n",
       "    .dataframe thead th {\n",
       "        text-align: left;\n",
       "    }\n",
       "\n",
       "    .dataframe tbody tr th {\n",
       "        vertical-align: top;\n",
       "    }\n",
       "</style>\n",
       "<table border=\"1\" class=\"dataframe\">\n",
       "  <thead>\n",
       "    <tr style=\"text-align: right;\">\n",
       "      <th>prediction</th>\n",
       "      <th>benign</th>\n",
       "      <th>malignant</th>\n",
       "    </tr>\n",
       "    <tr>\n",
       "      <th>label</th>\n",
       "      <th></th>\n",
       "      <th></th>\n",
       "    </tr>\n",
       "  </thead>\n",
       "  <tbody>\n",
       "    <tr>\n",
       "      <th>benign</th>\n",
       "      <td>178</td>\n",
       "      <td>5</td>\n",
       "    </tr>\n",
       "    <tr>\n",
       "      <th>malignant</th>\n",
       "      <td>25</td>\n",
       "      <td>72</td>\n",
       "    </tr>\n",
       "  </tbody>\n",
       "</table>\n",
       "</div>"
      ],
      "text/plain": [
       "prediction  benign  malignant\n",
       "label                        \n",
       "benign         178          5\n",
       "malignant       25         72"
      ]
     },
     "execution_count": 47,
     "metadata": {},
     "output_type": "execute_result"
    }
   ],
   "source": [
    "tab21"
   ]
  },
  {
   "cell_type": "code",
   "execution_count": 48,
   "metadata": {},
   "outputs": [
    {
     "name": "stdout",
     "output_type": "stream",
     "text": [
      "Accuracy wisconsin OneR:  0.8928571428571429\n"
     ]
    }
   ],
   "source": [
    "print(\"Accuracy wisconsin OneR: \",accuracy21)"
   ]
  },
  {
   "cell_type": "markdown",
   "metadata": {},
   "source": [
    "Este accuracy es más alto que el obtenido con ZeroR, por lo que deberíamos pensar que es necesario tener en cuenta más atributos a la hora de clasificar las instancias."
   ]
  },
  {
   "cell_type": "markdown",
   "metadata": {},
   "source": [
    "### 3.1. Algunas consideraciones sobre los atributos 'plas' y 'bareNuclei'"
   ]
  },
  {
   "cell_type": "markdown",
   "metadata": {},
   "source": [
    "Como hemos visto con el clasificador OneR, los mejores atributos para los dataset pima y wisconsin, respectivamente, son 'plas' y 'bareNuclei'. Al analizar sus diagramas de cajas, vemos claramente que existe una diferenciación de la clase teniendo en cuenta estos atributos, sobretodo en el dataset wisconsin usando el atributo 'bareNuclei'."
   ]
  },
  {
   "cell_type": "code",
   "execution_count": 49,
   "metadata": {},
   "outputs": [],
   "source": [
    "def gSingleBoxplot(targetdf, att):\n",
    "    sns.boxplot(x='label', y=att, data=targetdf)"
   ]
  },
  {
   "cell_type": "code",
   "execution_count": 50,
   "metadata": {},
   "outputs": [
    {
     "data": {
      "image/png": "[encoded data removed]",
      "text/plain": [
       "<matplotlib.figure.Figure at 0x7f5f11ddc438>"
      ]
     },
     "metadata": {},
     "output_type": "display_data"
    }
   ],
   "source": [
    "gSingleBoxplot(cleanDf1Train,'plas')"
   ]
  },
  {
   "cell_type": "code",
   "execution_count": 51,
   "metadata": {},
   "outputs": [
    {
     "data": {
      "image/png": "[encoded data removed]",
      "text/plain": [
       "<matplotlib.figure.Figure at 0x7f5f11bf4cf8>"
      ]
     },
     "metadata": {},
     "output_type": "display_data"
    }
   ],
   "source": [
    "gSingleBoxplot(cleanDf2Train,'bareNuclei')"
   ]
  },
  {
   "cell_type": "markdown",
   "metadata": {},
   "source": [
    "## 4. Aprendizaje y evaluación de un árbol de decisión (con holdout)."
   ]
  },
  {
   "cell_type": "markdown",
   "metadata": {},
   "source": [
    "Los árboles de decisión nos ayudan a predecir la clase teniendo en cuenta un mayor número de atributos del dataset, mientras que en OneR solo teníamos en cuenta uno de ellos (y ninguno en el caso de ZeroR).\n",
    "\n",
    "Para utilizar el algoritmo de este clasificador debemos usar el paquete scikit-learn, tal y como aparece en el guión de la práctica 1, para poder aprender un árbol de decisión para cada uno de nuestros dos datasets. "
   ]
  },
  {
   "cell_type": "code",
   "execution_count": 52,
   "metadata": {},
   "outputs": [],
   "source": [
    "from sklearn import tree\n",
    "# Init the models(set hyperparameters)\n",
    "model1 = tree.DecisionTreeClassifier(random_state=seed)\n",
    "model2 = tree.DecisionTreeClassifier(random_state=seed)"
   ]
  },
  {
   "cell_type": "markdown",
   "metadata": {},
   "source": [
    "Como ya venimos haciendo en procesos anteriores, esta librería necesita que nuestros conjuntos de entrenamiento provenientes de los datasets estén separados en dos conjuntos de datos: por un lado los atributos y por otro la clase."
   ]
  },
  {
   "cell_type": "code",
   "execution_count": 53,
   "metadata": {},
   "outputs": [],
   "source": [
    "features1 = cleanDf1Train.drop('label',1)\n",
    "labels1 = cleanDf1Train['label']\n",
    "\n",
    "features2 = cleanDf2Train.drop('label',1)\n",
    "labels2 = cleanDf2Train['label']"
   ]
  },
  {
   "cell_type": "markdown",
   "metadata": {},
   "source": [
    "A continuación, debemos aprender un modelo para cada uno de nuestros datasets usando la función fit de la librería."
   ]
  },
  {
   "cell_type": "code",
   "execution_count": 54,
   "metadata": {},
   "outputs": [],
   "source": [
    "# Use fit to learn from a configured model\n",
    "classifier1 = model1.fit(features1, labels1)\n",
    "classifier2 = model2.fit(features2, labels2)"
   ]
  },
  {
   "cell_type": "markdown",
   "metadata": {},
   "source": [
    "Por último, usamos los conjuntos de Test para predecir la clase de cada una de las instancias, y comprobamos los resultados con sus matrices de confunsión y el accuracy obtenido en cada uno de los casos."
   ]
  },
  {
   "cell_type": "code",
   "execution_count": 55,
   "metadata": {},
   "outputs": [],
   "source": [
    "testFeatures11 = cleanDf1Test.drop('label',1)\n",
    "prediction11 = classifier1.predict(testFeatures11)\n",
    "\n",
    "testFeatures21 = cleanDf2Test.drop('label',1)\n",
    "prediction21 = classifier2.predict(testFeatures21)"
   ]
  },
  {
   "cell_type": "code",
   "execution_count": 56,
   "metadata": {},
   "outputs": [
    {
     "data": {
      "text/html": [
       "<div>\n",
       "<style>\n",
       "    .dataframe thead tr:only-child th {\n",
       "        text-align: right;\n",
       "    }\n",
       "\n",
       "    .dataframe thead th {\n",
       "        text-align: left;\n",
       "    }\n",
       "\n",
       "    .dataframe tbody tr th {\n",
       "        vertical-align: top;\n",
       "    }\n",
       "</style>\n",
       "<table border=\"1\" class=\"dataframe\">\n",
       "  <thead>\n",
       "    <tr style=\"text-align: right;\">\n",
       "      <th>col_0</th>\n",
       "      <th>tested_negative</th>\n",
       "      <th>tested_positive</th>\n",
       "    </tr>\n",
       "    <tr>\n",
       "      <th>label</th>\n",
       "      <th></th>\n",
       "      <th></th>\n",
       "    </tr>\n",
       "  </thead>\n",
       "  <tbody>\n",
       "    <tr>\n",
       "      <th>tested_negative</th>\n",
       "      <td>153</td>\n",
       "      <td>48</td>\n",
       "    </tr>\n",
       "    <tr>\n",
       "      <th>tested_positive</th>\n",
       "      <td>38</td>\n",
       "      <td>69</td>\n",
       "    </tr>\n",
       "  </tbody>\n",
       "</table>\n",
       "</div>"
      ],
      "text/plain": [
       "col_0            tested_negative  tested_positive\n",
       "label                                            \n",
       "tested_negative              153               48\n",
       "tested_positive               38               69"
      ]
     },
     "execution_count": 56,
     "metadata": {},
     "output_type": "execute_result"
    }
   ],
   "source": [
    "pd.crosstab(cleanDf1Test['label'], prediction11)"
   ]
  },
  {
   "cell_type": "code",
   "execution_count": 57,
   "metadata": {},
   "outputs": [
    {
     "data": {
      "text/html": [
       "<div>\n",
       "<style>\n",
       "    .dataframe thead tr:only-child th {\n",
       "        text-align: right;\n",
       "    }\n",
       "\n",
       "    .dataframe thead th {\n",
       "        text-align: left;\n",
       "    }\n",
       "\n",
       "    .dataframe tbody tr th {\n",
       "        vertical-align: top;\n",
       "    }\n",
       "</style>\n",
       "<table border=\"1\" class=\"dataframe\">\n",
       "  <thead>\n",
       "    <tr style=\"text-align: right;\">\n",
       "      <th>col_0</th>\n",
       "      <th>benign</th>\n",
       "      <th>malignant</th>\n",
       "    </tr>\n",
       "    <tr>\n",
       "      <th>label</th>\n",
       "      <th></th>\n",
       "      <th></th>\n",
       "    </tr>\n",
       "  </thead>\n",
       "  <tbody>\n",
       "    <tr>\n",
       "      <th>benign</th>\n",
       "      <td>178</td>\n",
       "      <td>5</td>\n",
       "    </tr>\n",
       "    <tr>\n",
       "      <th>malignant</th>\n",
       "      <td>12</td>\n",
       "      <td>85</td>\n",
       "    </tr>\n",
       "  </tbody>\n",
       "</table>\n",
       "</div>"
      ],
      "text/plain": [
       "col_0      benign  malignant\n",
       "label                       \n",
       "benign        178          5\n",
       "malignant      12         85"
      ]
     },
     "execution_count": 57,
     "metadata": {},
     "output_type": "execute_result"
    }
   ],
   "source": [
    "pd.crosstab(cleanDf2Test['label'], prediction21)"
   ]
  },
  {
   "cell_type": "code",
   "execution_count": 58,
   "metadata": {},
   "outputs": [
    {
     "name": "stdout",
     "output_type": "stream",
     "text": [
      "Accuracy pima DecisionTree: 0.7207792207792207\n"
     ]
    }
   ],
   "source": [
    "comparison11 = cleanDf1Test[cleanDf1Test['label'] == prediction11]\n",
    "accuracy11 = len(comparison11) / len(cleanDf1Test)\n",
    "print(\"Accuracy pima DecisionTree:\", accuracy11)"
   ]
  },
  {
   "cell_type": "markdown",
   "metadata": {},
   "source": [
    "Para el dataset pima, el accuracy no mejora con respecto al clasificador OneR, a pesar de que se tienen en cuenta más atributos a la hora de predecir la clase. Si quisiéramos obtener una mayor precisión en nuestras clasificaciones, tal vez deberíamos pensar en combinar distintas variables para crear otras nuevas, que nos ayuden a predecir mejor la clase en nuestro conjunto de datos."
   ]
  },
  {
   "cell_type": "code",
   "execution_count": 59,
   "metadata": {},
   "outputs": [
    {
     "name": "stdout",
     "output_type": "stream",
     "text": [
      "Accuracy wisconsin DecisionTree: 0.9392857142857143\n"
     ]
    }
   ],
   "source": [
    "comparison21 = cleanDf2Test[cleanDf2Test['label'] == prediction21]\n",
    "accuracy21 = len(comparison21) / len(cleanDf2Test)\n",
    "print(\"Accuracy wisconsin DecisionTree:\", accuracy21)"
   ]
  },
  {
   "cell_type": "markdown",
   "metadata": {},
   "source": [
    "El accuracy obtenido para el dataset wisconsin es mejor que el obtenido en el OneR, por lo que podemos concluir que ha sido una buena decisión tener en cuenta un mayor número de atributos del dataset juntos para obtener una buena clasificación de nuestras instancias del conjunto de Test.\n",
    "\n",
    "Sin embargo, este accuracy tan alto podría ser debido a que nuestro árbol de decisión a sobreajustado sus resultados demasiado al conjunto de Train, y que el conjunto de Test es demasiado parecido al conjunto de entrenamiento."
   ]
  },
  {
   "cell_type": "markdown",
   "metadata": {},
   "source": [
    "## 5. Consideraciones sobre el dataset PIMA"
   ]
  },
  {
   "cell_type": "markdown",
   "metadata": {},
   "source": [
    "### 5.1. OneR"
   ]
  },
  {
   "cell_type": "markdown",
   "metadata": {},
   "source": [
    "Como hemos visto en nuestra clasificación usando OneR, cuando validamos con nuestro conjunto de Test, el accuracy obtenido no es muy bueno (Accuracy pima OneR:  0.7564935064935064), por lo que podríamos pensar que el modelo se ha ajustado demasiado al conjunto de Train (sobreajuste). Para comprobarlo, vamos a evaluar el mismo modelo obtenido con el clasificador OneR, pero pasándole esta vez el conjunto de Train para validarlo."
   ]
  },
  {
   "cell_type": "code",
   "execution_count": 60,
   "metadata": {},
   "outputs": [
    {
     "name": "stdout",
     "output_type": "stream",
     "text": [
      "-----------------------------------\n",
      "Training OneR\n",
      "-----------------------------------\n",
      "attribute\terror\n",
      "preg \t 153\n",
      "plas \t 123\n",
      "pres \t 161\n",
      "skin \t 160\n",
      "insu \t 157\n",
      "mass \t 158\n",
      "pedi \t 161\n",
      "age \t 151\n",
      "-----------------------------------\n",
      "Best Attribute:  plas\n"
     ]
    }
   ],
   "source": [
    "(tab12, accuracy12) = trainAndEvalClassifier(trainOneR, cleanDf1Train, cleanDf1Train, nbins=len(cleanDf1Train.label.unique()))"
   ]
  },
  {
   "cell_type": "code",
   "execution_count": 61,
   "metadata": {
    "scrolled": true
   },
   "outputs": [
    {
     "data": {
      "text/html": [
       "<div>\n",
       "<style>\n",
       "    .dataframe thead tr:only-child th {\n",
       "        text-align: right;\n",
       "    }\n",
       "\n",
       "    .dataframe thead th {\n",
       "        text-align: left;\n",
       "    }\n",
       "\n",
       "    .dataframe tbody tr th {\n",
       "        vertical-align: top;\n",
       "    }\n",
       "</style>\n",
       "<table border=\"1\" class=\"dataframe\">\n",
       "  <thead>\n",
       "    <tr style=\"text-align: right;\">\n",
       "      <th>prediction</th>\n",
       "      <th>tested_negative</th>\n",
       "      <th>tested_positive</th>\n",
       "    </tr>\n",
       "    <tr>\n",
       "      <th>label</th>\n",
       "      <th></th>\n",
       "      <th></th>\n",
       "    </tr>\n",
       "  </thead>\n",
       "  <tbody>\n",
       "    <tr>\n",
       "      <th>tested_negative</th>\n",
       "      <td>277</td>\n",
       "      <td>22</td>\n",
       "    </tr>\n",
       "    <tr>\n",
       "      <th>tested_positive</th>\n",
       "      <td>101</td>\n",
       "      <td>60</td>\n",
       "    </tr>\n",
       "  </tbody>\n",
       "</table>\n",
       "</div>"
      ],
      "text/plain": [
       "prediction       tested_negative  tested_positive\n",
       "label                                            \n",
       "tested_negative              277               22\n",
       "tested_positive              101               60"
      ]
     },
     "execution_count": 61,
     "metadata": {},
     "output_type": "execute_result"
    }
   ],
   "source": [
    "tab12"
   ]
  },
  {
   "cell_type": "code",
   "execution_count": 62,
   "metadata": {
    "scrolled": true
   },
   "outputs": [
    {
     "name": "stdout",
     "output_type": "stream",
     "text": [
      "Accuracy pima OneR with Train set:  0.7326086956521739\n"
     ]
    }
   ],
   "source": [
    "print(\"Accuracy pima OneR with Train set: \",accuracy12)"
   ]
  },
  {
   "cell_type": "markdown",
   "metadata": {},
   "source": [
    "Como ambos accuracys son muy parecidos (Accuracy pima OneR:  0.7564935064935064 y Accuracy pima OneR with Train set:  0.7326086956521739) podemos concluir que no se ha producido sobreajuste."
   ]
  },
  {
   "cell_type": "markdown",
   "metadata": {},
   "source": [
    "### 5.2. Árbol de decisión"
   ]
  },
  {
   "cell_type": "markdown",
   "metadata": {},
   "source": [
    "Ahora vamos a comprobar del mismo modo si se ha producido sobreajuste a la hora de aprender el modelo para nuestro árbol de decisión. Para ello, validaremos nuestro modelo aprendido con el conjunto de Train del dataset pima, usando el mismo conjunto de Train. "
   ]
  },
  {
   "cell_type": "code",
   "execution_count": 63,
   "metadata": {},
   "outputs": [],
   "source": [
    "testFeatures12 = cleanDf1Train.drop('label',1)\n",
    "prediction12 = classifier1.predict(testFeatures12)"
   ]
  },
  {
   "cell_type": "code",
   "execution_count": 64,
   "metadata": {},
   "outputs": [
    {
     "data": {
      "text/html": [
       "<div>\n",
       "<style>\n",
       "    .dataframe thead tr:only-child th {\n",
       "        text-align: right;\n",
       "    }\n",
       "\n",
       "    .dataframe thead th {\n",
       "        text-align: left;\n",
       "    }\n",
       "\n",
       "    .dataframe tbody tr th {\n",
       "        vertical-align: top;\n",
       "    }\n",
       "</style>\n",
       "<table border=\"1\" class=\"dataframe\">\n",
       "  <thead>\n",
       "    <tr style=\"text-align: right;\">\n",
       "      <th>col_0</th>\n",
       "      <th>tested_negative</th>\n",
       "      <th>tested_positive</th>\n",
       "    </tr>\n",
       "    <tr>\n",
       "      <th>label</th>\n",
       "      <th></th>\n",
       "      <th></th>\n",
       "    </tr>\n",
       "  </thead>\n",
       "  <tbody>\n",
       "    <tr>\n",
       "      <th>tested_negative</th>\n",
       "      <td>299</td>\n",
       "      <td>0</td>\n",
       "    </tr>\n",
       "    <tr>\n",
       "      <th>tested_positive</th>\n",
       "      <td>0</td>\n",
       "      <td>161</td>\n",
       "    </tr>\n",
       "  </tbody>\n",
       "</table>\n",
       "</div>"
      ],
      "text/plain": [
       "col_0            tested_negative  tested_positive\n",
       "label                                            \n",
       "tested_negative              299                0\n",
       "tested_positive                0              161"
      ]
     },
     "execution_count": 64,
     "metadata": {},
     "output_type": "execute_result"
    }
   ],
   "source": [
    "pd.crosstab(cleanDf1Train['label'], prediction12)"
   ]
  },
  {
   "cell_type": "code",
   "execution_count": 65,
   "metadata": {},
   "outputs": [
    {
     "name": "stdout",
     "output_type": "stream",
     "text": [
      "Accuracy pima DecisionTree with Train set: 1.0\n"
     ]
    }
   ],
   "source": [
    "comparison12 = cleanDf1Train[cleanDf1Train['label'] == prediction12]\n",
    "accuracy12 = len(comparison12) / len(cleanDf1Train)\n",
    "print(\"Accuracy pima DecisionTree with Train set:\", accuracy12)"
   ]
  },
  {
   "cell_type": "markdown",
   "metadata": {},
   "source": [
    "Este es un caso claro de sobreajuste, ya que al pasarle el mismo conjunto de entrenamiento para validar el modelo, vemos que la tasa de acierto es del 100%, lo que quiere decir que nuestro modelo se ha ajustado demasiado a nuestro conjunto de entrenamiento. Al pasarle a este modelo el conjunto de Test, el accuracy disminuye en gran medida (Accuracy pima DecisionTree: 0.7207792207792207 y Accuracy pima DecisionTree with Train set: 1.0)."
   ]
  },
  {
   "cell_type": "markdown",
   "metadata": {},
   "source": [
    "## 6. Consideraciones sobre el dataset Wisconsin"
   ]
  },
  {
   "cell_type": "markdown",
   "metadata": {},
   "source": [
    "### 6.1. OneR"
   ]
  },
  {
   "cell_type": "markdown",
   "metadata": {},
   "source": [
    "Para este dataset haremos la misma comparativa que hemos hecho para el dataset pima."
   ]
  },
  {
   "cell_type": "code",
   "execution_count": 66,
   "metadata": {},
   "outputs": [
    {
     "name": "stdout",
     "output_type": "stream",
     "text": [
      "-----------------------------------\n",
      "Training OneR\n",
      "-----------------------------------\n",
      "attribute\terror\n",
      "clumpThickness \t 70\n",
      "cellSize \t 45\n",
      "CellShape \t 44\n",
      "marginalAdhesion \t 71\n",
      "epithelialSize \t 76\n",
      "bareNuclei \t 42\n",
      "blandChromatin \t 57\n",
      "normalNucleoli \t 65\n",
      "mitoses \t 123\n",
      "-----------------------------------\n",
      "Best Attribute:  bareNuclei\n"
     ]
    }
   ],
   "source": [
    "(tab22, accuracy22) = trainAndEvalClassifier(trainOneR, cleanDf2Train, cleanDf2Train, nbins=len(cleanDf2Train.label.unique()))"
   ]
  },
  {
   "cell_type": "code",
   "execution_count": 67,
   "metadata": {},
   "outputs": [
    {
     "data": {
      "text/html": [
       "<div>\n",
       "<style>\n",
       "    .dataframe thead tr:only-child th {\n",
       "        text-align: right;\n",
       "    }\n",
       "\n",
       "    .dataframe thead th {\n",
       "        text-align: left;\n",
       "    }\n",
       "\n",
       "    .dataframe tbody tr th {\n",
       "        vertical-align: top;\n",
       "    }\n",
       "</style>\n",
       "<table border=\"1\" class=\"dataframe\">\n",
       "  <thead>\n",
       "    <tr style=\"text-align: right;\">\n",
       "      <th>prediction</th>\n",
       "      <th>benign</th>\n",
       "      <th>malignant</th>\n",
       "    </tr>\n",
       "    <tr>\n",
       "      <th>label</th>\n",
       "      <th></th>\n",
       "      <th></th>\n",
       "    </tr>\n",
       "  </thead>\n",
       "  <tbody>\n",
       "    <tr>\n",
       "      <th>benign</th>\n",
       "      <td>265</td>\n",
       "      <td>10</td>\n",
       "    </tr>\n",
       "    <tr>\n",
       "      <th>malignant</th>\n",
       "      <td>32</td>\n",
       "      <td>112</td>\n",
       "    </tr>\n",
       "  </tbody>\n",
       "</table>\n",
       "</div>"
      ],
      "text/plain": [
       "prediction  benign  malignant\n",
       "label                        \n",
       "benign         265         10\n",
       "malignant       32        112"
      ]
     },
     "execution_count": 67,
     "metadata": {},
     "output_type": "execute_result"
    }
   ],
   "source": [
    "tab22"
   ]
  },
  {
   "cell_type": "code",
   "execution_count": 68,
   "metadata": {},
   "outputs": [
    {
     "name": "stdout",
     "output_type": "stream",
     "text": [
      "Accuracy wisconsin OneR with Train set:  0.8997613365155132\n"
     ]
    }
   ],
   "source": [
    "print(\"Accuracy wisconsin OneR with Train set: \",accuracy22)"
   ]
  },
  {
   "cell_type": "markdown",
   "metadata": {},
   "source": [
    "En este caso no observamos sobreajuste, ya que ambos accuracys son muy parecidos tanto al validar con el Test como con el Train (Accuracy wisconsin OneR:  0.8928571428571429 y Accuracy wisconsin OneR with Train set:  0.8997613365155132)."
   ]
  },
  {
   "cell_type": "markdown",
   "metadata": {},
   "source": [
    "### 6.2. Árbol de decisión"
   ]
  },
  {
   "cell_type": "markdown",
   "metadata": {},
   "source": [
    "Ahora probaremos lo mismo con el árbol de decisión."
   ]
  },
  {
   "cell_type": "code",
   "execution_count": 69,
   "metadata": {},
   "outputs": [],
   "source": [
    "testFeatures22 = cleanDf2Train.drop('label',1)\n",
    "prediction22 = classifier2.predict(testFeatures22)"
   ]
  },
  {
   "cell_type": "code",
   "execution_count": 70,
   "metadata": {},
   "outputs": [
    {
     "data": {
      "text/html": [
       "<div>\n",
       "<style>\n",
       "    .dataframe thead tr:only-child th {\n",
       "        text-align: right;\n",
       "    }\n",
       "\n",
       "    .dataframe thead th {\n",
       "        text-align: left;\n",
       "    }\n",
       "\n",
       "    .dataframe tbody tr th {\n",
       "        vertical-align: top;\n",
       "    }\n",
       "</style>\n",
       "<table border=\"1\" class=\"dataframe\">\n",
       "  <thead>\n",
       "    <tr style=\"text-align: right;\">\n",
       "      <th>col_0</th>\n",
       "      <th>benign</th>\n",
       "      <th>malignant</th>\n",
       "    </tr>\n",
       "    <tr>\n",
       "      <th>label</th>\n",
       "      <th></th>\n",
       "      <th></th>\n",
       "    </tr>\n",
       "  </thead>\n",
       "  <tbody>\n",
       "    <tr>\n",
       "      <th>benign</th>\n",
       "      <td>275</td>\n",
       "      <td>0</td>\n",
       "    </tr>\n",
       "    <tr>\n",
       "      <th>malignant</th>\n",
       "      <td>0</td>\n",
       "      <td>144</td>\n",
       "    </tr>\n",
       "  </tbody>\n",
       "</table>\n",
       "</div>"
      ],
      "text/plain": [
       "col_0      benign  malignant\n",
       "label                       \n",
       "benign        275          0\n",
       "malignant       0        144"
      ]
     },
     "execution_count": 70,
     "metadata": {},
     "output_type": "execute_result"
    }
   ],
   "source": [
    "pd.crosstab(cleanDf2Train['label'], prediction22)"
   ]
  },
  {
   "cell_type": "code",
   "execution_count": 71,
   "metadata": {},
   "outputs": [
    {
     "name": "stdout",
     "output_type": "stream",
     "text": [
      "Accuracy wisconsin DecisionTree with Train set: 1.0\n"
     ]
    }
   ],
   "source": [
    "comparison22 = cleanDf2Train[cleanDf2Train['label'] == prediction22]\n",
    "accuracy22 = len(comparison22) / len(cleanDf2Train)\n",
    "print(\"Accuracy wisconsin DecisionTree with Train set:\", accuracy22)"
   ]
  },
  {
   "cell_type": "markdown",
   "metadata": {},
   "source": [
    "Aunque el accuracy vuelve a ser del 100% como en el caso de pima con el Train, en este caso el accuracy de wisconsin usando el conjunto de Test es muy parecido al obtenido ahora usando el conjunto de Train (Accuracy wisconsin DecisionTree: 0.9392857142857143 y Accuracy wisconsin DecisionTree with Train set: 1.0), por lo que podemos decir que no se observa sobreajuste en este dataset, ni con árbol de decisión ni con OneR."
   ]
  }
 ],
 "metadata": {
  "kernelspec": {
   "display_name": "Python 3",
   "language": "python",
   "name": "python3"
  },
  "language_info": {
   "codemirror_mode": {
    "name": "ipython",
    "version": 3
   },
   "file_extension": ".py",
   "mimetype": "text/x-python",
   "name": "python",
   "nbconvert_exporter": "python",
   "pygments_lexer": "ipython3",
   "version": "3.6.2"
  }
 },
 "nbformat": 4,
 "nbformat_minor": 2
}
