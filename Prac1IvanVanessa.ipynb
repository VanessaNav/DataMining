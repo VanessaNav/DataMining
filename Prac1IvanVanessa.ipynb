{
 "cells": [
  {
   "cell_type": "markdown",
   "metadata": {},
   "source": [
    "**Vanessa Navarro Coronado e Iván Sánchez Castellanos**"
   ]
  },
  {
   "cell_type": "markdown",
   "metadata": {},
   "source": [
    "# Práctica 1 NO TERMINADA"
   ]
  },
  {
   "cell_type": "markdown",
   "metadata": {},
   "source": [
    "Primero importamos las librerías que vamos a usar"
   ]
  },
  {
   "cell_type": "code",
   "execution_count": 1,
   "metadata": {},
   "outputs": [],
   "source": [
    "# Always load all scipy stack packages\n",
    "import numpy as np\n",
    "import pandas as pd\n",
    "from scipy import stats, integrate\n",
    "import matplotlib as mpl\n",
    "import matplotlib.pyplot as plt\n",
    "\n",
    "import seaborn as sns\n",
    "sns.set(color_codes=True)\n",
    "\n",
    "# Misc\n",
    "import base64"
   ]
  },
  {
   "cell_type": "code",
   "execution_count": 2,
   "metadata": {},
   "outputs": [],
   "source": [
    "# This code configures matplotlib for proper rendering\n",
    "%matplotlib inline\n",
    "mpl.rcParams[\"figure.figsize\"] = \"8, 4\"\n",
    "import warnings\n",
    "warnings.simplefilter(\"ignore\")"
   ]
  },
  {
   "cell_type": "markdown",
   "metadata": {},
   "source": [
    "Esto es para realizar nuestros procesos de holdout con una semilla, para poder reproducir nuestros resultados"
   ]
  },
  {
   "cell_type": "code",
   "execution_count": 3,
   "metadata": {},
   "outputs": [],
   "source": [
    "# En vuestros experimentos usad siempre una semilla, si no nunca los podreis recuperar\n",
    "seed=6342\n",
    "np.random.seed(6342) #DECLARARLA AL PRINCIPIO DEL CUADERNO Y BORRAR EL KERNEL"
   ]
  },
  {
   "cell_type": "markdown",
   "metadata": {},
   "source": [
    "## 1. Análisis exploratorio mediante gráficas y estadísticos. Interpretación de las distribuciones de las variables más relevantes y su relación con la clase. Identificación de anomalías y tratamiento de datos perdidos."
   ]
  },
  {
   "cell_type": "markdown",
   "metadata": {},
   "source": [
    "### Análisis exploratorio"
   ]
  },
  {
   "cell_type": "markdown",
   "metadata": {},
   "source": [
    "Cargamos las bases de datos"
   ]
  },
  {
   "cell_type": "code",
   "execution_count": 4,
   "metadata": {},
   "outputs": [],
   "source": [
    "# Please update your data path accordingly\n",
    "df1 = pd.read_csv(\"../data/pima.csv\", dtype={ \"label\": 'category'})\n",
    "df2 = pd.read_csv(\"../data/wisconsin.csv\", dtype={ \"label\": 'category'})"
   ]
  },
  {
   "cell_type": "markdown",
   "metadata": {},
   "source": [
    "Comprobamos que se han cargado los datasets"
   ]
  },
  {
   "cell_type": "code",
   "execution_count": 5,
   "metadata": {},
   "outputs": [
    {
     "data": {
      "text/html": [
       "<div>\n",
       "<style>\n",
       "    .dataframe thead tr:only-child th {\n",
       "        text-align: right;\n",
       "    }\n",
       "\n",
       "    .dataframe thead th {\n",
       "        text-align: left;\n",
       "    }\n",
       "\n",
       "    .dataframe tbody tr th {\n",
       "        vertical-align: top;\n",
       "    }\n",
       "</style>\n",
       "<table border=\"1\" class=\"dataframe\">\n",
       "  <thead>\n",
       "    <tr style=\"text-align: right;\">\n",
       "      <th></th>\n",
       "      <th>preg</th>\n",
       "      <th>plas</th>\n",
       "      <th>pres</th>\n",
       "      <th>skin</th>\n",
       "      <th>insu</th>\n",
       "      <th>mass</th>\n",
       "      <th>pedi</th>\n",
       "      <th>age</th>\n",
       "      <th>label</th>\n",
       "    </tr>\n",
       "  </thead>\n",
       "  <tbody>\n",
       "    <tr>\n",
       "      <th>408</th>\n",
       "      <td>8</td>\n",
       "      <td>100</td>\n",
       "      <td>74</td>\n",
       "      <td>40</td>\n",
       "      <td>215</td>\n",
       "      <td>39.4</td>\n",
       "      <td>0.661</td>\n",
       "      <td>43</td>\n",
       "      <td>tested_positive</td>\n",
       "    </tr>\n",
       "    <tr>\n",
       "      <th>722</th>\n",
       "      <td>1</td>\n",
       "      <td>88</td>\n",
       "      <td>78</td>\n",
       "      <td>29</td>\n",
       "      <td>76</td>\n",
       "      <td>32.0</td>\n",
       "      <td>0.365</td>\n",
       "      <td>29</td>\n",
       "      <td>tested_negative</td>\n",
       "    </tr>\n",
       "    <tr>\n",
       "      <th>668</th>\n",
       "      <td>4</td>\n",
       "      <td>116</td>\n",
       "      <td>72</td>\n",
       "      <td>12</td>\n",
       "      <td>87</td>\n",
       "      <td>22.1</td>\n",
       "      <td>0.463</td>\n",
       "      <td>37</td>\n",
       "      <td>tested_negative</td>\n",
       "    </tr>\n",
       "    <tr>\n",
       "      <th>121</th>\n",
       "      <td>2</td>\n",
       "      <td>108</td>\n",
       "      <td>62</td>\n",
       "      <td>32</td>\n",
       "      <td>56</td>\n",
       "      <td>25.2</td>\n",
       "      <td>0.128</td>\n",
       "      <td>21</td>\n",
       "      <td>tested_negative</td>\n",
       "    </tr>\n",
       "    <tr>\n",
       "      <th>239</th>\n",
       "      <td>1</td>\n",
       "      <td>199</td>\n",
       "      <td>76</td>\n",
       "      <td>43</td>\n",
       "      <td>0</td>\n",
       "      <td>42.9</td>\n",
       "      <td>1.394</td>\n",
       "      <td>22</td>\n",
       "      <td>tested_positive</td>\n",
       "    </tr>\n",
       "    <tr>\n",
       "      <th>30</th>\n",
       "      <td>7</td>\n",
       "      <td>133</td>\n",
       "      <td>88</td>\n",
       "      <td>15</td>\n",
       "      <td>155</td>\n",
       "      <td>32.4</td>\n",
       "      <td>0.262</td>\n",
       "      <td>37</td>\n",
       "      <td>tested_negative</td>\n",
       "    </tr>\n",
       "    <tr>\n",
       "      <th>109</th>\n",
       "      <td>1</td>\n",
       "      <td>119</td>\n",
       "      <td>54</td>\n",
       "      <td>13</td>\n",
       "      <td>50</td>\n",
       "      <td>22.3</td>\n",
       "      <td>0.205</td>\n",
       "      <td>24</td>\n",
       "      <td>tested_negative</td>\n",
       "    </tr>\n",
       "    <tr>\n",
       "      <th>675</th>\n",
       "      <td>1</td>\n",
       "      <td>151</td>\n",
       "      <td>60</td>\n",
       "      <td>0</td>\n",
       "      <td>0</td>\n",
       "      <td>26.1</td>\n",
       "      <td>0.179</td>\n",
       "      <td>22</td>\n",
       "      <td>tested_negative</td>\n",
       "    </tr>\n",
       "  </tbody>\n",
       "</table>\n",
       "</div>"
      ],
      "text/plain": [
       "     preg  plas  pres  skin  insu  mass   pedi  age            label\n",
       "408     8   100    74    40   215  39.4  0.661   43  tested_positive\n",
       "722     1    88    78    29    76  32.0  0.365   29  tested_negative\n",
       "668     4   116    72    12    87  22.1  0.463   37  tested_negative\n",
       "121     2   108    62    32    56  25.2  0.128   21  tested_negative\n",
       "239     1   199    76    43     0  42.9  1.394   22  tested_positive\n",
       "30      7   133    88    15   155  32.4  0.262   37  tested_negative\n",
       "109     1   119    54    13    50  22.3  0.205   24  tested_negative\n",
       "675     1   151    60     0     0  26.1  0.179   22  tested_negative"
      ]
     },
     "execution_count": 5,
     "metadata": {},
     "output_type": "execute_result"
    }
   ],
   "source": [
    "# Retrieve a random sample from the dataframe\n",
    "df1.sample(8)"
   ]
  },
  {
   "cell_type": "code",
   "execution_count": 6,
   "metadata": {},
   "outputs": [
    {
     "data": {
      "text/html": [
       "<div>\n",
       "<style>\n",
       "    .dataframe thead tr:only-child th {\n",
       "        text-align: right;\n",
       "    }\n",
       "\n",
       "    .dataframe thead th {\n",
       "        text-align: left;\n",
       "    }\n",
       "\n",
       "    .dataframe tbody tr th {\n",
       "        vertical-align: top;\n",
       "    }\n",
       "</style>\n",
       "<table border=\"1\" class=\"dataframe\">\n",
       "  <thead>\n",
       "    <tr style=\"text-align: right;\">\n",
       "      <th></th>\n",
       "      <th>patientId</th>\n",
       "      <th>clumpThickness</th>\n",
       "      <th>cellSize</th>\n",
       "      <th>CellShape</th>\n",
       "      <th>marginalAdhesion</th>\n",
       "      <th>epithelialSize</th>\n",
       "      <th>bareNuclei</th>\n",
       "      <th>blandChromatin</th>\n",
       "      <th>normalNucleoli</th>\n",
       "      <th>mitoses</th>\n",
       "      <th>label</th>\n",
       "    </tr>\n",
       "  </thead>\n",
       "  <tbody>\n",
       "    <tr>\n",
       "      <th>155</th>\n",
       "      <td>156</td>\n",
       "      <td>3</td>\n",
       "      <td>1</td>\n",
       "      <td>1</td>\n",
       "      <td>1</td>\n",
       "      <td>2</td>\n",
       "      <td>1.0</td>\n",
       "      <td>3</td>\n",
       "      <td>1</td>\n",
       "      <td>1</td>\n",
       "      <td>benign</td>\n",
       "    </tr>\n",
       "    <tr>\n",
       "      <th>109</th>\n",
       "      <td>110</td>\n",
       "      <td>4</td>\n",
       "      <td>5</td>\n",
       "      <td>5</td>\n",
       "      <td>10</td>\n",
       "      <td>4</td>\n",
       "      <td>10.0</td>\n",
       "      <td>7</td>\n",
       "      <td>5</td>\n",
       "      <td>8</td>\n",
       "      <td>malignant</td>\n",
       "    </tr>\n",
       "    <tr>\n",
       "      <th>183</th>\n",
       "      <td>184</td>\n",
       "      <td>9</td>\n",
       "      <td>7</td>\n",
       "      <td>7</td>\n",
       "      <td>5</td>\n",
       "      <td>5</td>\n",
       "      <td>10.0</td>\n",
       "      <td>7</td>\n",
       "      <td>8</td>\n",
       "      <td>3</td>\n",
       "      <td>malignant</td>\n",
       "    </tr>\n",
       "    <tr>\n",
       "      <th>258</th>\n",
       "      <td>259</td>\n",
       "      <td>1</td>\n",
       "      <td>4</td>\n",
       "      <td>3</td>\n",
       "      <td>10</td>\n",
       "      <td>4</td>\n",
       "      <td>10.0</td>\n",
       "      <td>5</td>\n",
       "      <td>6</td>\n",
       "      <td>1</td>\n",
       "      <td>malignant</td>\n",
       "    </tr>\n",
       "    <tr>\n",
       "      <th>473</th>\n",
       "      <td>474</td>\n",
       "      <td>3</td>\n",
       "      <td>1</td>\n",
       "      <td>1</td>\n",
       "      <td>1</td>\n",
       "      <td>2</td>\n",
       "      <td>1.0</td>\n",
       "      <td>2</td>\n",
       "      <td>1</td>\n",
       "      <td>1</td>\n",
       "      <td>benign</td>\n",
       "    </tr>\n",
       "    <tr>\n",
       "      <th>26</th>\n",
       "      <td>27</td>\n",
       "      <td>5</td>\n",
       "      <td>1</td>\n",
       "      <td>1</td>\n",
       "      <td>1</td>\n",
       "      <td>2</td>\n",
       "      <td>1.0</td>\n",
       "      <td>2</td>\n",
       "      <td>1</td>\n",
       "      <td>1</td>\n",
       "      <td>benign</td>\n",
       "    </tr>\n",
       "    <tr>\n",
       "      <th>515</th>\n",
       "      <td>516</td>\n",
       "      <td>4</td>\n",
       "      <td>1</td>\n",
       "      <td>1</td>\n",
       "      <td>1</td>\n",
       "      <td>2</td>\n",
       "      <td>3.0</td>\n",
       "      <td>2</td>\n",
       "      <td>1</td>\n",
       "      <td>1</td>\n",
       "      <td>benign</td>\n",
       "    </tr>\n",
       "    <tr>\n",
       "      <th>200</th>\n",
       "      <td>201</td>\n",
       "      <td>6</td>\n",
       "      <td>10</td>\n",
       "      <td>7</td>\n",
       "      <td>7</td>\n",
       "      <td>6</td>\n",
       "      <td>NaN</td>\n",
       "      <td>8</td>\n",
       "      <td>10</td>\n",
       "      <td>2</td>\n",
       "      <td>malignant</td>\n",
       "    </tr>\n",
       "  </tbody>\n",
       "</table>\n",
       "</div>"
      ],
      "text/plain": [
       "     patientId  clumpThickness  cellSize  CellShape  marginalAdhesion  \\\n",
       "155        156               3         1          1                 1   \n",
       "109        110               4         5          5                10   \n",
       "183        184               9         7          7                 5   \n",
       "258        259               1         4          3                10   \n",
       "473        474               3         1          1                 1   \n",
       "26          27               5         1          1                 1   \n",
       "515        516               4         1          1                 1   \n",
       "200        201               6        10          7                 7   \n",
       "\n",
       "     epithelialSize  bareNuclei  blandChromatin  normalNucleoli  mitoses  \\\n",
       "155               2         1.0               3               1        1   \n",
       "109               4        10.0               7               5        8   \n",
       "183               5        10.0               7               8        3   \n",
       "258               4        10.0               5               6        1   \n",
       "473               2         1.0               2               1        1   \n",
       "26                2         1.0               2               1        1   \n",
       "515               2         3.0               2               1        1   \n",
       "200               6         NaN               8              10        2   \n",
       "\n",
       "         label  \n",
       "155     benign  \n",
       "109  malignant  \n",
       "183  malignant  \n",
       "258  malignant  \n",
       "473     benign  \n",
       "26      benign  \n",
       "515     benign  \n",
       "200  malignant  "
      ]
     },
     "execution_count": 6,
     "metadata": {},
     "output_type": "execute_result"
    }
   ],
   "source": [
    "# Retrieve a random sample from the dataframe\n",
    "df2.sample(8)"
   ]
  },
  {
   "cell_type": "markdown",
   "metadata": {},
   "source": [
    "Analizamos los datasets"
   ]
  },
  {
   "cell_type": "code",
   "execution_count": 7,
   "metadata": {},
   "outputs": [
    {
     "name": "stdout",
     "output_type": "stream",
     "text": [
      "768\n",
      "(768, 9)\n",
      "6912\n"
     ]
    }
   ],
   "source": [
    "# Number of cases is just the length of the dataframe\n",
    "print( len(df1) )\n",
    "print( df1.shape )\n",
    "print( df1.size ) # multiplcación de filas x columnas"
   ]
  },
  {
   "cell_type": "code",
   "execution_count": 8,
   "metadata": {},
   "outputs": [
    {
     "name": "stdout",
     "output_type": "stream",
     "text": [
      "699\n",
      "(699, 11)\n",
      "7689\n"
     ]
    }
   ],
   "source": [
    "# Number of cases is just the length of the dataframe\n",
    "print( len(df2) )\n",
    "print( df2.shape )\n",
    "print( df2.size ) # multiplcación de filas x columnas"
   ]
  },
  {
   "cell_type": "markdown",
   "metadata": {},
   "source": [
    "Obtenemos los valores de las variables clase en ambos datasets."
   ]
  },
  {
   "cell_type": "code",
   "execution_count": 9,
   "metadata": {},
   "outputs": [
    {
     "data": {
      "text/plain": [
       "Index(['tested_negative', 'tested_positive'], dtype='object')"
      ]
     },
     "execution_count": 9,
     "metadata": {},
     "output_type": "execute_result"
    }
   ],
   "source": [
    "# We can inspect categorical variables:\n",
    "df1.label.cat.categories"
   ]
  },
  {
   "cell_type": "code",
   "execution_count": 10,
   "metadata": {},
   "outputs": [
    {
     "data": {
      "text/plain": [
       "Index(['benign', 'malignant'], dtype='object')"
      ]
     },
     "execution_count": 10,
     "metadata": {},
     "output_type": "execute_result"
    }
   ],
   "source": [
    "# We can inspect categorical variables:\n",
    "df2.label.cat.categories"
   ]
  },
  {
   "cell_type": "markdown",
   "metadata": {},
   "source": [
    "### Interpretación de las distribuciones de las variables"
   ]
  },
  {
   "cell_type": "markdown",
   "metadata": {},
   "source": [
    "Visualizamos los datasets con los histogramas."
   ]
  },
  {
   "cell_type": "code",
   "execution_count": 11,
   "metadata": {},
   "outputs": [],
   "source": [
    "def gMultipleHistogram(targetdf):\n",
    "    # First we remove the class variable\n",
    "    target_noclass = targetdf.drop('label', 1) #USAR SIEMPRE 'LABEL', PORQUE 'CLASS' ES PALABRA RESERVADA\n",
    "    # Now we generate the multiple histogram\n",
    "    g = sns.FacetGrid(pd.melt(target_noclass), col=\"variable\", sharey=False, sharex=False, col_wrap=2)\n",
    "    g.map(sns.distplot, \"value\");"
   ]
  },
  {
   "cell_type": "code",
   "execution_count": 12,
   "metadata": {},
   "outputs": [
    {
     "data": {
      "image/png": "[encoded data removed]",
      "text/plain": [
       "<matplotlib.figure.Figure at 0x7f29b3479128>"
      ]
     },
     "metadata": {},
     "output_type": "display_data"
    }
   ],
   "source": [
    "gMultipleHistogram(df1)"
   ]
  },
  {
   "cell_type": "markdown",
   "metadata": {},
   "source": [
    "En este dataset, observamos que las variables plas, pres y mass tienen una distribución gaussiana, aunque se pueden observar algunos outliers. La variable skin presenta una distribución más compleja, y el resto de variables tienen una distribución con asimetría negativa (right skewed). \n",
    "\n",
    "Por ejemplo, en el caso de la variable preg, se observa una gran cantidad de población que no ha estado nunca embarazada, por lo que podríamos pensar que son niños/as, hombres, o simplemente mujeres que no han estado embarazadas.\n",
    "\n",
    "Los valores a cero en algunas de las variables como plas, pres, skin, insu y mass nos pueden hacer pensar que sean valores perdidos, o anómalos."
   ]
  },
  {
   "cell_type": "markdown",
   "metadata": {},
   "source": [
    "En el dataset df2 (wisconsin) tenemos una variable id que no nos aporta nada sobre las demás variables, o sobre la variable clase. Por tanto, prescindimos de ella."
   ]
  },
  {
   "cell_type": "code",
   "execution_count": 13,
   "metadata": {},
   "outputs": [],
   "source": [
    "df2_sinId=df2.drop('patientId',1)"
   ]
  },
  {
   "cell_type": "code",
   "execution_count": 14,
   "metadata": {},
   "outputs": [
    {
     "data": {
      "image/png": "[encoded data removed]",
      "text/plain": [
       "<matplotlib.figure.Figure at 0x7f29b08670b8>"
      ]
     },
     "metadata": {},
     "output_type": "display_data"
    }
   ],
   "source": [
    "gMultipleHistogram(df2_sinId)"
   ]
  },
  {
   "cell_type": "markdown",
   "metadata": {},
   "source": [
    "Observando estas distribuciones, vemos que ninguna variable presenta una distribución normal. Esto puede ser debido a la presencia de valores perdidos, o valores anómalos, como por ejemplo en las variables CellShape o normalNucleoli."
   ]
  },
  {
   "cell_type": "markdown",
   "metadata": {},
   "source": [
    "### Estadísticos"
   ]
  },
  {
   "cell_type": "code",
   "execution_count": 15,
   "metadata": {},
   "outputs": [
    {
     "data": {
      "text/html": [
       "<div>\n",
       "<style>\n",
       "    .dataframe thead tr:only-child th {\n",
       "        text-align: right;\n",
       "    }\n",
       "\n",
       "    .dataframe thead th {\n",
       "        text-align: left;\n",
       "    }\n",
       "\n",
       "    .dataframe tbody tr th {\n",
       "        vertical-align: top;\n",
       "    }\n",
       "</style>\n",
       "<table border=\"1\" class=\"dataframe\">\n",
       "  <thead>\n",
       "    <tr style=\"text-align: right;\">\n",
       "      <th></th>\n",
       "      <th>preg</th>\n",
       "      <th>plas</th>\n",
       "      <th>pres</th>\n",
       "      <th>skin</th>\n",
       "      <th>insu</th>\n",
       "      <th>mass</th>\n",
       "      <th>pedi</th>\n",
       "      <th>age</th>\n",
       "    </tr>\n",
       "  </thead>\n",
       "  <tbody>\n",
       "    <tr>\n",
       "      <th>count</th>\n",
       "      <td>768.000000</td>\n",
       "      <td>768.000000</td>\n",
       "      <td>768.000000</td>\n",
       "      <td>768.000000</td>\n",
       "      <td>768.000000</td>\n",
       "      <td>768.000000</td>\n",
       "      <td>768.000000</td>\n",
       "      <td>768.000000</td>\n",
       "    </tr>\n",
       "    <tr>\n",
       "      <th>mean</th>\n",
       "      <td>3.845052</td>\n",
       "      <td>120.894531</td>\n",
       "      <td>69.105469</td>\n",
       "      <td>20.536458</td>\n",
       "      <td>79.799479</td>\n",
       "      <td>31.992578</td>\n",
       "      <td>0.471876</td>\n",
       "      <td>33.240885</td>\n",
       "    </tr>\n",
       "    <tr>\n",
       "      <th>std</th>\n",
       "      <td>3.369578</td>\n",
       "      <td>31.972618</td>\n",
       "      <td>19.355807</td>\n",
       "      <td>15.952218</td>\n",
       "      <td>115.244002</td>\n",
       "      <td>7.884160</td>\n",
       "      <td>0.331329</td>\n",
       "      <td>11.760232</td>\n",
       "    </tr>\n",
       "    <tr>\n",
       "      <th>min</th>\n",
       "      <td>0.000000</td>\n",
       "      <td>0.000000</td>\n",
       "      <td>0.000000</td>\n",
       "      <td>0.000000</td>\n",
       "      <td>0.000000</td>\n",
       "      <td>0.000000</td>\n",
       "      <td>0.078000</td>\n",
       "      <td>21.000000</td>\n",
       "    </tr>\n",
       "    <tr>\n",
       "      <th>25%</th>\n",
       "      <td>1.000000</td>\n",
       "      <td>99.000000</td>\n",
       "      <td>62.000000</td>\n",
       "      <td>0.000000</td>\n",
       "      <td>0.000000</td>\n",
       "      <td>27.300000</td>\n",
       "      <td>0.243750</td>\n",
       "      <td>24.000000</td>\n",
       "    </tr>\n",
       "    <tr>\n",
       "      <th>50%</th>\n",
       "      <td>3.000000</td>\n",
       "      <td>117.000000</td>\n",
       "      <td>72.000000</td>\n",
       "      <td>23.000000</td>\n",
       "      <td>30.500000</td>\n",
       "      <td>32.000000</td>\n",
       "      <td>0.372500</td>\n",
       "      <td>29.000000</td>\n",
       "    </tr>\n",
       "    <tr>\n",
       "      <th>75%</th>\n",
       "      <td>6.000000</td>\n",
       "      <td>140.250000</td>\n",
       "      <td>80.000000</td>\n",
       "      <td>32.000000</td>\n",
       "      <td>127.250000</td>\n",
       "      <td>36.600000</td>\n",
       "      <td>0.626250</td>\n",
       "      <td>41.000000</td>\n",
       "    </tr>\n",
       "    <tr>\n",
       "      <th>max</th>\n",
       "      <td>17.000000</td>\n",
       "      <td>199.000000</td>\n",
       "      <td>122.000000</td>\n",
       "      <td>99.000000</td>\n",
       "      <td>846.000000</td>\n",
       "      <td>67.100000</td>\n",
       "      <td>2.420000</td>\n",
       "      <td>81.000000</td>\n",
       "    </tr>\n",
       "  </tbody>\n",
       "</table>\n",
       "</div>"
      ],
      "text/plain": [
       "             preg        plas        pres        skin        insu        mass  \\\n",
       "count  768.000000  768.000000  768.000000  768.000000  768.000000  768.000000   \n",
       "mean     3.845052  120.894531   69.105469   20.536458   79.799479   31.992578   \n",
       "std      3.369578   31.972618   19.355807   15.952218  115.244002    7.884160   \n",
       "min      0.000000    0.000000    0.000000    0.000000    0.000000    0.000000   \n",
       "25%      1.000000   99.000000   62.000000    0.000000    0.000000   27.300000   \n",
       "50%      3.000000  117.000000   72.000000   23.000000   30.500000   32.000000   \n",
       "75%      6.000000  140.250000   80.000000   32.000000  127.250000   36.600000   \n",
       "max     17.000000  199.000000  122.000000   99.000000  846.000000   67.100000   \n",
       "\n",
       "             pedi         age  \n",
       "count  768.000000  768.000000  \n",
       "mean     0.471876   33.240885  \n",
       "std      0.331329   11.760232  \n",
       "min      0.078000   21.000000  \n",
       "25%      0.243750   24.000000  \n",
       "50%      0.372500   29.000000  \n",
       "75%      0.626250   41.000000  \n",
       "max      2.420000   81.000000  "
      ]
     },
     "execution_count": 15,
     "metadata": {},
     "output_type": "execute_result"
    }
   ],
   "source": [
    "df1.describe()"
   ]
  },
  {
   "cell_type": "code",
   "execution_count": 16,
   "metadata": {},
   "outputs": [
    {
     "data": {
      "text/html": [
       "<div>\n",
       "<style>\n",
       "    .dataframe thead tr:only-child th {\n",
       "        text-align: right;\n",
       "    }\n",
       "\n",
       "    .dataframe thead th {\n",
       "        text-align: left;\n",
       "    }\n",
       "\n",
       "    .dataframe tbody tr th {\n",
       "        vertical-align: top;\n",
       "    }\n",
       "</style>\n",
       "<table border=\"1\" class=\"dataframe\">\n",
       "  <thead>\n",
       "    <tr style=\"text-align: right;\">\n",
       "      <th></th>\n",
       "      <th>patientId</th>\n",
       "      <th>clumpThickness</th>\n",
       "      <th>cellSize</th>\n",
       "      <th>CellShape</th>\n",
       "      <th>marginalAdhesion</th>\n",
       "      <th>epithelialSize</th>\n",
       "      <th>bareNuclei</th>\n",
       "      <th>blandChromatin</th>\n",
       "      <th>normalNucleoli</th>\n",
       "      <th>mitoses</th>\n",
       "    </tr>\n",
       "  </thead>\n",
       "  <tbody>\n",
       "    <tr>\n",
       "      <th>count</th>\n",
       "      <td>699.000000</td>\n",
       "      <td>699.000000</td>\n",
       "      <td>699.000000</td>\n",
       "      <td>699.000000</td>\n",
       "      <td>699.000000</td>\n",
       "      <td>699.000000</td>\n",
       "      <td>667.000000</td>\n",
       "      <td>699.000000</td>\n",
       "      <td>699.000000</td>\n",
       "      <td>699.000000</td>\n",
       "    </tr>\n",
       "    <tr>\n",
       "      <th>mean</th>\n",
       "      <td>350.000000</td>\n",
       "      <td>4.417740</td>\n",
       "      <td>3.134478</td>\n",
       "      <td>3.207439</td>\n",
       "      <td>2.806867</td>\n",
       "      <td>3.216023</td>\n",
       "      <td>3.536732</td>\n",
       "      <td>3.437768</td>\n",
       "      <td>2.866953</td>\n",
       "      <td>1.589413</td>\n",
       "    </tr>\n",
       "    <tr>\n",
       "      <th>std</th>\n",
       "      <td>201.928205</td>\n",
       "      <td>2.815741</td>\n",
       "      <td>3.051459</td>\n",
       "      <td>2.971913</td>\n",
       "      <td>2.855379</td>\n",
       "      <td>2.214300</td>\n",
       "      <td>3.683795</td>\n",
       "      <td>2.438364</td>\n",
       "      <td>3.053634</td>\n",
       "      <td>1.715078</td>\n",
       "    </tr>\n",
       "    <tr>\n",
       "      <th>min</th>\n",
       "      <td>1.000000</td>\n",
       "      <td>1.000000</td>\n",
       "      <td>1.000000</td>\n",
       "      <td>1.000000</td>\n",
       "      <td>1.000000</td>\n",
       "      <td>1.000000</td>\n",
       "      <td>1.000000</td>\n",
       "      <td>1.000000</td>\n",
       "      <td>1.000000</td>\n",
       "      <td>1.000000</td>\n",
       "    </tr>\n",
       "    <tr>\n",
       "      <th>25%</th>\n",
       "      <td>175.500000</td>\n",
       "      <td>2.000000</td>\n",
       "      <td>1.000000</td>\n",
       "      <td>1.000000</td>\n",
       "      <td>1.000000</td>\n",
       "      <td>2.000000</td>\n",
       "      <td>1.000000</td>\n",
       "      <td>2.000000</td>\n",
       "      <td>1.000000</td>\n",
       "      <td>1.000000</td>\n",
       "    </tr>\n",
       "    <tr>\n",
       "      <th>50%</th>\n",
       "      <td>350.000000</td>\n",
       "      <td>4.000000</td>\n",
       "      <td>1.000000</td>\n",
       "      <td>1.000000</td>\n",
       "      <td>1.000000</td>\n",
       "      <td>2.000000</td>\n",
       "      <td>1.000000</td>\n",
       "      <td>3.000000</td>\n",
       "      <td>1.000000</td>\n",
       "      <td>1.000000</td>\n",
       "    </tr>\n",
       "    <tr>\n",
       "      <th>75%</th>\n",
       "      <td>524.500000</td>\n",
       "      <td>6.000000</td>\n",
       "      <td>5.000000</td>\n",
       "      <td>5.000000</td>\n",
       "      <td>4.000000</td>\n",
       "      <td>4.000000</td>\n",
       "      <td>7.000000</td>\n",
       "      <td>5.000000</td>\n",
       "      <td>4.000000</td>\n",
       "      <td>1.000000</td>\n",
       "    </tr>\n",
       "    <tr>\n",
       "      <th>max</th>\n",
       "      <td>699.000000</td>\n",
       "      <td>10.000000</td>\n",
       "      <td>10.000000</td>\n",
       "      <td>10.000000</td>\n",
       "      <td>10.000000</td>\n",
       "      <td>10.000000</td>\n",
       "      <td>10.000000</td>\n",
       "      <td>10.000000</td>\n",
       "      <td>10.000000</td>\n",
       "      <td>10.000000</td>\n",
       "    </tr>\n",
       "  </tbody>\n",
       "</table>\n",
       "</div>"
      ],
      "text/plain": [
       "        patientId  clumpThickness    cellSize   CellShape  marginalAdhesion  \\\n",
       "count  699.000000      699.000000  699.000000  699.000000        699.000000   \n",
       "mean   350.000000        4.417740    3.134478    3.207439          2.806867   \n",
       "std    201.928205        2.815741    3.051459    2.971913          2.855379   \n",
       "min      1.000000        1.000000    1.000000    1.000000          1.000000   \n",
       "25%    175.500000        2.000000    1.000000    1.000000          1.000000   \n",
       "50%    350.000000        4.000000    1.000000    1.000000          1.000000   \n",
       "75%    524.500000        6.000000    5.000000    5.000000          4.000000   \n",
       "max    699.000000       10.000000   10.000000   10.000000         10.000000   \n",
       "\n",
       "       epithelialSize  bareNuclei  blandChromatin  normalNucleoli     mitoses  \n",
       "count      699.000000  667.000000      699.000000      699.000000  699.000000  \n",
       "mean         3.216023    3.536732        3.437768        2.866953    1.589413  \n",
       "std          2.214300    3.683795        2.438364        3.053634    1.715078  \n",
       "min          1.000000    1.000000        1.000000        1.000000    1.000000  \n",
       "25%          2.000000    1.000000        2.000000        1.000000    1.000000  \n",
       "50%          2.000000    1.000000        3.000000        1.000000    1.000000  \n",
       "75%          4.000000    7.000000        5.000000        4.000000    1.000000  \n",
       "max         10.000000   10.000000       10.000000       10.000000   10.000000  "
      ]
     },
     "execution_count": 16,
     "metadata": {},
     "output_type": "execute_result"
    }
   ],
   "source": [
    "df2.describe()"
   ]
  },
  {
   "cell_type": "markdown",
   "metadata": {},
   "source": [
    "Estos estadísticos nos vendrán bien para realizar el tratamiento de valores perdidos, ya que existen métodos como por ejemplo el de rellenar los valores perdidos con la media, o la moda."
   ]
  },
  {
   "cell_type": "markdown",
   "metadata": {},
   "source": [
    "### Identificación de anomalías y tratamiento de datos perdidos"
   ]
  },
  {
   "cell_type": "markdown",
   "metadata": {},
   "source": [
    "En el dataset pima, los valores perdidos no se representan con NA o NaN, sino que podrían estar representados con 0. Sin embargo, puede que alguna de las variables tenga este valor dentro de su dominio, por lo que en este caso no sería un valor perdido. \n",
    "\n",
    "Para saber si un cero en nuestro dataset es un valor perdido o no, deberíamos consultar con un experto en medicina que conozca las unidades de medida de estas variables, y sus posibles rangos de valores.\n",
    "\n",
    "Para tratar valores perdidos, podemos hacerlo de varias formas:\n",
    "* Eliminar el caso que contenga valores perdidos: este método sería muy arriesgado ya que, si hay muchos valores perdidos, perderíamos gran parte del dataset.\n",
    "* Eliminar la variable que contenga valores perdidos: este método tampoco lo vamos a usar, porque perderíamos información de muchas variables.\n",
    "* Rellenar valores perdidos con algún valor concreto: en nuestro caso, esta será la técnica que vamos a usar, y rellenaremos los valores con la media.\n",
    "\n",
    "Como no contamos con la ayuda de expertos, vamos a hacer un tratamiento de valores perdidos basado en rellenar con la media los casos en los que aparezcan ceros. Pero no en todas las variables los ceros son valores perdidos. Por ejemplo la variable preg admitiría ceros, ya que puede haber casos en los que el individuo no haya estado embarazado nunca (hombres, niños, mujeres que no han estado nunca embarazadas)."
   ]
  },
  {
   "cell_type": "markdown",
   "metadata": {},
   "source": [
    "Antes de rellenar los valores cero con nuestra media, debemos obviar las columnas preg y label, por lo que hemos explicado anteriormente. Con un bucle recorremos estos atributos, reemplazando los valores cero por NaN."
   ]
  },
  {
   "cell_type": "code",
   "execution_count": 63,
   "metadata": {},
   "outputs": [
    {
     "data": {
      "text/plain": [
       "Index(['plas', 'pres', 'skin', 'insu', 'mass', 'pedi', 'age'], dtype='object')"
      ]
     },
     "execution_count": 63,
     "metadata": {},
     "output_type": "execute_result"
    }
   ],
   "source": [
    "aux_ceros = df1.columns.drop([\"preg\",\"label\"])\n",
    "aux_ceros"
   ]
  },
  {
   "cell_type": "code",
   "execution_count": 79,
   "metadata": {},
   "outputs": [],
   "source": [
    "for i in aux_ceros:\n",
    "    df1.replace({i: {0: np.nan}}, inplace = True)"
   ]
  },
  {
   "cell_type": "code",
   "execution_count": 82,
   "metadata": {},
   "outputs": [],
   "source": [
    "# Calculamos el vector de medias\n",
    "meansValues1 = df1.mean()\n",
    "prueba1=df1.copy()\n",
    "\n",
    "# Ahora lo usamos para rellenar:\n",
    "cleanDf1 = prueba1.fillna( meansValues1 )"
   ]
  },
  {
   "cell_type": "code",
   "execution_count": 85,
   "metadata": {},
   "outputs": [
    {
     "data": {
      "image/png": "[encoded data removed]",
      "text/plain": [
       "<matplotlib.figure.Figure at 0x7f29b0e8ccf8>"
      ]
     },
     "metadata": {},
     "output_type": "display_data"
    }
   ],
   "source": [
    "gMultipleHistogram(cleanDf1)"
   ]
  },
  {
   "cell_type": "markdown",
   "metadata": {},
   "source": [
    "Si observamos de nuevo los histogramas, vemos que los rangos de los atributos ahora presentan una distribución gaussiana."
   ]
  },
  {
   "cell_type": "markdown",
   "metadata": {},
   "source": [
    "En el dataset wisconsin es más sencillo identificar los valores perdidos, ya que estos están representados como NA. En este caso, podemos tratarlos de varias formas:\n",
    "* Eliminar el caso que contenga valores perdidos: este método sería muy arriesgado ya que, si hay muchos valores perdidos, perderíamos gran parte del dataset.\n",
    "* Eliminar la variable que contenga valores perdidos: este método tampoco lo vamos a usar, porque, aunque los valores NA solo aparecen en la variable bareNuclei, perderíamos muchos datos si eliminásemos dicha variable.\n",
    "* Rellenar valores perdidos con algún valor concreto: en nuestro caso, esta será la técnica que vamos a usar, y rellenaremos los valores con la media."
   ]
  },
  {
   "cell_type": "code",
   "execution_count": 18,
   "metadata": {},
   "outputs": [],
   "source": [
    "# Calculamos el vector de medias\n",
    "meansValues2 = df2.mean()\n",
    "prueba2=df2_sinId.copy()\n",
    "\n",
    "# Ahora lo usamos para rellenar:\n",
    "cleanDf2 = prueba2.fillna( meansValues2 )"
   ]
  },
  {
   "cell_type": "code",
   "execution_count": 19,
   "metadata": {},
   "outputs": [
    {
     "data": {
      "image/png": "[encoded data removed]",
      "text/plain": [
       "<matplotlib.figure.Figure at 0x7f29b0b94eb8>"
      ]
     },
     "metadata": {},
     "output_type": "display_data"
    }
   ],
   "source": [
    "gMultipleHistogram(cleanDf2)"
   ]
  },
  {
   "cell_type": "markdown",
   "metadata": {},
   "source": [
    "### La clase"
   ]
  },
  {
   "cell_type": "markdown",
   "metadata": {},
   "source": [
    "Para ver la distribución de la clase, usaremos los diagramas de barras que aparecen a continuación."
   ]
  },
  {
   "cell_type": "code",
   "execution_count": 20,
   "metadata": {},
   "outputs": [],
   "source": [
    "def gSingleBarplot(targetDf, targetVar):\n",
    "    sns.countplot(data=targetDf, x=targetVar)"
   ]
  },
  {
   "cell_type": "code",
   "execution_count": 87,
   "metadata": {},
   "outputs": [
    {
     "data": {
      "image/png": "[encoded data removed]",
      "text/plain": [
       "<matplotlib.figure.Figure at 0x7f29b13ed0b8>"
      ]
     },
     "metadata": {},
     "output_type": "display_data"
    }
   ],
   "source": [
    "gSingleBarplot(cleanDf1, \"label\") #para ver los 2 estados de la variable categorica"
   ]
  },
  {
   "cell_type": "code",
   "execution_count": 22,
   "metadata": {},
   "outputs": [
    {
     "data": {
      "image/png": "[encoded data removed]",
      "text/plain": [
       "<matplotlib.figure.Figure at 0x7f29b0b5ac18>"
      ]
     },
     "metadata": {},
     "output_type": "display_data"
    }
   ],
   "source": [
    "gSingleBarplot(cleanDf2, \"label\") #para ver los 2 estados de la variable categorica"
   ]
  },
  {
   "cell_type": "markdown",
   "metadata": {},
   "source": [
    "Como vemos, hay más casos clasificados como tested_negative que como tested_positive. Y lo mismo ocurre con el dataset wisconsin: hay más casos de bening que de malign.\n",
    "\n",
    "Por ello, a la hora de realizar las particiones de Train y Test para nuestro proceso de holdout, tendremos que tener en cuenta esta proporción de casos."
   ]
  },
  {
   "cell_type": "markdown",
   "metadata": {},
   "source": [
    "## 2. Aprendizaje y evaluación de un clasificador zeroR (con holdout)."
   ]
  },
  {
   "cell_type": "code",
   "execution_count": 88,
   "metadata": {},
   "outputs": [
    {
     "data": {
      "text/plain": [
       "0    tested_negative\n",
       "Name: label, dtype: category\n",
       "Categories (2, object): [tested_negative, tested_positive]"
      ]
     },
     "execution_count": 88,
     "metadata": {},
     "output_type": "execute_result"
    }
   ],
   "source": [
    "cleanDf1.label.mode()"
   ]
  },
  {
   "cell_type": "code",
   "execution_count": 89,
   "metadata": {},
   "outputs": [
    {
     "data": {
      "text/plain": [
       "0    benign\n",
       "Name: label, dtype: category\n",
       "Categories (2, object): [benign, malignant]"
      ]
     },
     "execution_count": 89,
     "metadata": {},
     "output_type": "execute_result"
    }
   ],
   "source": [
    "cleanDf2.label.mode()"
   ]
  },
  {
   "cell_type": "markdown",
   "metadata": {},
   "source": [
    "Primero debemos usar la función trainZeroR, que se nos proporcionaba en el guión de la práctica 1, para crear nuestro clasificador ZeroR. Con este clasificador, nuevas instancias en el dataset deberán ser predichas usando la etiqueta mayoritaria en nuestra variable clase (label). Para ello, creamos una nueva columna en el dataset llamada prediction."
   ]
  },
  {
   "cell_type": "code",
   "execution_count": 90,
   "metadata": {},
   "outputs": [],
   "source": [
    "# This is the outer function that should return the classifier function\n",
    "def trainZeroR(trainingData):\n",
    "    # We first learn the parameters, aka, the most probable class\n",
    "    # Tip! get the class variable mode and take the first value\n",
    "    majorClass = trainingData.label.mode()[0]# <-- COMPLETE\n",
    "    \n",
    "    # Now we create and return the classifier function\n",
    "    def classifier( data ):\n",
    "        return data.assign( prediction=majorClass ) # <-- COMPLETE\n",
    "    \n",
    "    return classifier"
   ]
  },
  {
   "cell_type": "markdown",
   "metadata": {},
   "source": [
    "Antes de probar el clasificador con nuestros datasets, debemos realizar un proceso de holdout estratificado, en el que haya una parte proporcionada de la base de datos que se utilice para entrenar el clasificador (Train), y otra parte del dataset que usemos para validar nuestro modelo aprendido (Test). \n",
    "\n",
    "Lo primero que debemos hacer es desordenar la base de datos usando nuestra semilla (declarada al principio del cuaderno) para que permute los índices de los casos, consiguiendo así una partición balanceada de los casos.\n",
    "\n",
    "La función train_test_split se encarga de hacer esto, y también de realizar la partición en dos conjuntos Train y Test."
   ]
  },
  {
   "cell_type": "code",
   "execution_count": 91,
   "metadata": {},
   "outputs": [],
   "source": [
    "# We must always divide our dataset into attributes and label\n",
    "attributesdf1 = cleanDf1.drop('label', 1)\n",
    "labeldf1 = cleanDf1['label']\n",
    "\n",
    "attributesdf2 = cleanDf2.drop('label', 1)\n",
    "labeldf2 = cleanDf2['label']"
   ]
  },
  {
   "cell_type": "code",
   "execution_count": 92,
   "metadata": {},
   "outputs": [],
   "source": [
    "from sklearn.model_selection import train_test_split\n",
    "train_atts1, test_atts1, train_label1, test_label1 = train_test_split( \n",
    "    attributesdf1, # Dataset con los atributos\n",
    "    labeldf1, # Vector/dataset con la clase\n",
    "    test_size=0.4, # Proporcion de test\n",
    "    random_state=seed, # Semilla\n",
    "    stratify=labeldf1) # Variable a estratificar"
   ]
  },
  {
   "cell_type": "code",
   "execution_count": 93,
   "metadata": {},
   "outputs": [],
   "source": [
    "from sklearn.model_selection import train_test_split\n",
    "train_atts2, test_atts2, train_label2, test_label2 = train_test_split( \n",
    "    attributesdf2, # Dataset con los atributos\n",
    "    labeldf2, # Vector/dataset con la clase\n",
    "    test_size=0.4, # Proporcion de test\n",
    "    random_state=seed, # Semilla\n",
    "    stratify=labeldf2) # Variable a estratificar"
   ]
  },
  {
   "cell_type": "code",
   "execution_count": 94,
   "metadata": {},
   "outputs": [],
   "source": [
    "pimaTraining = train_atts1.assign(label = train_label1)\n",
    "pimaTest = test_atts1.assign(label = test_label1)\n",
    "\n",
    "wisconsinTraining = train_atts2.assign(label = train_label2)\n",
    "wisconsinTest = test_atts2.assign(label = test_label2)"
   ]
  },
  {
   "cell_type": "code",
   "execution_count": 95,
   "metadata": {},
   "outputs": [
    {
     "data": {
      "image/png": "[encoded data removed]",
      "text/plain": [
       "<matplotlib.figure.Figure at 0x7f29b0c73400>"
      ]
     },
     "metadata": {},
     "output_type": "display_data"
    }
   ],
   "source": [
    "gSingleBarplot(pimaTraining, \"label\")"
   ]
  },
  {
   "cell_type": "code",
   "execution_count": 96,
   "metadata": {},
   "outputs": [
    {
     "data": {
      "image/png": "[encoded data removed]",
      "text/plain": [
       "<matplotlib.figure.Figure at 0x7f29b12e8a90>"
      ]
     },
     "metadata": {},
     "output_type": "display_data"
    }
   ],
   "source": [
    "gSingleBarplot(wisconsinTraining, \"label\")"
   ]
  },
  {
   "cell_type": "markdown",
   "metadata": {},
   "source": [
    "A continuación usamos la función trainAndEvalClassifier del guión de la práctica1, para entrenar el clasificador, y validarlo con el conjunto de test."
   ]
  },
  {
   "cell_type": "code",
   "execution_count": 97,
   "metadata": {},
   "outputs": [],
   "source": [
    "# The star notated argument are cale varargs, and can be passed to inner functions\n",
    "def trainAndEvalClassifier(classifier, trainingDf, testDf, **kwargs):\n",
    "    model = classifier(trainingDf, **kwargs)\n",
    "    predictedDf = model(testDf)\n",
    "    tab = pd.crosstab(predictedDf['label'], predictedDf['prediction'])\n",
    "    comparison = predictedDf[predictedDf['label'] == predictedDf['prediction'] ]\n",
    "    accuracy = len(comparison) / len(predictedDf)\n",
    "    return (tab, accuracy)"
   ]
  },
  {
   "cell_type": "markdown",
   "metadata": {},
   "source": [
    "Primero con pima"
   ]
  },
  {
   "cell_type": "code",
   "execution_count": 98,
   "metadata": {},
   "outputs": [],
   "source": [
    "(tab1, accuracy1) = trainAndEvalClassifier(trainZeroR, pimaTraining, pimaTest)"
   ]
  },
  {
   "cell_type": "code",
   "execution_count": 99,
   "metadata": {},
   "outputs": [
    {
     "data": {
      "text/html": [
       "<div>\n",
       "<style>\n",
       "    .dataframe thead tr:only-child th {\n",
       "        text-align: right;\n",
       "    }\n",
       "\n",
       "    .dataframe thead th {\n",
       "        text-align: left;\n",
       "    }\n",
       "\n",
       "    .dataframe tbody tr th {\n",
       "        vertical-align: top;\n",
       "    }\n",
       "</style>\n",
       "<table border=\"1\" class=\"dataframe\">\n",
       "  <thead>\n",
       "    <tr style=\"text-align: right;\">\n",
       "      <th>prediction</th>\n",
       "      <th>tested_negative</th>\n",
       "    </tr>\n",
       "    <tr>\n",
       "      <th>label</th>\n",
       "      <th></th>\n",
       "    </tr>\n",
       "  </thead>\n",
       "  <tbody>\n",
       "    <tr>\n",
       "      <th>tested_negative</th>\n",
       "      <td>201</td>\n",
       "    </tr>\n",
       "    <tr>\n",
       "      <th>tested_positive</th>\n",
       "      <td>107</td>\n",
       "    </tr>\n",
       "  </tbody>\n",
       "</table>\n",
       "</div>"
      ],
      "text/plain": [
       "prediction       tested_negative\n",
       "label                           \n",
       "tested_negative              201\n",
       "tested_positive              107"
      ]
     },
     "execution_count": 99,
     "metadata": {},
     "output_type": "execute_result"
    }
   ],
   "source": [
    "tab1"
   ]
  },
  {
   "cell_type": "code",
   "execution_count": 100,
   "metadata": {},
   "outputs": [
    {
     "name": "stdout",
     "output_type": "stream",
     "text": [
      "Accuracy pima ZeroR: 0.6525974025974026\n"
     ]
    }
   ],
   "source": [
    "print(\"Accuracy pima ZeroR:\", accuracy1)"
   ]
  },
  {
   "cell_type": "markdown",
   "metadata": {},
   "source": [
    "Y ahora con el dataset wisconsin"
   ]
  },
  {
   "cell_type": "code",
   "execution_count": 101,
   "metadata": {},
   "outputs": [],
   "source": [
    "(tab2, accuracy2) = trainAndEvalClassifier(trainZeroR, wisconsinTraining, wisconsinTest)"
   ]
  },
  {
   "cell_type": "code",
   "execution_count": 102,
   "metadata": {},
   "outputs": [
    {
     "data": {
      "text/html": [
       "<div>\n",
       "<style>\n",
       "    .dataframe thead tr:only-child th {\n",
       "        text-align: right;\n",
       "    }\n",
       "\n",
       "    .dataframe thead th {\n",
       "        text-align: left;\n",
       "    }\n",
       "\n",
       "    .dataframe tbody tr th {\n",
       "        vertical-align: top;\n",
       "    }\n",
       "</style>\n",
       "<table border=\"1\" class=\"dataframe\">\n",
       "  <thead>\n",
       "    <tr style=\"text-align: right;\">\n",
       "      <th>prediction</th>\n",
       "      <th>benign</th>\n",
       "    </tr>\n",
       "    <tr>\n",
       "      <th>label</th>\n",
       "      <th></th>\n",
       "    </tr>\n",
       "  </thead>\n",
       "  <tbody>\n",
       "    <tr>\n",
       "      <th>benign</th>\n",
       "      <td>183</td>\n",
       "    </tr>\n",
       "    <tr>\n",
       "      <th>malignant</th>\n",
       "      <td>97</td>\n",
       "    </tr>\n",
       "  </tbody>\n",
       "</table>\n",
       "</div>"
      ],
      "text/plain": [
       "prediction  benign\n",
       "label             \n",
       "benign         183\n",
       "malignant       97"
      ]
     },
     "execution_count": 102,
     "metadata": {},
     "output_type": "execute_result"
    }
   ],
   "source": [
    "tab2"
   ]
  },
  {
   "cell_type": "code",
   "execution_count": 38,
   "metadata": {},
   "outputs": [
    {
     "name": "stdout",
     "output_type": "stream",
     "text": [
      "Accuracy wisconsin ZeroR: 0.6535714285714286\n"
     ]
    }
   ],
   "source": [
    "print(\"Accuracy wisconsin ZeroR:\", accuracy2)"
   ]
  },
  {
   "cell_type": "markdown",
   "metadata": {},
   "source": [
    "Como el ZeroR siempre predice la clase mayoritaria, todos los casos que no pertenezcan a esta, serán mal clasificados. El accuracy solo mide la tasa de aciertos conseguida, por lo que no tiene en cuenta las instancias mal clasificadas. Para saber si este clasificador es verdaderamente bueno, deberíamos analizar su curva ROC y el AUC, ya que esta medida tiene en cuenta tanto los aciertos como los fallos en las predicciones."
   ]
  },
  {
   "cell_type": "markdown",
   "metadata": {},
   "source": [
    "## 3. Aprendizaje y evaluación de un clasificador oneR (con holdout)."
   ]
  },
  {
   "cell_type": "markdown",
   "metadata": {},
   "source": [
    "Para implementar este clasificador usamos la función trainOneR que se nos proporcionaba (incompleta) en el guión de la práctica 1. Esta función recibe como parámetros el conjunto de Train y el número de particiones que deberá realizar para entrenar dicho conjunto.\n",
    "\n",
    "Lo primero que hace esta función es recorrer los atributos del dataset. Para cada atributo, realiza una partición en 3 bins para poder discretizar sus valores, y después forma la matriz de confusión y calcula el error cometido.\n",
    "\n",
    "Una vez hecho esto para todos los atributos del dataset, nos quedaremos con el atributo que menor error haya conseguido en sus predicciones, y guardaremos los valores asignados de la clase para cada uno de los intervalos de dicho atributo.\n",
    "\n",
    "Por último, solo queda probar con el conjunto de Test. Para cada nueva instancia, se comprobará en qué intervalo (de los creados para el mejor atributo) cae su valor para el atributo elegido, y le asignaremos la clase que corresponda a dicho intervalo. "
   ]
  },
  {
   "cell_type": "code",
   "execution_count": 103,
   "metadata": {},
   "outputs": [],
   "source": [
    "# Complete the code when indicated with ???\n",
    "\n",
    "# Outer learning function, hyperparameter nbins=1 is equivalent to zeroR if all attributes are continuous\n",
    "def trainOneR(trainingData, nbins = 1, debug = True):\n",
    "    # Debug: \n",
    "    if debug:\n",
    "        print(\"-----------------------------------\")\n",
    "        print(\"Training OneR\")\n",
    "        print(\"-----------------------------------\")\n",
    "        print(\"attribute\\terror\")\n",
    "    # ------------------------------------\n",
    "\n",
    "    # Loop maximization variables\n",
    "    best_attribute = ''\n",
    "    best_partitions = []\n",
    "    best_classes = []\n",
    "    best_error =  float(\"inf\")\n",
    "\n",
    "    # We discretize each attribute and compute its error\n",
    "    for att in trainingData.columns.values: \n",
    "        # We must ignore the class variable\n",
    "        if att == 'label': continue\n",
    "\n",
    "        # First we generate the partitions\n",
    "        (attribute, bins) = pd.cut(trainingData[att], bins=3, retbins=True) #los bins son por igual anchura\n",
    "        \n",
    "        # The we must compute the error\n",
    "        tab = pd.crosstab(attribute, trainingData['label'])\n",
    "        #print(tab)\n",
    "        error = sum( [ sum(f) - max(f) for f in tab.values ] ) #para cada fila calculamos su error y sumamos para obtener el total\n",
    "\n",
    "        # We can show each variable individual error\n",
    "        if debug:\n",
    "            print(att, \"\\t\", error)\n",
    "        # ----------------------------------------\n",
    "        \n",
    "        # Lastly we compare if this attribute is better than the previous local optima\n",
    "        if (error < best_error):\n",
    "            # If that is the case we store it as the current local optima\n",
    "            best_attribute  = att\n",
    "            best_partitions = bins[1:]\n",
    "            # We must store the majority class for each interval in order to assign it\n",
    "            # during classification\n",
    "            best_classes = [ tab.columns[f.argmax()] for f in tab.values ] #para cada intervalo, calculamos la clase mayoritaria\n",
    "            best_error = error\n",
    "\n",
    "    # Now we generate the classifier function regarding the previous parameters\n",
    "    def classifier( testData ):\n",
    "        # It simply assigns the majority class for each interval\n",
    "        # For that we can use an auxiliar function to check which interval the current value\n",
    "        # for the optimal attribute belongs to and assign the stored majority class\n",
    "        def assignClass( attValue ):\n",
    "            for i in range(len(best_partitions)):\n",
    "                if attValue <= best_partitions[i]:\n",
    "                    return best_classes[i]\n",
    "\n",
    "        # Now we apply the previous function to all the instances in the dataset\n",
    "        # Remember that when using map in python3 we must cast the result as list\n",
    "        prediction = list(map( assignClass, testData[best_attribute] ))\n",
    "        return testData.assign( prediction=prediction )\n",
    "    \n",
    "    print(\"-----------------------------------\")\n",
    "    print(\"Best Attribute: \", best_attribute)\n",
    "    return classifier"
   ]
  },
  {
   "cell_type": "markdown",
   "metadata": {},
   "source": [
    "A continuación usamos la función trainAndEvalClassifier del guión de la práctica1, para entrenar el clasificador, y validarlo con el conjunto de test."
   ]
  },
  {
   "cell_type": "code",
   "execution_count": 104,
   "metadata": {},
   "outputs": [
    {
     "name": "stdout",
     "output_type": "stream",
     "text": [
      "-----------------------------------\n",
      "Training OneR\n",
      "-----------------------------------\n",
      "attribute\terror\n",
      "preg \t 153\n",
      "plas \t 123\n",
      "pres \t 161\n",
      "skin \t 160\n",
      "insu \t 157\n",
      "mass \t 158\n",
      "pedi \t 161\n",
      "age \t 151\n",
      "-----------------------------------\n",
      "Best Attribute:  plas\n"
     ]
    }
   ],
   "source": [
    "(tab1, accuracy1) = trainAndEvalClassifier(trainOneR, pimaTraining, pimaTest, nbins=len(df1.label.unique()))"
   ]
  },
  {
   "cell_type": "code",
   "execution_count": 105,
   "metadata": {},
   "outputs": [
    {
     "data": {
      "text/html": [
       "<div>\n",
       "<style>\n",
       "    .dataframe thead tr:only-child th {\n",
       "        text-align: right;\n",
       "    }\n",
       "\n",
       "    .dataframe thead th {\n",
       "        text-align: left;\n",
       "    }\n",
       "\n",
       "    .dataframe tbody tr th {\n",
       "        vertical-align: top;\n",
       "    }\n",
       "</style>\n",
       "<table border=\"1\" class=\"dataframe\">\n",
       "  <thead>\n",
       "    <tr style=\"text-align: right;\">\n",
       "      <th>prediction</th>\n",
       "      <th>tested_negative</th>\n",
       "      <th>tested_positive</th>\n",
       "    </tr>\n",
       "    <tr>\n",
       "      <th>label</th>\n",
       "      <th></th>\n",
       "      <th></th>\n",
       "    </tr>\n",
       "  </thead>\n",
       "  <tbody>\n",
       "    <tr>\n",
       "      <th>tested_negative</th>\n",
       "      <td>191</td>\n",
       "      <td>10</td>\n",
       "    </tr>\n",
       "    <tr>\n",
       "      <th>tested_positive</th>\n",
       "      <td>65</td>\n",
       "      <td>42</td>\n",
       "    </tr>\n",
       "  </tbody>\n",
       "</table>\n",
       "</div>"
      ],
      "text/plain": [
       "prediction       tested_negative  tested_positive\n",
       "label                                            \n",
       "tested_negative              191               10\n",
       "tested_positive               65               42"
      ]
     },
     "execution_count": 105,
     "metadata": {},
     "output_type": "execute_result"
    }
   ],
   "source": [
    "tab1"
   ]
  },
  {
   "cell_type": "code",
   "execution_count": 106,
   "metadata": {},
   "outputs": [
    {
     "name": "stdout",
     "output_type": "stream",
     "text": [
      "Accuracy pima OneR:  0.7564935064935064\n"
     ]
    }
   ],
   "source": [
    "print(\"Accuracy pima OneR: \",accuracy1)"
   ]
  },
  {
   "cell_type": "markdown",
   "metadata": {},
   "source": [
    "Este accuracy es más alto que el obtenido con ZeroR, por lo que podríamos concluir que los casos se clasifican algo mejor teniendo en cuenta una de las variables del dataset. Sin embargo, no podríamos clasificar los casos en base a un solo atributo del dataset, deberíamos analizar los demás atributos para saber cuál es la clase a la que pertenecerían."
   ]
  },
  {
   "cell_type": "code",
   "execution_count": 107,
   "metadata": {},
   "outputs": [
    {
     "name": "stdout",
     "output_type": "stream",
     "text": [
      "-----------------------------------\n",
      "Training OneR\n",
      "-----------------------------------\n",
      "attribute\terror\n",
      "clumpThickness \t 70\n",
      "cellSize \t 45\n",
      "CellShape \t 44\n",
      "marginalAdhesion \t 71\n",
      "epithelialSize \t 76\n",
      "bareNuclei \t 42\n",
      "blandChromatin \t 57\n",
      "normalNucleoli \t 65\n",
      "mitoses \t 123\n",
      "-----------------------------------\n",
      "Best Attribute:  bareNuclei\n"
     ]
    }
   ],
   "source": [
    "(tab2, accuracy2) = trainAndEvalClassifier(trainOneR, wisconsinTraining, wisconsinTest, nbins=len(cleanDf2.label.unique()))"
   ]
  },
  {
   "cell_type": "code",
   "execution_count": 108,
   "metadata": {},
   "outputs": [
    {
     "data": {
      "text/html": [
       "<div>\n",
       "<style>\n",
       "    .dataframe thead tr:only-child th {\n",
       "        text-align: right;\n",
       "    }\n",
       "\n",
       "    .dataframe thead th {\n",
       "        text-align: left;\n",
       "    }\n",
       "\n",
       "    .dataframe tbody tr th {\n",
       "        vertical-align: top;\n",
       "    }\n",
       "</style>\n",
       "<table border=\"1\" class=\"dataframe\">\n",
       "  <thead>\n",
       "    <tr style=\"text-align: right;\">\n",
       "      <th>prediction</th>\n",
       "      <th>benign</th>\n",
       "      <th>malignant</th>\n",
       "    </tr>\n",
       "    <tr>\n",
       "      <th>label</th>\n",
       "      <th></th>\n",
       "      <th></th>\n",
       "    </tr>\n",
       "  </thead>\n",
       "  <tbody>\n",
       "    <tr>\n",
       "      <th>benign</th>\n",
       "      <td>178</td>\n",
       "      <td>5</td>\n",
       "    </tr>\n",
       "    <tr>\n",
       "      <th>malignant</th>\n",
       "      <td>25</td>\n",
       "      <td>72</td>\n",
       "    </tr>\n",
       "  </tbody>\n",
       "</table>\n",
       "</div>"
      ],
      "text/plain": [
       "prediction  benign  malignant\n",
       "label                        \n",
       "benign         178          5\n",
       "malignant       25         72"
      ]
     },
     "execution_count": 108,
     "metadata": {},
     "output_type": "execute_result"
    }
   ],
   "source": [
    "tab2"
   ]
  },
  {
   "cell_type": "code",
   "execution_count": 109,
   "metadata": {},
   "outputs": [
    {
     "name": "stdout",
     "output_type": "stream",
     "text": [
      "Accuracy wisconsin OneR:  0.8928571428571429\n"
     ]
    }
   ],
   "source": [
    "print(\"Accuracy wisconsin OneR: \",accuracy2)"
   ]
  },
  {
   "cell_type": "markdown",
   "metadata": {},
   "source": [
    "Este accuracy es más alto que el obtenido con ZeroR, por lo que deberíamos pensar que es necesario tener en cuenta más atributos a la hora de clasificar las instancias."
   ]
  },
  {
   "cell_type": "markdown",
   "metadata": {},
   "source": [
    "### Algunas consideraciones"
   ]
  },
  {
   "cell_type": "markdown",
   "metadata": {},
   "source": [
    "Como hemos visto con el clasificador OneR, los mejores atributos para los dataset pima y wisconsin, respectivamente, son plas y bareNuclei. Al analizar sus diagramas de cajas, vemos claramente que existe una diferenciación de la clase teniendo en cuenta estos atributos, sobretodo en el dataset wisconsin usando el atributo bareNuclei."
   ]
  },
  {
   "cell_type": "code",
   "execution_count": 110,
   "metadata": {},
   "outputs": [],
   "source": [
    "def gSingleBoxplot(targetdf, att):\n",
    "    sns.boxplot(x='label', y=att, data=targetdf)"
   ]
  },
  {
   "cell_type": "code",
   "execution_count": 111,
   "metadata": {},
   "outputs": [
    {
     "data": {
      "image/png": "[encoded data removed]",
      "text/plain": [
       "<matplotlib.figure.Figure at 0x7f29a8a93588>"
      ]
     },
     "metadata": {},
     "output_type": "display_data"
    }
   ],
   "source": [
    "gSingleBoxplot(df1,'plas')"
   ]
  },
  {
   "cell_type": "code",
   "execution_count": 112,
   "metadata": {},
   "outputs": [
    {
     "data": {
      "image/png": "[encoded data removed]",
      "text/plain": [
       "<matplotlib.figure.Figure at 0x7f29b0f32ef0>"
      ]
     },
     "metadata": {},
     "output_type": "display_data"
    }
   ],
   "source": [
    "gSingleBoxplot(cleanDf2,'bareNuclei')"
   ]
  },
  {
   "cell_type": "markdown",
   "metadata": {},
   "source": [
    "## 4. Aprendizaje y evaluación de un árbol de decisión (con holdout)."
   ]
  },
  {
   "cell_type": "markdown",
   "metadata": {},
   "source": [
    "Para utilizar este algoritmo debemos usar el paquete scikit-learn, tal y como aparece en el guión de la práctica 1, para poder aprender un árbol de decisión para cada uno de nuestros dos datasets. "
   ]
  },
  {
   "cell_type": "code",
   "execution_count": 113,
   "metadata": {},
   "outputs": [],
   "source": [
    "from sklearn import tree\n",
    "# Init the models(set hyperparameters)\n",
    "model1 = tree.DecisionTreeClassifier(random_state=seed)\n",
    "model2 = tree.DecisionTreeClassifier(random_state=seed)"
   ]
  },
  {
   "cell_type": "markdown",
   "metadata": {},
   "source": [
    "Como ya venimos haciendo en procesos anteriores, esta librería necesita que nuestros conjuntos de entrenamiento provenientes de los datasets estén separados en dos conjuntos de datos: por un lado los atributos y por otro la clase."
   ]
  },
  {
   "cell_type": "code",
   "execution_count": 114,
   "metadata": {},
   "outputs": [],
   "source": [
    "features1 = pimaTraining.drop('label',1)\n",
    "labels1 = pimaTraining['label']\n",
    "\n",
    "features2 = wisconsinTraining.drop('label',1)\n",
    "labels2 = wisconsinTraining['label']"
   ]
  },
  {
   "cell_type": "markdown",
   "metadata": {},
   "source": [
    "A continuación, debemos aprender un modelo para cada uno de nuestros datasets usando la función fit de la librería."
   ]
  },
  {
   "cell_type": "code",
   "execution_count": 115,
   "metadata": {},
   "outputs": [],
   "source": [
    "# Use fit to learn from a configured model\n",
    "classifier1 = model1.fit(features1, labels1)\n",
    "classifier2 = model2.fit(features2, labels2)"
   ]
  },
  {
   "cell_type": "markdown",
   "metadata": {},
   "source": [
    "Por último, usamos el conjunto de test para predecir la clase de cada una de las instancias, y comprobamos los resultados con su matriz de confunsión y el accuracy."
   ]
  },
  {
   "cell_type": "code",
   "execution_count": 116,
   "metadata": {},
   "outputs": [],
   "source": [
    "testFeatures1 = pimaTest.drop('label',1)\n",
    "prediction1 = classifier1.predict(testFeatures1)\n",
    "\n",
    "testFeatures2 = wisconsinTest.drop('label',1)\n",
    "prediction2 = classifier2.predict(testFeatures2)"
   ]
  },
  {
   "cell_type": "code",
   "execution_count": 117,
   "metadata": {},
   "outputs": [
    {
     "data": {
      "text/html": [
       "<div>\n",
       "<style>\n",
       "    .dataframe thead tr:only-child th {\n",
       "        text-align: right;\n",
       "    }\n",
       "\n",
       "    .dataframe thead th {\n",
       "        text-align: left;\n",
       "    }\n",
       "\n",
       "    .dataframe tbody tr th {\n",
       "        vertical-align: top;\n",
       "    }\n",
       "</style>\n",
       "<table border=\"1\" class=\"dataframe\">\n",
       "  <thead>\n",
       "    <tr style=\"text-align: right;\">\n",
       "      <th>col_0</th>\n",
       "      <th>tested_negative</th>\n",
       "      <th>tested_positive</th>\n",
       "    </tr>\n",
       "    <tr>\n",
       "      <th>label</th>\n",
       "      <th></th>\n",
       "      <th></th>\n",
       "    </tr>\n",
       "  </thead>\n",
       "  <tbody>\n",
       "    <tr>\n",
       "      <th>tested_negative</th>\n",
       "      <td>153</td>\n",
       "      <td>48</td>\n",
       "    </tr>\n",
       "    <tr>\n",
       "      <th>tested_positive</th>\n",
       "      <td>38</td>\n",
       "      <td>69</td>\n",
       "    </tr>\n",
       "  </tbody>\n",
       "</table>\n",
       "</div>"
      ],
      "text/plain": [
       "col_0            tested_negative  tested_positive\n",
       "label                                            \n",
       "tested_negative              153               48\n",
       "tested_positive               38               69"
      ]
     },
     "execution_count": 117,
     "metadata": {},
     "output_type": "execute_result"
    }
   ],
   "source": [
    "pd.crosstab(pimaTest['label'], prediction1)"
   ]
  },
  {
   "cell_type": "code",
   "execution_count": 118,
   "metadata": {},
   "outputs": [
    {
     "data": {
      "text/html": [
       "<div>\n",
       "<style>\n",
       "    .dataframe thead tr:only-child th {\n",
       "        text-align: right;\n",
       "    }\n",
       "\n",
       "    .dataframe thead th {\n",
       "        text-align: left;\n",
       "    }\n",
       "\n",
       "    .dataframe tbody tr th {\n",
       "        vertical-align: top;\n",
       "    }\n",
       "</style>\n",
       "<table border=\"1\" class=\"dataframe\">\n",
       "  <thead>\n",
       "    <tr style=\"text-align: right;\">\n",
       "      <th>col_0</th>\n",
       "      <th>benign</th>\n",
       "      <th>malignant</th>\n",
       "    </tr>\n",
       "    <tr>\n",
       "      <th>label</th>\n",
       "      <th></th>\n",
       "      <th></th>\n",
       "    </tr>\n",
       "  </thead>\n",
       "  <tbody>\n",
       "    <tr>\n",
       "      <th>benign</th>\n",
       "      <td>178</td>\n",
       "      <td>5</td>\n",
       "    </tr>\n",
       "    <tr>\n",
       "      <th>malignant</th>\n",
       "      <td>12</td>\n",
       "      <td>85</td>\n",
       "    </tr>\n",
       "  </tbody>\n",
       "</table>\n",
       "</div>"
      ],
      "text/plain": [
       "col_0      benign  malignant\n",
       "label                       \n",
       "benign        178          5\n",
       "malignant      12         85"
      ]
     },
     "execution_count": 118,
     "metadata": {},
     "output_type": "execute_result"
    }
   ],
   "source": [
    "pd.crosstab(wisconsinTest['label'], prediction2)"
   ]
  },
  {
   "cell_type": "code",
   "execution_count": 119,
   "metadata": {},
   "outputs": [
    {
     "name": "stdout",
     "output_type": "stream",
     "text": [
      "Accuracy pima DecisionTree: 0.7207792207792207\n"
     ]
    }
   ],
   "source": [
    "comparison1 = pimaTest[pimaTest['label'] == prediction1]\n",
    "accuracy1 = len(comparison1) / len(pimaTest)\n",
    "print(\"Accuracy pima DecisionTree:\", accuracy1)"
   ]
  },
  {
   "cell_type": "markdown",
   "metadata": {},
   "source": [
    "Este accuracy no mejora mucho con respecto al clasificador OneR para el dataset pima, a pesar de que se tienen en cuenta más atributos a la hora de predecir la clase."
   ]
  },
  {
   "cell_type": "code",
   "execution_count": 120,
   "metadata": {},
   "outputs": [
    {
     "name": "stdout",
     "output_type": "stream",
     "text": [
      "Accuracy wisconsin DecisionTree: 0.9392857142857143\n"
     ]
    }
   ],
   "source": [
    "comparison2 = wisconsinTest[wisconsinTest['label'] == prediction2]\n",
    "accuracy2 = len(comparison2) / len(wisconsinTest)\n",
    "print(\"Accuracy wisconsin DecisionTree:\", accuracy2)"
   ]
  },
  {
   "cell_type": "markdown",
   "metadata": {},
   "source": [
    "El accuracy obtenido para el dataset wisconsin es mejor que el obtenido en el OneR, por lo que podemos concluir que ha sido una buena decisión tener en cuenta todos los atributos del dataset juntos para obtener una buena clasificación de nuestras instancias del conjunto de Test. Pero esto podría ser debido a que nuestro árbol de decisión a sobreajustado sus resultados demasiado al conjunto de Train y el conjunto de Test es demasiado parecido al conjunto de entrenamiento."
   ]
  }
 ],
 "metadata": {
  "kernelspec": {
   "display_name": "Python 3",
   "language": "python",
   "name": "python3"
  },
  "language_info": {
   "codemirror_mode": {
    "name": "ipython",
    "version": 3
   },
   "file_extension": ".py",
   "mimetype": "text/x-python",
   "name": "python",
   "nbconvert_exporter": "python",
   "pygments_lexer": "ipython3",
   "version": "3.6.2"
  }
 },
 "nbformat": 4,
 "nbformat_minor": 2
}
